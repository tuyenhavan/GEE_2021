{
 "cells": [
  {
   "cell_type": "markdown",
   "metadata": {},
   "source": [
    "This notebook is to provide the basics of `GEE` in Python. "
   ]
  },
  {
   "cell_type": "code",
   "execution_count": 1,
   "metadata": {},
   "outputs": [],
   "source": [
    "import ee\n",
    "import geemap as emap"
   ]
  },
  {
   "cell_type": "markdown",
   "metadata": {},
   "source": [
    "# <font color='blue'> Initialization of GEE </font>"
   ]
  },
  {
   "cell_type": "code",
   "execution_count": 2,
   "metadata": {},
   "outputs": [
    {
     "data": {
      "text/html": [
       "<p>To authorize access needed by Earth Engine, open the following\n",
       "        URL in a web browser and follow the instructions:</p>\n",
       "        <p><a href=https://accounts.google.com/o/oauth2/auth?client_id=517222506229-vsmmajv00ul0bs7p89v5m89qs8eb9359.apps.googleusercontent.com&scope=https%3A%2F%2Fwww.googleapis.com%2Fauth%2Fearthengine+https%3A%2F%2Fwww.googleapis.com%2Fauth%2Fdevstorage.full_control&redirect_uri=urn%3Aietf%3Awg%3Aoauth%3A2.0%3Aoob&response_type=code&code_challenge=QtLX0lu_eZ8NaO3RZTaNc8fiO1Nv7LFL1aWzmu12voo&code_challenge_method=S256>https://accounts.google.com/o/oauth2/auth?client_id=517222506229-vsmmajv00ul0bs7p89v5m89qs8eb9359.apps.googleusercontent.com&scope=https%3A%2F%2Fwww.googleapis.com%2Fauth%2Fearthengine+https%3A%2F%2Fwww.googleapis.com%2Fauth%2Fdevstorage.full_control&redirect_uri=urn%3Aietf%3Awg%3Aoauth%3A2.0%3Aoob&response_type=code&code_challenge=QtLX0lu_eZ8NaO3RZTaNc8fiO1Nv7LFL1aWzmu12voo&code_challenge_method=S256</a></p>\n",
       "        <p>The authorization workflow will generate a code, which you\n",
       "        should paste in the box below</p>\n",
       "        "
      ],
      "text/plain": [
       "<IPython.core.display.HTML object>"
      ]
     },
     "metadata": {},
     "output_type": "display_data"
    },
    {
     "name": "stdout",
     "output_type": "stream",
     "text": [
      "Enter verification code: 4/1AX4XfWgt8o24G1Civxj2-nkmkSrDA_YIHUbIbFbXqpxxR2sWbWpbK-6JKAs\n",
      "\n",
      "Successfully saved authorization token.\n"
     ]
    }
   ],
   "source": [
    "try: \n",
    "    ee.Initialize()\n",
    "    ee.Authenticate()\n",
    "except:\n",
    "    print(\"Errors\") "
   ]
  },
  {
   "cell_type": "markdown",
   "metadata": {},
   "source": [
    "# <font color='blue'> 1. String Object in GEE </font> "
   ]
  },
  {
   "cell_type": "code",
   "execution_count": 3,
   "metadata": {},
   "outputs": [
    {
     "name": "stdout",
     "output_type": "stream",
     "text": [
      "What's your name?\n"
     ]
    }
   ],
   "source": [
    "# Python string object\n",
    "print(\"What's your name?\")"
   ]
  },
  {
   "cell_type": "code",
   "execution_count": 4,
   "metadata": {},
   "outputs": [
    {
     "name": "stdout",
     "output_type": "stream",
     "text": [
      "ee.String({\n",
      "  \"constantValue\": \"Please send this text to GEE server\"\n",
      "})\n",
      "############################\n",
      "Please send this text to GEE server\n"
     ]
    }
   ],
   "source": [
    "# String object in GEE. \n",
    "ee_string=ee.String(\"Please send this text to GEE server\")\n",
    "print(ee_string)\n",
    "print(\"############################\")\n",
    "# They first sent the string to the server for evaluation and then sent it back to Python.\n",
    "print(ee_string.getInfo()) # Always use .getInfo() if you want to print out its content"
   ]
  },
  {
   "cell_type": "markdown",
   "metadata": {},
   "source": [
    "#  <font color='blue'>  2. Numbers  </font>"
   ]
  },
  {
   "cell_type": "code",
   "execution_count": 5,
   "metadata": {},
   "outputs": [
    {
     "name": "stdout",
     "output_type": "stream",
     "text": [
      "Number 34\n"
     ]
    }
   ],
   "source": [
    "# Python numbers\n",
    "number=34\n",
    "print(\"Number\", number)"
   ]
  },
  {
   "cell_type": "code",
   "execution_count": 5,
   "metadata": {},
   "outputs": [
    {
     "name": "stdout",
     "output_type": "stream",
     "text": [
      "34\n"
     ]
    }
   ],
   "source": [
    "# GEE server numbers. \n",
    "serverNumber=ee.Number(34)\n",
    "# They first sent number to GEE server and then sent it back to Python\n",
    "print(serverNumber.getInfo())"
   ]
  },
  {
   "cell_type": "markdown",
   "metadata": {},
   "source": [
    "# <font color=\"blue\"> 3. Methods on GEE Objects </font>"
   ]
  },
  {
   "cell_type": "code",
   "execution_count": 6,
   "metadata": {},
   "outputs": [
    {
     "name": "stdout",
     "output_type": "stream",
     "text": [
      "4.605170185988092\n"
     ]
    }
   ],
   "source": [
    "# Log in GEE\n",
    "print(ee.Number(100).log().getInfo()) # log(e)"
   ]
  },
  {
   "cell_type": "code",
   "execution_count": 8,
   "metadata": {},
   "outputs": [
    {
     "name": "stdout",
     "output_type": "stream",
     "text": [
      "['And', 'Not', 'Or', '_HAS_DYNAMIC_ATTRIBUTES', '__class__', '__delattr__', '__dict__', '__dir__', '__doc__', '__eq__', '__format__', '__ge__', '__getattribute__', '__gt__', '__hash__', '__init__', '__init_subclass__', '__le__', '__lt__', '__module__', '__ne__', '__new__', '__reduce__', '__reduce_ex__', '__repr__', '__setattr__', '__sizeof__', '__str__', '__subclasshook__', '__weakref__', '_cast', '_initialized', '_number', 'abs', 'acos', 'add', 'args', 'aside', 'asin', 'atan', 'atan2', 'bitCount', 'bitwiseAnd', 'bitwiseNot', 'bitwiseOr', 'bitwiseXor', 'bitwise_and', 'bitwise_not', 'bitwise_or', 'bitwise_xor', 'byte', 'cbrt', 'ceil', 'clamp', 'cos', 'cosh', 'digamma', 'divide', 'double', 'encode', 'encode_cloud_value', 'eq', 'erf', 'erfInv', 'erfc', 'erfcInv', 'exp', 'expression', 'first', 'firstNonZero', 'first_nonzero', 'float', 'floor', 'format', 'freeze', 'func', 'gamma', 'gammainc', 'getInfo', 'gt', 'gte', 'hypot', 'initialize', 'int', 'int16', 'int32', 'int64', 'int8', 'isVariable', 'lanczos', 'leftShift', 'left_shift', 'log', 'log10', 'long', 'lt', 'lte', 'max', 'min', 'mod', 'multiply', 'name', 'neq', 'parse', 'pow', 'reset', 'rightShift', 'right_shift', 'round', 'serialize', 'short', 'signum', 'sin', 'sinh', 'sqrt', 'subtract', 'tan', 'tanh', 'toByte', 'toDouble', 'toFloat', 'toInt', 'toInt16', 'toInt32', 'toInt64', 'toInt8', 'toLong', 'toShort', 'toUint16', 'toUint32', 'toUint8', 'trigamma', 'uint16', 'uint32', 'uint8', 'unitScale', 'varName']\n"
     ]
    }
   ],
   "source": [
    "num=ee.Number(10)\n",
    "# Print out all methods associated with ee.Number()\n",
    "print(dir(num)) # many methods available for \"num\" object"
   ]
  },
  {
   "cell_type": "code",
   "execution_count": 9,
   "metadata": {},
   "outputs": [
    {
     "name": "stdout",
     "output_type": "stream",
     "text": [
      "1\n"
     ]
    }
   ],
   "source": [
    "#Some Exapmles\n",
    "print(ee.Number(10).log10().getInfo()) # Log10(10)"
   ]
  },
  {
   "cell_type": "code",
   "execution_count": 10,
   "metadata": {},
   "outputs": [
    {
     "name": "stdout",
     "output_type": "stream",
     "text": [
      "9\n"
     ]
    }
   ],
   "source": [
    "# Power \n",
    "print(ee.Number(3).pow(2).getInfo()) # 3^2"
   ]
  },
  {
   "cell_type": "code",
   "execution_count": 11,
   "metadata": {},
   "outputs": [
    {
     "data": {
      "text/plain": [
       "5"
      ]
     },
     "execution_count": 11,
     "metadata": {},
     "output_type": "execute_result"
    }
   ],
   "source": [
    "# Using divide method \n",
    "ee.Number(10).divide(2).getInfo()"
   ]
  },
  {
   "cell_type": "code",
   "execution_count": 12,
   "metadata": {},
   "outputs": [
    {
     "data": {
      "text/plain": [
       "int"
      ]
     },
     "execution_count": 12,
     "metadata": {},
     "output_type": "execute_result"
    }
   ],
   "source": [
    " # Convert float to int32\n",
    "a=ee.Number(10.22).toInt32()\n",
    "\n",
    "type(a.getInfo())"
   ]
  },
  {
   "cell_type": "markdown",
   "metadata": {},
   "source": [
    "## <font color=\"blue\"> 3.1. Lists </font>"
   ]
  },
  {
   "cell_type": "code",
   "execution_count": 17,
   "metadata": {},
   "outputs": [
    {
     "name": "stdout",
     "output_type": "stream",
     "text": [
      "[1, 2, 3, 4]\n"
     ]
    }
   ],
   "source": [
    "# List in Python like \n",
    "python_list=[1,2,3,4]\n",
    "print(python_list)"
   ]
  },
  {
   "cell_type": "code",
   "execution_count": 18,
   "metadata": {},
   "outputs": [
    {
     "data": {
      "text/plain": [
       "[1, 2, 3, 4]"
      ]
     },
     "execution_count": 18,
     "metadata": {},
     "output_type": "execute_result"
    }
   ],
   "source": [
    "# Creating a list in GEE\n",
    "eeList=ee.List([1,2,3,4])\n",
    "# print(dir(eeList)) # print out all associated methods with ee.List\n",
    "eeList.getInfo()"
   ]
  },
  {
   "cell_type": "code",
   "execution_count": 19,
   "metadata": {},
   "outputs": [
    {
     "name": "stdout",
     "output_type": "stream",
     "text": [
      "Length of the list: 4\n"
     ]
    }
   ],
   "source": [
    "# We can print out the length of GEE list object\n",
    "print(\"Length of the list:\",eeList.length().getInfo())"
   ]
  },
  {
   "cell_type": "code",
   "execution_count": 25,
   "metadata": {},
   "outputs": [
    {
     "data": {
      "text/plain": [
       "[[3, 5], [2, 6], [4, 7], [5, 7]]"
      ]
     },
     "execution_count": 25,
     "metadata": {},
     "output_type": "execute_result"
    }
   ],
   "source": [
    "# Using zip() to make a pair of values\n",
    "list1=ee.List([3,2,4,5])\n",
    "list2=ee.List([5,6,7,7])\n",
    "zipList=list1.zip(list2).getInfo()\n",
    "zipList # This is a normal list"
   ]
  },
  {
   "cell_type": "code",
   "execution_count": 27,
   "metadata": {},
   "outputs": [
    {
     "data": {
      "text/plain": [
       "ee.ee_list.List"
      ]
     },
     "execution_count": 27,
     "metadata": {},
     "output_type": "execute_result"
    }
   ],
   "source": [
    "# Turn a Python list into a GEE list\n",
    "eeList=ee.List(zipList)\n",
    "\n",
    "type(eeList)"
   ]
  },
  {
   "cell_type": "code",
   "execution_count": 28,
   "metadata": {},
   "outputs": [
    {
     "name": "stdout",
     "output_type": "stream",
     "text": [
      "[2, 2, 2, 2, 2, 2, 2, 2, 2, 2]\n"
     ]
    }
   ],
   "source": [
    "# Repeat list demo\n",
    "repeatList=ee.List.repeat(2,10)\n",
    "\n",
    "print(repeatList.getInfo())"
   ]
  },
  {
   "cell_type": "code",
   "execution_count": 30,
   "metadata": {},
   "outputs": [
    {
     "data": {
      "text/plain": [
       "[2010, 2011, 2012, 2013, 2014, 2015, 2016, 2017, 2018, 2019, 2020]"
      ]
     },
     "execution_count": 30,
     "metadata": {},
     "output_type": "execute_result"
    }
   ],
   "source": [
    "# We can create a range of numbers\n",
    "mlist=ee.List.sequence(2010,2020) # for example years from 2010 to 2020. Note inclusive \n",
    "\n",
    "mlist.getInfo()"
   ]
  },
  {
   "cell_type": "markdown",
   "metadata": {},
   "source": [
    "#### List indexing"
   ]
  },
  {
   "cell_type": "code",
   "execution_count": 31,
   "metadata": {},
   "outputs": [
    {
     "data": {
      "text/plain": [
       "6"
      ]
     },
     "execution_count": 31,
     "metadata": {},
     "output_type": "execute_result"
    }
   ],
   "source": [
    "# Create a list\n",
    "eeList=ee.List.sequence(1,20)\n",
    "# Get value at a given index\n",
    "eeList.get(5).getInfo() # index at 5, starting from 0"
   ]
  },
  {
   "cell_type": "code",
   "execution_count": 32,
   "metadata": {},
   "outputs": [
    {
     "name": "stdout",
     "output_type": "stream",
     "text": [
      "Phep cong: 4, Phep tru: -3, Phep nhan: 3, Phep chia: 0.333\n",
      "Phep cong: 5, Phep tru: -2, Phep nhan: 6, Phep chia: 0.667\n",
      "Phep cong: 6, Phep tru: -1, Phep nhan: 9, Phep chia: 1\n",
      "Phep cong: 7, Phep tru: 0, Phep nhan: 12, Phep chia: 1.333\n",
      "Phep cong: 8, Phep tru: 1, Phep nhan: 15, Phep chia: 1.667\n",
      "Phep cong: 9, Phep tru: 2, Phep nhan: 18, Phep chia: 2\n",
      "Phep cong: 10, Phep tru: 3, Phep nhan: 21, Phep chia: 2.333\n",
      "Phep cong: 11, Phep tru: 4, Phep nhan: 24, Phep chia: 2.667\n",
      "Phep cong: 12, Phep tru: 5, Phep nhan: 27, Phep chia: 3\n",
      "Phep cong: 13, Phep tru: 6, Phep nhan: 30, Phep chia: 3.333\n",
      "Phep cong: 14, Phep tru: 7, Phep nhan: 33, Phep chia: 3.667\n",
      "Phep cong: 15, Phep tru: 8, Phep nhan: 36, Phep chia: 4\n",
      "Phep cong: 16, Phep tru: 9, Phep nhan: 39, Phep chia: 4.333\n",
      "Phep cong: 17, Phep tru: 10, Phep nhan: 42, Phep chia: 4.667\n",
      "Phep cong: 18, Phep tru: 11, Phep nhan: 45, Phep chia: 5\n",
      "Phep cong: 19, Phep tru: 12, Phep nhan: 48, Phep chia: 5.333\n",
      "Phep cong: 20, Phep tru: 13, Phep nhan: 51, Phep chia: 5.667\n",
      "Phep cong: 21, Phep tru: 14, Phep nhan: 54, Phep chia: 6\n",
      "Phep cong: 22, Phep tru: 15, Phep nhan: 57, Phep chia: 6.333\n",
      "Phep cong: 23, Phep tru: 16, Phep nhan: 60, Phep chia: 6.667\n"
     ]
    }
   ],
   "source": [
    "# Creating a list\n",
    "eeList=ee.List.sequence(1,20)\n",
    "# Make some calculation using for loop. Note  loop is not great for GEE\n",
    "for i in eeList.getInfo():\n",
    "    cong=ee.Number(i).add(ee.Number(3))\n",
    "    tru=ee.Number(i).subtract(4)\n",
    "    nhan=ee.Number(i).multiply(3)\n",
    "    chia=ee.Number(i).divide(3)\n",
    "    print(f\"Phep cong: {cong.getInfo()}, Phep tru: {tru.getInfo()}, Phep nhan: {nhan.getInfo()}, Phep chia: {round(chia.getInfo(),3)}\")"
   ]
  },
  {
   "cell_type": "code",
   "execution_count": 36,
   "metadata": {},
   "outputs": [
    {
     "name": "stdout",
     "output_type": "stream",
     "text": [
      "Tháng 1 năm 2010\n",
      "Tháng 2 năm 2010\n",
      "Tháng 3 năm 2010\n",
      "Tháng 4 năm 2010\n",
      "Tháng 5 năm 2010\n",
      "Tháng 6 năm 2010\n",
      "Tháng 7 năm 2010\n",
      "Tháng 8 năm 2010\n",
      "Tháng 9 năm 2010\n",
      "Tháng 10 năm 2010\n",
      "Tháng 11 năm 2010\n",
      "Tháng 12 năm 2010\n"
     ]
    }
   ],
   "source": [
    "# Another example for creating each month for each year below\n",
    "month=ee.List.sequence(1,12)\n",
    "year=ee.List.sequence(2010,2010) # We can modify years \n",
    "\n",
    "for y in year.getInfo():\n",
    "    for m in month.getInfo():\n",
    "        print(f\"Tháng {m} năm {y}\")"
   ]
  },
  {
   "cell_type": "markdown",
   "metadata": {},
   "source": [
    "**Challenge**\n",
    "\n",
    "You are required to create a `GEE` list of numbers from 1 to 12 like below.\n",
    "\n",
    "ee.List(ee.Number(1), ee.Number(2),...,ee.Number(12))"
   ]
  },
  {
   "cell_type": "code",
   "execution_count": 39,
   "metadata": {},
   "outputs": [
    {
     "data": {
      "text/plain": [
       "[1, 2, 3, 4, 5, 6, 7, 8, 9, 10, 11, 12]"
      ]
     },
     "execution_count": 39,
     "metadata": {},
     "output_type": "execute_result"
    }
   ],
   "source": [
    "mlist=ee.List([ee.Number(i) for i in range(1,13)])\n",
    "\n",
    "mlist.getInfo()"
   ]
  },
  {
   "cell_type": "markdown",
   "metadata": {},
   "source": [
    "## <font color=\"blue\"> 3.2. Dictionary </font>"
   ]
  },
  {
   "cell_type": "code",
   "execution_count": 40,
   "metadata": {},
   "outputs": [
    {
     "name": "stdout",
     "output_type": "stream",
     "text": [
      "{' 1': 35, 'Address': 'Lap Thach, Vinh Phuc', 'Age': 34, 'Name': 'Ha Van Tuyen'}\n"
     ]
    }
   ],
   "source": [
    "# Return a dictionary\n",
    "eeDictionary=ee.Dictionary({\"Name\": \"Ha Van Tuyen\", \"Age\":34, \"Address\": \"Lap Thach, Vinh Phuc\",\" 1\":35})\n",
    "\n",
    "print(eeDictionary.getInfo())"
   ]
  },
  {
   "cell_type": "code",
   "execution_count": 41,
   "metadata": {},
   "outputs": [
    {
     "name": "stdout",
     "output_type": "stream",
     "text": [
      "[' 1', 'Address', 'Age', 'Name']\n"
     ]
    }
   ],
   "source": [
    "# Print out keys\n",
    "print(eeDictionary.keys().getInfo())"
   ]
  },
  {
   "cell_type": "code",
   "execution_count": 42,
   "metadata": {},
   "outputs": [
    {
     "name": "stdout",
     "output_type": "stream",
     "text": [
      " 1 : 35\n",
      "Address : Lap Thach, Vinh Phuc\n",
      "Age : 34\n",
      "Name : Ha Van Tuyen\n"
     ]
    }
   ],
   "source": [
    "# Loop over the dictionary\n",
    "for key in eeDictionary.keys().getInfo():\n",
    "    print(key,\":\",eeDictionary.get(key).getInfo())"
   ]
  },
  {
   "cell_type": "markdown",
   "metadata": {},
   "source": [
    "## <font color ='blue'> 3.3. Date time in GEE </font>"
   ]
  },
  {
   "cell_type": "code",
   "execution_count": 44,
   "metadata": {},
   "outputs": [
    {
     "name": "stdout",
     "output_type": "stream",
     "text": [
      "{'type': 'Date', 'value': 1608422400000}\n"
     ]
    }
   ],
   "source": [
    "# Define date in GEE\n",
    "eeDate=ee.Date(\"2020-12-20\")\n",
    "\n",
    "print(eeDate.getInfo()) # date below may not be human-readable. We will see:)"
   ]
  },
  {
   "cell_type": "code",
   "execution_count": 45,
   "metadata": {},
   "outputs": [
    {
     "name": "stdout",
     "output_type": "stream",
     "text": [
      "{'type': 'Date', 'value': 1608422400000}\n"
     ]
    }
   ],
   "source": [
    "# Alternatively\n",
    "eeDate=ee.Date.fromYMD(2020,12,20)\n",
    "\n",
    "print(eeDate.getInfo())"
   ]
  },
  {
   "cell_type": "code",
   "execution_count": 46,
   "metadata": {},
   "outputs": [
    {
     "name": "stdout",
     "output_type": "stream",
     "text": [
      "20-12-2020\n"
     ]
    }
   ],
   "source": [
    "# Get human readable datetime using .format()\n",
    "print(eeDate.format(\"dd-MM-YYYY\").getInfo())"
   ]
  },
  {
   "cell_type": "markdown",
   "metadata": {},
   "source": [
    "# <font color=\"blue\"> 4. Loop and Map </font>"
   ]
  },
  {
   "cell_type": "markdown",
   "metadata": {},
   "source": [
    "### Using loop \n",
    "\n",
    "Unfortunately it is not recommended to use `loop` for `ee` object since it uses server side processing."
   ]
  },
  {
   "cell_type": "code",
   "execution_count": 48,
   "metadata": {},
   "outputs": [
    {
     "name": "stdout",
     "output_type": "stream",
     "text": [
      "30\n",
      "60\n",
      "90\n",
      "120\n",
      "150\n",
      "180\n",
      "210\n",
      "240\n",
      "270\n",
      "300\n",
      "It takes: 2.31 seconds\n"
     ]
    }
   ],
   "source": [
    "# Let's see how long does it take to caculate some simple maths\n",
    "# Create a ee list\n",
    "eeList=ee.List.sequence(1,10)\n",
    "import datetime as dt\n",
    "\n",
    "t1=dt.datetime.now()\n",
    "# Create a list by multiplying each element by 30\n",
    "for i in eeList.getInfo():\n",
    "    ketqua=ee.Number(i).multiply(ee.Number(30))\n",
    "    print(ketqua.getInfo())\n",
    "t2=dt.datetime.now()\n",
    "\n",
    "timeCompare=t2-t1\n",
    "print(f\"It takes: {timeCompare.total_seconds():.3} seconds\")"
   ]
  },
  {
   "cell_type": "markdown",
   "metadata": {},
   "source": [
    "### Using map to do the same thing"
   ]
  },
  {
   "cell_type": "code",
   "execution_count": 50,
   "metadata": {},
   "outputs": [],
   "source": [
    "def multiply(n):\n",
    "    ketqua=ee.Number(n).multiply(ee.Number(30))\n",
    "    return ketqua # Don't put .getInfo() here. It takes longer time to process"
   ]
  },
  {
   "cell_type": "code",
   "execution_count": 54,
   "metadata": {},
   "outputs": [
    {
     "name": "stdout",
     "output_type": "stream",
     "text": [
      "It takes 0.175301 seconds\n"
     ]
    }
   ],
   "source": [
    "# Using map in Python\n",
    "t1=dt.datetime.now()\n",
    "list(map(multiply, eeList.getInfo()))\n",
    "t2=dt.datetime.now()\n",
    "\n",
    "timeCompare=t2-t1\n",
    "\n",
    "print(f\"It takes {timeCompare.total_seconds()} seconds\")"
   ]
  },
  {
   "cell_type": "markdown",
   "metadata": {},
   "source": [
    "Let's see `map` in GEE"
   ]
  },
  {
   "cell_type": "code",
   "execution_count": 53,
   "metadata": {},
   "outputs": [
    {
     "name": "stdout",
     "output_type": "stream",
     "text": [
      "[30, 60, 90, 120, 150, 180, 210, 240, 270, 300]\n",
      "It takes 0.245425 seconds\n"
     ]
    }
   ],
   "source": [
    "# Using Gee map function\n",
    "t1=dt.datetime.now()\n",
    "result=eeList.map(multiply)\n",
    "# Print out the result\n",
    "print(result.getInfo())\n",
    "# See time taken\n",
    "t2=dt.datetime.now()\n",
    "timeCompare=t2-t1\n",
    "print(f\"It takes {timeCompare.total_seconds()} seconds\")"
   ]
  },
  {
   "cell_type": "markdown",
   "metadata": {},
   "source": []
  },
  {
   "cell_type": "code",
   "execution_count": null,
   "metadata": {},
   "outputs": [],
   "source": []
  }
 ],
 "metadata": {
  "kernelspec": {
   "display_name": "Python 3 (ipykernel)",
   "language": "python",
   "name": "python3"
  },
  "language_info": {
   "codemirror_mode": {
    "name": "ipython",
    "version": 3
   },
   "file_extension": ".py",
   "mimetype": "text/x-python",
   "name": "python",
   "nbconvert_exporter": "python",
   "pygments_lexer": "ipython3",
   "version": "3.8.10"
  }
 },
 "nbformat": 4,
 "nbformat_minor": 4
}
