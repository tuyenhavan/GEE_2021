{
 "cells": [
  {
   "cell_type": "code",
   "execution_count": 2,
   "metadata": {},
   "outputs": [],
   "source": [
    "import ee\n",
    "import geemap as emap"
   ]
  },
  {
   "cell_type": "code",
   "execution_count": 3,
   "metadata": {},
   "outputs": [
    {
     "data": {
      "text/html": [
       "<p>To authorize access needed by Earth Engine, open the following\n",
       "        URL in a web browser and follow the instructions:</p>\n",
       "        <p><a href=https://accounts.google.com/o/oauth2/auth?client_id=517222506229-vsmmajv00ul0bs7p89v5m89qs8eb9359.apps.googleusercontent.com&scope=https%3A%2F%2Fwww.googleapis.com%2Fauth%2Fearthengine+https%3A%2F%2Fwww.googleapis.com%2Fauth%2Fdevstorage.full_control&redirect_uri=urn%3Aietf%3Awg%3Aoauth%3A2.0%3Aoob&response_type=code&code_challenge=ZKCtIH-sMrqt2dGH0Bqqn7LIfds8E1oMiU5coeF_AtY&code_challenge_method=S256>https://accounts.google.com/o/oauth2/auth?client_id=517222506229-vsmmajv00ul0bs7p89v5m89qs8eb9359.apps.googleusercontent.com&scope=https%3A%2F%2Fwww.googleapis.com%2Fauth%2Fearthengine+https%3A%2F%2Fwww.googleapis.com%2Fauth%2Fdevstorage.full_control&redirect_uri=urn%3Aietf%3Awg%3Aoauth%3A2.0%3Aoob&response_type=code&code_challenge=ZKCtIH-sMrqt2dGH0Bqqn7LIfds8E1oMiU5coeF_AtY&code_challenge_method=S256</a></p>\n",
       "        <p>The authorization workflow will generate a code, which you\n",
       "        should paste in the box below</p>\n",
       "        "
      ],
      "text/plain": [
       "<IPython.core.display.HTML object>"
      ]
     },
     "metadata": {},
     "output_type": "display_data"
    },
    {
     "name": "stdout",
     "output_type": "stream",
     "text": [
      "Enter verification code: 4/1AX4XfWiUmN-S-soKKWFiRXlNhFrKyenVlexvr6xTrL83gLMPtcvEARaeiNs\n",
      "\n",
      "Successfully saved authorization token.\n"
     ]
    }
   ],
   "source": [
    "# Initialize and authenticate\n",
    "ee.Authenticate()\n",
    "ee.Initialize()"
   ]
  },
  {
   "cell_type": "code",
   "execution_count": 4,
   "metadata": {},
   "outputs": [
    {
     "data": {
      "application/vnd.jupyter.widget-view+json": {
       "model_id": "1cc90ff159954cf895668e7ffd7c4654",
       "version_major": 2,
       "version_minor": 0
      },
      "text/plain": [
       "Map(center=[40, -100], controls=(WidgetControl(options=['position', 'transparent_bg'], widget=HBox(children=(T…"
      ]
     },
     "metadata": {},
     "output_type": "display_data"
    }
   ],
   "source": [
    "Map=emap.Map()\n",
    "Map"
   ]
  },
  {
   "cell_type": "markdown",
   "metadata": {},
   "source": [
    "#  Extract raster values from a single image (single time) \n",
    "\n",
    "There are few ways of extracting raster values in GEE. We can use `sampleRegions()`"
   ]
  },
  {
   "cell_type": "markdown",
   "metadata": {},
   "source": [
    "**Location data**\n",
    "\n",
    "For this demo, I have created a series of random GPS-like locations over a part of Vinh Phuc province. "
   ]
  },
  {
   "cell_type": "code",
   "execution_count": 23,
   "metadata": {
    "scrolled": false
   },
   "outputs": [
    {
     "data": {
      "application/vnd.jupyter.widget-view+json": {
       "model_id": "1cc90ff159954cf895668e7ffd7c4654",
       "version_major": 2,
       "version_minor": 0
      },
      "text/plain": [
       "Map(bottom=461250.0, center=[21.24149464251615, 105.49841825544672], controls=(WidgetControl(options=['positio…"
      ]
     },
     "metadata": {},
     "output_type": "display_data"
    }
   ],
   "source": [
    "# locations needed to get rainfall data\n",
    "point=ee.FeatureCollection(\"users/miketu72/Test_point\")\n",
    "# Center the point shafile \n",
    "Map.centerObject(point,12)\n",
    "# Visualizing the point data\n",
    "Map.addLayer(point,{},\"Location\")\n",
    "\n",
    "Map"
   ]
  },
  {
   "cell_type": "markdown",
   "metadata": {},
   "source": [
    "**Extract rainfall**"
   ]
  },
  {
   "cell_type": "code",
   "execution_count": null,
   "metadata": {},
   "outputs": [],
   "source": [
    "# Extract total rainfall data for the period from 1/1/2018 to 30/1/2018\n",
    "thang1=ee.ImageCollection(\"UCSB-CHG/CHIRPS/DAILY\").filterDate(\"2018-01-01\",\"2018-01-30\").sum()"
   ]
  },
  {
   "cell_type": "code",
   "execution_count": 7,
   "metadata": {
    "scrolled": true
   },
   "outputs": [],
   "source": [
    "# Extract total January rainfall using sample.Regions() method\n",
    "extractedData=thang1.sampleRegions(collection=point, scale=1000,geometries =True).getInfo()"
   ]
  },
  {
   "cell_type": "code",
   "execution_count": 8,
   "metadata": {},
   "outputs": [],
   "source": [
    "# Write a function to format extracted Data into a clean and tidy format dataframe\n",
    "import pandas as pd\n",
    "def dataFormat(inputDate):\n",
    "    mlist=[]\n",
    "    coord=[]\n",
    "    for item in inputDate[\"features\"]:\n",
    "        mlist.append(item[\"properties\"])\n",
    "        coord.append(item[\"geometry\"][\"coordinates\"])\n",
    "    test=pd.DataFrame(mlist)\n",
    "    test[\"coordiates\"]=coord\n",
    "    return test"
   ]
  },
  {
   "cell_type": "code",
   "execution_count": 9,
   "metadata": {},
   "outputs": [
    {
     "data": {
      "text/html": [
       "<div>\n",
       "<style scoped>\n",
       "    .dataframe tbody tr th:only-of-type {\n",
       "        vertical-align: middle;\n",
       "    }\n",
       "\n",
       "    .dataframe tbody tr th {\n",
       "        vertical-align: top;\n",
       "    }\n",
       "\n",
       "    .dataframe thead th {\n",
       "        text-align: right;\n",
       "    }\n",
       "</style>\n",
       "<table border=\"1\" class=\"dataframe\">\n",
       "  <thead>\n",
       "    <tr style=\"text-align: right;\">\n",
       "      <th></th>\n",
       "      <th>Code</th>\n",
       "      <th>precipitation</th>\n",
       "      <th>coordiates</th>\n",
       "    </tr>\n",
       "  </thead>\n",
       "  <tbody>\n",
       "    <tr>\n",
       "      <th>0</th>\n",
       "      <td>1</td>\n",
       "      <td>11.455535</td>\n",
       "      <td>[105.46670593205242, 21.258631198688477]</td>\n",
       "    </tr>\n",
       "    <tr>\n",
       "      <th>1</th>\n",
       "      <td>2</td>\n",
       "      <td>11.455535</td>\n",
       "      <td>[105.48467223773481, 21.27659750437087]</td>\n",
       "    </tr>\n",
       "    <tr>\n",
       "      <th>2</th>\n",
       "      <td>3</td>\n",
       "      <td>10.591261</td>\n",
       "      <td>[105.5026385434172, 21.29456381005326]</td>\n",
       "    </tr>\n",
       "    <tr>\n",
       "      <th>3</th>\n",
       "      <td>4</td>\n",
       "      <td>11.455535</td>\n",
       "      <td>[105.47568908489362, 21.29456381005326]</td>\n",
       "    </tr>\n",
       "    <tr>\n",
       "      <th>4</th>\n",
       "      <td>5</td>\n",
       "      <td>11.455535</td>\n",
       "      <td>[105.45772277921122, 21.27659750437087]</td>\n",
       "    </tr>\n",
       "  </tbody>\n",
       "</table>\n",
       "</div>"
      ],
      "text/plain": [
       "   Code  precipitation                                coordiates\n",
       "0     1      11.455535  [105.46670593205242, 21.258631198688477]\n",
       "1     2      11.455535   [105.48467223773481, 21.27659750437087]\n",
       "2     3      10.591261    [105.5026385434172, 21.29456381005326]\n",
       "3     4      11.455535   [105.47568908489362, 21.29456381005326]\n",
       "4     5      11.455535   [105.45772277921122, 21.27659750437087]"
      ]
     },
     "execution_count": 9,
     "metadata": {},
     "output_type": "execute_result"
    }
   ],
   "source": [
    "df=dataFormat(extractedData)\n",
    "df.head() # There are some repeated same values in precipitation, this is due to a coarse resolution and two \n",
    "            #or more points fall in the same pixel"
   ]
  },
  {
   "cell_type": "markdown",
   "metadata": {},
   "source": [
    "###### Extract mean temperature for a single image\n",
    "\n",
    "The below dataset provides hourly global temperature as well as dozens of other variables. If you are more interested in this dataset, please see this [link](https://cds.climate.copernicus.eu/cdsapp#!/dataset/10.24381/cds.e2161bac?tab=overview).\n",
    "\n",
    "The task below aims to extract mean of temperature in January 2017 from hourly temperature dataset."
   ]
  },
  {
   "cell_type": "code",
   "execution_count": 10,
   "metadata": {},
   "outputs": [],
   "source": [
    "# Extract mean temperature for the month of January 2017\n",
    "tem=ee.ImageCollection(\"ECMWF/ERA5_LAND/HOURLY\").filterDate(\"2017-01-01\",\"2017-01-30\").select(\"temperature_2m\").mean()"
   ]
  },
  {
   "cell_type": "code",
   "execution_count": 11,
   "metadata": {},
   "outputs": [],
   "source": [
    "# Using sampleRegions() \n",
    "extractedData=tem.sampleRegions(collection=point, scale=1000,geometries =True).getInfo()"
   ]
  },
  {
   "cell_type": "code",
   "execution_count": 12,
   "metadata": {},
   "outputs": [],
   "source": [
    "# Write a function to format the extracted data values\n",
    "import pandas as pd\n",
    "def dataFormat(inputDate):\n",
    "    mlist=[]\n",
    "    coord=[]\n",
    "    for item in inputDate[\"features\"]:\n",
    "        mlist.append(item[\"properties\"])\n",
    "        coord.append(item[\"geometry\"][\"coordinates\"])\n",
    "    test=pd.DataFrame(mlist)\n",
    "    test[\"coordiates\"]=coord\n",
    "    test[\"temperature_2m\"]=test.temperature_2m-273.15\n",
    "    return test"
   ]
  },
  {
   "cell_type": "code",
   "execution_count": 14,
   "metadata": {
    "scrolled": true
   },
   "outputs": [
    {
     "data": {
      "text/html": [
       "<div>\n",
       "<style scoped>\n",
       "    .dataframe tbody tr th:only-of-type {\n",
       "        vertical-align: middle;\n",
       "    }\n",
       "\n",
       "    .dataframe tbody tr th {\n",
       "        vertical-align: top;\n",
       "    }\n",
       "\n",
       "    .dataframe thead th {\n",
       "        text-align: right;\n",
       "    }\n",
       "</style>\n",
       "<table border=\"1\" class=\"dataframe\">\n",
       "  <thead>\n",
       "    <tr style=\"text-align: right;\">\n",
       "      <th></th>\n",
       "      <th>Code</th>\n",
       "      <th>temperature_2m</th>\n",
       "      <th>coordiates</th>\n",
       "    </tr>\n",
       "  </thead>\n",
       "  <tbody>\n",
       "    <tr>\n",
       "      <th>0</th>\n",
       "      <td>1</td>\n",
       "      <td>18.205899</td>\n",
       "      <td>[105.46670593205242, 21.258631198688477]</td>\n",
       "    </tr>\n",
       "    <tr>\n",
       "      <th>1</th>\n",
       "      <td>2</td>\n",
       "      <td>18.205899</td>\n",
       "      <td>[105.48467223773481, 21.27659750437087]</td>\n",
       "    </tr>\n",
       "    <tr>\n",
       "      <th>2</th>\n",
       "      <td>3</td>\n",
       "      <td>18.205899</td>\n",
       "      <td>[105.5026385434172, 21.29456381005326]</td>\n",
       "    </tr>\n",
       "    <tr>\n",
       "      <th>3</th>\n",
       "      <td>4</td>\n",
       "      <td>18.205899</td>\n",
       "      <td>[105.47568908489362, 21.29456381005326]</td>\n",
       "    </tr>\n",
       "    <tr>\n",
       "      <th>4</th>\n",
       "      <td>5</td>\n",
       "      <td>18.205899</td>\n",
       "      <td>[105.45772277921122, 21.27659750437087]</td>\n",
       "    </tr>\n",
       "  </tbody>\n",
       "</table>\n",
       "</div>"
      ],
      "text/plain": [
       "   Code  temperature_2m                                coordiates\n",
       "0     1       18.205899  [105.46670593205242, 21.258631198688477]\n",
       "1     2       18.205899   [105.48467223773481, 21.27659750437087]\n",
       "2     3       18.205899    [105.5026385434172, 21.29456381005326]\n",
       "3     4       18.205899   [105.47568908489362, 21.29456381005326]\n",
       "4     5       18.205899   [105.45772277921122, 21.27659750437087]"
      ]
     },
     "execution_count": 14,
     "metadata": {},
     "output_type": "execute_result"
    }
   ],
   "source": [
    "# This dataset contains all variables in the dataset such as temperature at 2m. Some values had the same\n",
    "#because those points fall in the same pixel\n",
    "df=dataFormat(extractedData)\n",
    "df.head()"
   ]
  },
  {
   "cell_type": "markdown",
   "metadata": {},
   "source": [
    "###### Extract Landsat surface reflectance "
   ]
  },
  {
   "cell_type": "code",
   "execution_count": 15,
   "metadata": {},
   "outputs": [],
   "source": [
    "# Select Landsat 8 SR \n",
    "ls=ee.Image(\"LANDSAT/LC08/C01/T2_SR/LC08_127045_20170417\")"
   ]
  },
  {
   "cell_type": "code",
   "execution_count": 16,
   "metadata": {},
   "outputs": [],
   "source": [
    "extractedLS=ls.sampleRegions(collection=point, scale=30,geometries =True).getInfo()"
   ]
  },
  {
   "cell_type": "code",
   "execution_count": 17,
   "metadata": {},
   "outputs": [],
   "source": [
    "# Write a function to format the extracted data values\n",
    "import pandas as pd\n",
    "def dataFormat(inputDate):\n",
    "    mlist=[]\n",
    "    coord=[]\n",
    "    for item in inputDate[\"features\"]:\n",
    "        mlist.append(item[\"properties\"])\n",
    "        coord.append(tuple(item[\"geometry\"][\"coordinates\"]))\n",
    "    test=pd.DataFrame(mlist)\n",
    "    test[\"coordiates\"]=coord\n",
    "    return test"
   ]
  },
  {
   "cell_type": "code",
   "execution_count": 18,
   "metadata": {},
   "outputs": [
    {
     "data": {
      "text/html": [
       "<div>\n",
       "<style scoped>\n",
       "    .dataframe tbody tr th:only-of-type {\n",
       "        vertical-align: middle;\n",
       "    }\n",
       "\n",
       "    .dataframe tbody tr th {\n",
       "        vertical-align: top;\n",
       "    }\n",
       "\n",
       "    .dataframe thead th {\n",
       "        text-align: right;\n",
       "    }\n",
       "</style>\n",
       "<table border=\"1\" class=\"dataframe\">\n",
       "  <thead>\n",
       "    <tr style=\"text-align: right;\">\n",
       "      <th></th>\n",
       "      <th>B1</th>\n",
       "      <th>B10</th>\n",
       "      <th>B11</th>\n",
       "      <th>B2</th>\n",
       "      <th>B3</th>\n",
       "      <th>B4</th>\n",
       "      <th>B5</th>\n",
       "      <th>B6</th>\n",
       "      <th>B7</th>\n",
       "      <th>Code</th>\n",
       "      <th>pixel_qa</th>\n",
       "      <th>radsat_qa</th>\n",
       "      <th>sr_aerosol</th>\n",
       "      <th>coordiates</th>\n",
       "    </tr>\n",
       "  </thead>\n",
       "  <tbody>\n",
       "    <tr>\n",
       "      <th>0</th>\n",
       "      <td>6972</td>\n",
       "      <td>2875</td>\n",
       "      <td>2863</td>\n",
       "      <td>6931</td>\n",
       "      <td>6775</td>\n",
       "      <td>6861</td>\n",
       "      <td>7455</td>\n",
       "      <td>5491</td>\n",
       "      <td>3919</td>\n",
       "      <td>1</td>\n",
       "      <td>322</td>\n",
       "      <td>0</td>\n",
       "      <td>228</td>\n",
       "      <td>(105.4665058457405, 21.257972172029646)</td>\n",
       "    </tr>\n",
       "    <tr>\n",
       "      <th>1</th>\n",
       "      <td>7569</td>\n",
       "      <td>2877</td>\n",
       "      <td>2864</td>\n",
       "      <td>7526</td>\n",
       "      <td>7430</td>\n",
       "      <td>7532</td>\n",
       "      <td>8050</td>\n",
       "      <td>5838</td>\n",
       "      <td>3967</td>\n",
       "      <td>2</td>\n",
       "      <td>322</td>\n",
       "      <td>0</td>\n",
       "      <td>228</td>\n",
       "      <td>(105.48216930891728, 21.27310711346932)</td>\n",
       "    </tr>\n",
       "    <tr>\n",
       "      <th>2</th>\n",
       "      <td>7276</td>\n",
       "      <td>2875</td>\n",
       "      <td>2863</td>\n",
       "      <td>7181</td>\n",
       "      <td>6987</td>\n",
       "      <td>7029</td>\n",
       "      <td>7541</td>\n",
       "      <td>5402</td>\n",
       "      <td>3673</td>\n",
       "      <td>3</td>\n",
       "      <td>322</td>\n",
       "      <td>0</td>\n",
       "      <td>228</td>\n",
       "      <td>(105.50480285025506, 21.295809232862858)</td>\n",
       "    </tr>\n",
       "    <tr>\n",
       "      <th>3</th>\n",
       "      <td>6565</td>\n",
       "      <td>2872</td>\n",
       "      <td>2855</td>\n",
       "      <td>6496</td>\n",
       "      <td>6314</td>\n",
       "      <td>6350</td>\n",
       "      <td>6973</td>\n",
       "      <td>5077</td>\n",
       "      <td>3496</td>\n",
       "      <td>4</td>\n",
       "      <td>322</td>\n",
       "      <td>0</td>\n",
       "      <td>228</td>\n",
       "      <td>(105.47645382927058, 21.294265541629027)</td>\n",
       "    </tr>\n",
       "    <tr>\n",
       "      <th>4</th>\n",
       "      <td>6975</td>\n",
       "      <td>2872</td>\n",
       "      <td>2862</td>\n",
       "      <td>6882</td>\n",
       "      <td>6760</td>\n",
       "      <td>6817</td>\n",
       "      <td>7312</td>\n",
       "      <td>5549</td>\n",
       "      <td>4060</td>\n",
       "      <td>5</td>\n",
       "      <td>322</td>\n",
       "      <td>0</td>\n",
       "      <td>228</td>\n",
       "      <td>(105.46077430709072, 21.274522256694354)</td>\n",
       "    </tr>\n",
       "  </tbody>\n",
       "</table>\n",
       "</div>"
      ],
      "text/plain": [
       "     B1   B10   B11    B2    B3    B4    B5    B6    B7  Code  pixel_qa  \\\n",
       "0  6972  2875  2863  6931  6775  6861  7455  5491  3919     1       322   \n",
       "1  7569  2877  2864  7526  7430  7532  8050  5838  3967     2       322   \n",
       "2  7276  2875  2863  7181  6987  7029  7541  5402  3673     3       322   \n",
       "3  6565  2872  2855  6496  6314  6350  6973  5077  3496     4       322   \n",
       "4  6975  2872  2862  6882  6760  6817  7312  5549  4060     5       322   \n",
       "\n",
       "   radsat_qa  sr_aerosol                                coordiates  \n",
       "0          0         228   (105.4665058457405, 21.257972172029646)  \n",
       "1          0         228   (105.48216930891728, 21.27310711346932)  \n",
       "2          0         228  (105.50480285025506, 21.295809232862858)  \n",
       "3          0         228  (105.47645382927058, 21.294265541629027)  \n",
       "4          0         228  (105.46077430709072, 21.274522256694354)  "
      ]
     },
     "execution_count": 18,
     "metadata": {},
     "output_type": "execute_result"
    }
   ],
   "source": [
    "df=dataFormat(extractedLS)\n",
    "\n",
    "df.head() # display the extracted data"
   ]
  },
  {
   "cell_type": "markdown",
   "metadata": {},
   "source": [
    "# Extract time series raster values\n",
    "\n",
    "**Extract time-series climate data using `getRegion()`**"
   ]
  },
  {
   "cell_type": "code",
   "execution_count": 24,
   "metadata": {},
   "outputs": [],
   "source": [
    "# Extract monthly climate data\n",
    "# Define time period from 1/1/2018 - 30/1/2018\n",
    "daily=ee.ImageCollection(\"ECMWF/ERA5/MONTHLY\").filterDate(\"2018-01-01\",\"2020-12-31\")"
   ]
  },
  {
   "cell_type": "code",
   "execution_count": 25,
   "metadata": {},
   "outputs": [],
   "source": [
    "data=daily.getRegion(geometry=point, scale=1000).getInfo()"
   ]
  },
  {
   "cell_type": "code",
   "execution_count": 26,
   "metadata": {},
   "outputs": [
    {
     "data": {
      "text/html": [
       "<div>\n",
       "<style scoped>\n",
       "    .dataframe tbody tr th:only-of-type {\n",
       "        vertical-align: middle;\n",
       "    }\n",
       "\n",
       "    .dataframe tbody tr th {\n",
       "        vertical-align: top;\n",
       "    }\n",
       "\n",
       "    .dataframe thead th {\n",
       "        text-align: right;\n",
       "    }\n",
       "</style>\n",
       "<table border=\"1\" class=\"dataframe\">\n",
       "  <thead>\n",
       "    <tr style=\"text-align: right;\">\n",
       "      <th></th>\n",
       "      <th>id</th>\n",
       "      <th>longitude</th>\n",
       "      <th>latitude</th>\n",
       "      <th>time</th>\n",
       "      <th>mean_2m_air_temperature</th>\n",
       "      <th>minimum_2m_air_temperature</th>\n",
       "      <th>maximum_2m_air_temperature</th>\n",
       "      <th>dewpoint_2m_temperature</th>\n",
       "      <th>total_precipitation</th>\n",
       "      <th>surface_pressure</th>\n",
       "      <th>mean_sea_level_pressure</th>\n",
       "      <th>u_component_of_wind_10m</th>\n",
       "      <th>v_component_of_wind_10m</th>\n",
       "    </tr>\n",
       "  </thead>\n",
       "  <tbody>\n",
       "    <tr>\n",
       "      <th>0</th>\n",
       "      <td>201801</td>\n",
       "      <td>105.520605</td>\n",
       "      <td>21.1688</td>\n",
       "      <td>1514764800000</td>\n",
       "      <td>291.141846</td>\n",
       "      <td>282.706299</td>\n",
       "      <td>302.046173</td>\n",
       "      <td>287.676361</td>\n",
       "      <td>0.047356</td>\n",
       "      <td>101297.304688</td>\n",
       "      <td>101691.406250</td>\n",
       "      <td>-1.146670</td>\n",
       "      <td>0.221634</td>\n",
       "    </tr>\n",
       "    <tr>\n",
       "      <th>1</th>\n",
       "      <td>201802</td>\n",
       "      <td>105.520605</td>\n",
       "      <td>21.1688</td>\n",
       "      <td>1517443200000</td>\n",
       "      <td>290.611786</td>\n",
       "      <td>282.927826</td>\n",
       "      <td>300.436768</td>\n",
       "      <td>285.954895</td>\n",
       "      <td>0.016731</td>\n",
       "      <td>101464.039062</td>\n",
       "      <td>101859.453125</td>\n",
       "      <td>-1.020320</td>\n",
       "      <td>0.045372</td>\n",
       "    </tr>\n",
       "    <tr>\n",
       "      <th>2</th>\n",
       "      <td>201803</td>\n",
       "      <td>105.520605</td>\n",
       "      <td>21.1688</td>\n",
       "      <td>1519862400000</td>\n",
       "      <td>295.973450</td>\n",
       "      <td>286.264313</td>\n",
       "      <td>304.289337</td>\n",
       "      <td>292.002838</td>\n",
       "      <td>0.043602</td>\n",
       "      <td>100973.460938</td>\n",
       "      <td>101361.718750</td>\n",
       "      <td>-1.635398</td>\n",
       "      <td>0.918731</td>\n",
       "    </tr>\n",
       "    <tr>\n",
       "      <th>3</th>\n",
       "      <td>201804</td>\n",
       "      <td>105.520605</td>\n",
       "      <td>21.1688</td>\n",
       "      <td>1522540800000</td>\n",
       "      <td>297.653320</td>\n",
       "      <td>288.470917</td>\n",
       "      <td>306.745422</td>\n",
       "      <td>293.704773</td>\n",
       "      <td>0.126332</td>\n",
       "      <td>100777.070312</td>\n",
       "      <td>101163.445312</td>\n",
       "      <td>-1.337478</td>\n",
       "      <td>0.478435</td>\n",
       "    </tr>\n",
       "    <tr>\n",
       "      <th>4</th>\n",
       "      <td>201805</td>\n",
       "      <td>105.520605</td>\n",
       "      <td>21.1688</td>\n",
       "      <td>1525132800000</td>\n",
       "      <td>302.107788</td>\n",
       "      <td>296.628448</td>\n",
       "      <td>310.682587</td>\n",
       "      <td>298.212646</td>\n",
       "      <td>0.150164</td>\n",
       "      <td>100343.164062</td>\n",
       "      <td>100725.117188</td>\n",
       "      <td>-0.893623</td>\n",
       "      <td>0.739812</td>\n",
       "    </tr>\n",
       "  </tbody>\n",
       "</table>\n",
       "</div>"
      ],
      "text/plain": [
       "       id   longitude  latitude           time  mean_2m_air_temperature  \\\n",
       "0  201801  105.520605   21.1688  1514764800000               291.141846   \n",
       "1  201802  105.520605   21.1688  1517443200000               290.611786   \n",
       "2  201803  105.520605   21.1688  1519862400000               295.973450   \n",
       "3  201804  105.520605   21.1688  1522540800000               297.653320   \n",
       "4  201805  105.520605   21.1688  1525132800000               302.107788   \n",
       "\n",
       "   minimum_2m_air_temperature  maximum_2m_air_temperature  \\\n",
       "0                  282.706299                  302.046173   \n",
       "1                  282.927826                  300.436768   \n",
       "2                  286.264313                  304.289337   \n",
       "3                  288.470917                  306.745422   \n",
       "4                  296.628448                  310.682587   \n",
       "\n",
       "   dewpoint_2m_temperature  total_precipitation  surface_pressure  \\\n",
       "0               287.676361             0.047356     101297.304688   \n",
       "1               285.954895             0.016731     101464.039062   \n",
       "2               292.002838             0.043602     100973.460938   \n",
       "3               293.704773             0.126332     100777.070312   \n",
       "4               298.212646             0.150164     100343.164062   \n",
       "\n",
       "   mean_sea_level_pressure  u_component_of_wind_10m  v_component_of_wind_10m  \n",
       "0            101691.406250                -1.146670                 0.221634  \n",
       "1            101859.453125                -1.020320                 0.045372  \n",
       "2            101361.718750                -1.635398                 0.918731  \n",
       "3            101163.445312                -1.337478                 0.478435  \n",
       "4            100725.117188                -0.893623                 0.739812  "
      ]
     },
     "execution_count": 26,
     "metadata": {},
     "output_type": "execute_result"
    }
   ],
   "source": [
    "df=pd.DataFrame(data[1:], columns=data[0])\n",
    "df. head() # time column is not human readbale"
   ]
  },
  {
   "cell_type": "code",
   "execution_count": 22,
   "metadata": {
    "scrolled": true
   },
   "outputs": [
    {
     "data": {
      "text/html": [
       "<div>\n",
       "<style scoped>\n",
       "    .dataframe tbody tr th:only-of-type {\n",
       "        vertical-align: middle;\n",
       "    }\n",
       "\n",
       "    .dataframe tbody tr th {\n",
       "        vertical-align: top;\n",
       "    }\n",
       "\n",
       "    .dataframe thead th {\n",
       "        text-align: right;\n",
       "    }\n",
       "</style>\n",
       "<table border=\"1\" class=\"dataframe\">\n",
       "  <thead>\n",
       "    <tr style=\"text-align: right;\">\n",
       "      <th></th>\n",
       "      <th>id</th>\n",
       "      <th>longitude</th>\n",
       "      <th>latitude</th>\n",
       "      <th>time</th>\n",
       "      <th>mean_2m_air_temperature</th>\n",
       "      <th>minimum_2m_air_temperature</th>\n",
       "      <th>maximum_2m_air_temperature</th>\n",
       "      <th>dewpoint_2m_temperature</th>\n",
       "      <th>total_precipitation</th>\n",
       "      <th>surface_pressure</th>\n",
       "      <th>mean_sea_level_pressure</th>\n",
       "      <th>u_component_of_wind_10m</th>\n",
       "      <th>v_component_of_wind_10m</th>\n",
       "    </tr>\n",
       "  </thead>\n",
       "  <tbody>\n",
       "    <tr>\n",
       "      <th>0</th>\n",
       "      <td>201801</td>\n",
       "      <td>105.520605</td>\n",
       "      <td>21.1688</td>\n",
       "      <td>2018-01-01</td>\n",
       "      <td>291.141846</td>\n",
       "      <td>282.706299</td>\n",
       "      <td>302.046173</td>\n",
       "      <td>287.676361</td>\n",
       "      <td>0.047356</td>\n",
       "      <td>101297.304688</td>\n",
       "      <td>101691.406250</td>\n",
       "      <td>-1.146670</td>\n",
       "      <td>0.221634</td>\n",
       "    </tr>\n",
       "    <tr>\n",
       "      <th>1</th>\n",
       "      <td>201802</td>\n",
       "      <td>105.520605</td>\n",
       "      <td>21.1688</td>\n",
       "      <td>2018-02-01</td>\n",
       "      <td>290.611786</td>\n",
       "      <td>282.927826</td>\n",
       "      <td>300.436768</td>\n",
       "      <td>285.954895</td>\n",
       "      <td>0.016731</td>\n",
       "      <td>101464.039062</td>\n",
       "      <td>101859.453125</td>\n",
       "      <td>-1.020320</td>\n",
       "      <td>0.045372</td>\n",
       "    </tr>\n",
       "    <tr>\n",
       "      <th>2</th>\n",
       "      <td>201803</td>\n",
       "      <td>105.520605</td>\n",
       "      <td>21.1688</td>\n",
       "      <td>2018-03-01</td>\n",
       "      <td>295.973450</td>\n",
       "      <td>286.264313</td>\n",
       "      <td>304.289337</td>\n",
       "      <td>292.002838</td>\n",
       "      <td>0.043602</td>\n",
       "      <td>100973.460938</td>\n",
       "      <td>101361.718750</td>\n",
       "      <td>-1.635398</td>\n",
       "      <td>0.918731</td>\n",
       "    </tr>\n",
       "    <tr>\n",
       "      <th>3</th>\n",
       "      <td>201804</td>\n",
       "      <td>105.520605</td>\n",
       "      <td>21.1688</td>\n",
       "      <td>2018-04-01</td>\n",
       "      <td>297.653320</td>\n",
       "      <td>288.470917</td>\n",
       "      <td>306.745422</td>\n",
       "      <td>293.704773</td>\n",
       "      <td>0.126332</td>\n",
       "      <td>100777.070312</td>\n",
       "      <td>101163.445312</td>\n",
       "      <td>-1.337478</td>\n",
       "      <td>0.478435</td>\n",
       "    </tr>\n",
       "    <tr>\n",
       "      <th>4</th>\n",
       "      <td>201805</td>\n",
       "      <td>105.520605</td>\n",
       "      <td>21.1688</td>\n",
       "      <td>2018-05-01</td>\n",
       "      <td>302.107788</td>\n",
       "      <td>296.628448</td>\n",
       "      <td>310.682587</td>\n",
       "      <td>298.212646</td>\n",
       "      <td>0.150164</td>\n",
       "      <td>100343.164062</td>\n",
       "      <td>100725.117188</td>\n",
       "      <td>-0.893623</td>\n",
       "      <td>0.739812</td>\n",
       "    </tr>\n",
       "  </tbody>\n",
       "</table>\n",
       "</div>"
      ],
      "text/plain": [
       "       id   longitude  latitude       time  mean_2m_air_temperature  \\\n",
       "0  201801  105.520605   21.1688 2018-01-01               291.141846   \n",
       "1  201802  105.520605   21.1688 2018-02-01               290.611786   \n",
       "2  201803  105.520605   21.1688 2018-03-01               295.973450   \n",
       "3  201804  105.520605   21.1688 2018-04-01               297.653320   \n",
       "4  201805  105.520605   21.1688 2018-05-01               302.107788   \n",
       "\n",
       "   minimum_2m_air_temperature  maximum_2m_air_temperature  \\\n",
       "0                  282.706299                  302.046173   \n",
       "1                  282.927826                  300.436768   \n",
       "2                  286.264313                  304.289337   \n",
       "3                  288.470917                  306.745422   \n",
       "4                  296.628448                  310.682587   \n",
       "\n",
       "   dewpoint_2m_temperature  total_precipitation  surface_pressure  \\\n",
       "0               287.676361             0.047356     101297.304688   \n",
       "1               285.954895             0.016731     101464.039062   \n",
       "2               292.002838             0.043602     100973.460938   \n",
       "3               293.704773             0.126332     100777.070312   \n",
       "4               298.212646             0.150164     100343.164062   \n",
       "\n",
       "   mean_sea_level_pressure  u_component_of_wind_10m  v_component_of_wind_10m  \n",
       "0            101691.406250                -1.146670                 0.221634  \n",
       "1            101859.453125                -1.020320                 0.045372  \n",
       "2            101361.718750                -1.635398                 0.918731  \n",
       "3            101163.445312                -1.337478                 0.478435  \n",
       "4            100725.117188                -0.893623                 0.739812  "
      ]
     },
     "execution_count": 22,
     "metadata": {},
     "output_type": "execute_result"
    }
   ],
   "source": [
    "# Write a function to convert machine date into human readbale date\n",
    "import datetime as dt\n",
    "# This function aims to convert date code into human readable datetime. \n",
    "def timeConverter(date_code):\n",
    "    start_date=dt.datetime(1970,1,1,0,0,0) # starting GEE date and each minute increases 60000 seconds\n",
    "    hour_number=date_code/(60000*60)\n",
    "    delta=dt.timedelta(hours=hour_number)\n",
    "    end_date=start_date+delta\n",
    "    return end_date\n",
    "# This function to create a formated dataframe\n",
    "import pandas as pd\n",
    "def dataFormat(data):\n",
    "    df=pd.DataFrame(data[1:], columns=data[0])\n",
    "    df[\"time\"]=[timeConverter(i) for i in df.time]\n",
    "    return df\n",
    "test=dataFormat(data)\n",
    "test.head()"
   ]
  },
  {
   "cell_type": "markdown",
   "metadata": {},
   "source": [
    "**Extracting time-series climate data using `reduceRegions()`**"
   ]
  },
  {
   "cell_type": "code",
   "execution_count": 33,
   "metadata": {},
   "outputs": [],
   "source": [
    "# Load Vietnam map that consists of 63 provinces\n",
    "VN=ee.FeatureCollection(\"users/miketu72/VN_Map\")"
   ]
  },
  {
   "cell_type": "markdown",
   "metadata": {},
   "source": [
    "**Daily rainfall and temperature data **"
   ]
  },
  {
   "cell_type": "code",
   "execution_count": 34,
   "metadata": {},
   "outputs": [],
   "source": [
    "# Get a totall rainfall for 2018\n",
    "rainfall=ee.ImageCollection(\"UCSB-CHG/CHIRPS/DAILY\").filterDate(\"2018-01-01\",\"2019-01-30\").select(\"precipitation\").sum()"
   ]
  },
  {
   "cell_type": "code",
   "execution_count": 35,
   "metadata": {},
   "outputs": [],
   "source": [
    "# Get mean land surface temperature from MODIS data 2018 and convert to degree celsius\n",
    "tem=ee.ImageCollection(\"MODIS/006/MOD11A2\").filterDate(\"2018-01-01\",\"2019-01-30\").select(\"LST_Day_1km\").mean().multiply(0.02).subtract(273.15)"
   ]
  },
  {
   "cell_type": "code",
   "execution_count": 36,
   "metadata": {},
   "outputs": [],
   "source": [
    "# Combine two images above into a 2-band image\n",
    "stack=ee.Image([rainfall,tem]) # or ee.Image.cat([list of images]) "
   ]
  },
  {
   "cell_type": "markdown",
   "metadata": {},
   "source": [
    "**Extract raster values**\n",
    "\n",
    "- First we see how `reduceRegions()` used for a single image"
   ]
  },
  {
   "cell_type": "code",
   "execution_count": 37,
   "metadata": {},
   "outputs": [],
   "source": [
    "value=stack.reduceRegions(collection=VN,reducer=\"mean\",scale=1000) # Extract temperature and rainfall value for each province at a scale of 1km"
   ]
  },
  {
   "cell_type": "code",
   "execution_count": 38,
   "metadata": {},
   "outputs": [],
   "source": [
    "# Select properties and remove geometry\n",
    "mdict=value.select([\"VARNAME_1\",\"precipitation\",\"LST_Day_1km\"], retainGeometry=False).getInfo() # it can take a while (maybe 1-2 min)"
   ]
  },
  {
   "cell_type": "code",
   "execution_count": 40,
   "metadata": {},
   "outputs": [
    {
     "data": {
      "text/html": [
       "<div>\n",
       "<style scoped>\n",
       "    .dataframe tbody tr th:only-of-type {\n",
       "        vertical-align: middle;\n",
       "    }\n",
       "\n",
       "    .dataframe tbody tr th {\n",
       "        vertical-align: top;\n",
       "    }\n",
       "\n",
       "    .dataframe thead th {\n",
       "        text-align: right;\n",
       "    }\n",
       "</style>\n",
       "<table border=\"1\" class=\"dataframe\">\n",
       "  <thead>\n",
       "    <tr style=\"text-align: right;\">\n",
       "      <th></th>\n",
       "      <th>LST_Day_1km</th>\n",
       "      <th>VARNAME_1</th>\n",
       "      <th>precipitation</th>\n",
       "    </tr>\n",
       "  </thead>\n",
       "  <tbody>\n",
       "    <tr>\n",
       "      <th>0</th>\n",
       "      <td>28.465415</td>\n",
       "      <td>An Giang</td>\n",
       "      <td>1282.539912</td>\n",
       "    </tr>\n",
       "    <tr>\n",
       "      <th>1</th>\n",
       "      <td>28.329145</td>\n",
       "      <td>Bac Lieu</td>\n",
       "      <td>1944.849264</td>\n",
       "    </tr>\n",
       "    <tr>\n",
       "      <th>2</th>\n",
       "      <td>27.072181</td>\n",
       "      <td>Bac Giang</td>\n",
       "      <td>1910.970257</td>\n",
       "    </tr>\n",
       "    <tr>\n",
       "      <th>3</th>\n",
       "      <td>24.855065</td>\n",
       "      <td>Bac Kan</td>\n",
       "      <td>1984.343245</td>\n",
       "    </tr>\n",
       "    <tr>\n",
       "      <th>4</th>\n",
       "      <td>28.180161</td>\n",
       "      <td>Bac Ninh</td>\n",
       "      <td>1837.433871</td>\n",
       "    </tr>\n",
       "    <tr>\n",
       "      <th>...</th>\n",
       "      <td>...</td>\n",
       "      <td>...</td>\n",
       "      <td>...</td>\n",
       "    </tr>\n",
       "    <tr>\n",
       "      <th>58</th>\n",
       "      <td>28.940362</td>\n",
       "      <td>Can Tho</td>\n",
       "      <td>1356.932556</td>\n",
       "    </tr>\n",
       "    <tr>\n",
       "      <th>59</th>\n",
       "      <td>28.096639</td>\n",
       "      <td>Da Nang</td>\n",
       "      <td>2274.277927</td>\n",
       "    </tr>\n",
       "    <tr>\n",
       "      <th>60</th>\n",
       "      <td>27.715073</td>\n",
       "      <td>Hai Phong</td>\n",
       "      <td>2139.900051</td>\n",
       "    </tr>\n",
       "    <tr>\n",
       "      <th>61</th>\n",
       "      <td>31.610847</td>\n",
       "      <td>Ho Chi Minh</td>\n",
       "      <td>1826.845984</td>\n",
       "    </tr>\n",
       "    <tr>\n",
       "      <th>62</th>\n",
       "      <td>29.033011</td>\n",
       "      <td>Ha Noi</td>\n",
       "      <td>2046.330692</td>\n",
       "    </tr>\n",
       "  </tbody>\n",
       "</table>\n",
       "<p>63 rows × 3 columns</p>\n",
       "</div>"
      ],
      "text/plain": [
       "    LST_Day_1km    VARNAME_1  precipitation\n",
       "0     28.465415     An Giang    1282.539912\n",
       "1     28.329145     Bac Lieu    1944.849264\n",
       "2     27.072181    Bac Giang    1910.970257\n",
       "3     24.855065      Bac Kan    1984.343245\n",
       "4     28.180161     Bac Ninh    1837.433871\n",
       "..          ...          ...            ...\n",
       "58    28.940362      Can Tho    1356.932556\n",
       "59    28.096639      Da Nang    2274.277927\n",
       "60    27.715073    Hai Phong    2139.900051\n",
       "61    31.610847  Ho Chi Minh    1826.845984\n",
       "62    29.033011       Ha Noi    2046.330692\n",
       "\n",
       "[63 rows x 3 columns]"
      ]
     },
     "execution_count": 40,
     "metadata": {},
     "output_type": "execute_result"
    }
   ],
   "source": [
    "# Write a function to form a tidy dataframe\n",
    "import pandas as pd\n",
    "def dataFormat(input_data):\n",
    "    data=mdict[\"features\"]\n",
    "    slist=[]\n",
    "    for i in data:\n",
    "        thuoctinh=i[\"properties\"]\n",
    "        slist.append(thuoctinh)\n",
    "    df=pd.DataFrame(slist)\n",
    "    return df\n",
    "df=dataFormat(mdict)\n",
    "df"
   ]
  },
  {
   "cell_type": "markdown",
   "metadata": {},
   "source": [
    "- Now we map over the collection using `reduceRegions()` for a given period of time"
   ]
  },
  {
   "cell_type": "code",
   "execution_count": 41,
   "metadata": {},
   "outputs": [],
   "source": [
    "# Write a function to autimatically extract yearly climate data (rainfall) for each province of Vietnam\n",
    "def years(year):\n",
    "    start=ee.Date.fromYMD(year,1,1)\n",
    "    end=start.advance(1, \"year\")\n",
    "    rainfall=ee.ImageCollection(\"UCSB-CHG/CHIRPS/DAILY\").filterDate(start,end).select(\"precipitation\").sum()\n",
    "    value=rainfall.reduceRegions(collection=VN,reducer=\"mean\",scale=1000) \n",
    "    mdict=value.select([\"VARNAME_1\",\"mean\"], [\"Province\",\"Precipitation\"],retainGeometry=False).getInfo()\n",
    "    nlist=[]\n",
    "    for key in mdict[\"features\"]:\n",
    "        ketqua=key[\"properties\"]\n",
    "        ketqua[\"Year\"]=year\n",
    "        nlist.append(ketqua)\n",
    "    return nlist    "
   ]
  },
  {
   "cell_type": "code",
   "execution_count": 42,
   "metadata": {},
   "outputs": [],
   "source": [
    "# Write a function to format the data\n",
    "def outdf(start_year,end_year):\n",
    "    mlist=list(map(years,range(start_year,end_year)))\n",
    "    flist=[]\n",
    "    for i in mlist:\n",
    "        flist.extend(i)\n",
    "    df=pd.DataFrame(flist)\n",
    "    return df"
   ]
  },
  {
   "cell_type": "code",
   "execution_count": 43,
   "metadata": {},
   "outputs": [],
   "source": [
    "# Test the function and get data from 2000 to 2010\n",
    "test=outdf(2000,2011) # It can take quite long time"
   ]
  },
  {
   "cell_type": "code",
   "execution_count": 44,
   "metadata": {},
   "outputs": [
    {
     "data": {
      "text/html": [
       "<div>\n",
       "<style scoped>\n",
       "    .dataframe tbody tr th:only-of-type {\n",
       "        vertical-align: middle;\n",
       "    }\n",
       "\n",
       "    .dataframe tbody tr th {\n",
       "        vertical-align: top;\n",
       "    }\n",
       "\n",
       "    .dataframe thead th {\n",
       "        text-align: right;\n",
       "    }\n",
       "</style>\n",
       "<table border=\"1\" class=\"dataframe\">\n",
       "  <thead>\n",
       "    <tr style=\"text-align: right;\">\n",
       "      <th></th>\n",
       "      <th>Precipitation</th>\n",
       "      <th>Province</th>\n",
       "      <th>Year</th>\n",
       "    </tr>\n",
       "  </thead>\n",
       "  <tbody>\n",
       "    <tr>\n",
       "      <th>0</th>\n",
       "      <td>1997.498832</td>\n",
       "      <td>An Giang</td>\n",
       "      <td>2000</td>\n",
       "    </tr>\n",
       "    <tr>\n",
       "      <th>1</th>\n",
       "      <td>2269.348392</td>\n",
       "      <td>Bac Lieu</td>\n",
       "      <td>2000</td>\n",
       "    </tr>\n",
       "    <tr>\n",
       "      <th>2</th>\n",
       "      <td>1389.950911</td>\n",
       "      <td>Bac Giang</td>\n",
       "      <td>2000</td>\n",
       "    </tr>\n",
       "    <tr>\n",
       "      <th>3</th>\n",
       "      <td>1510.004715</td>\n",
       "      <td>Bac Kan</td>\n",
       "      <td>2000</td>\n",
       "    </tr>\n",
       "    <tr>\n",
       "      <th>4</th>\n",
       "      <td>1475.179892</td>\n",
       "      <td>Bac Ninh</td>\n",
       "      <td>2000</td>\n",
       "    </tr>\n",
       "  </tbody>\n",
       "</table>\n",
       "</div>"
      ],
      "text/plain": [
       "   Precipitation   Province  Year\n",
       "0    1997.498832   An Giang  2000\n",
       "1    2269.348392   Bac Lieu  2000\n",
       "2    1389.950911  Bac Giang  2000\n",
       "3    1510.004715    Bac Kan  2000\n",
       "4    1475.179892   Bac Ninh  2000"
      ]
     },
     "execution_count": 44,
     "metadata": {},
     "output_type": "execute_result"
    }
   ],
   "source": [
    "test.head()"
   ]
  }
 ],
 "metadata": {
  "kernelspec": {
   "display_name": "Python 3 (ipykernel)",
   "language": "python",
   "name": "python3"
  },
  "language_info": {
   "codemirror_mode": {
    "name": "ipython",
    "version": 3
   },
   "file_extension": ".py",
   "mimetype": "text/x-python",
   "name": "python",
   "nbconvert_exporter": "python",
   "pygments_lexer": "ipython3",
   "version": "3.8.10"
  }
 },
 "nbformat": 4,
 "nbformat_minor": 4
}
