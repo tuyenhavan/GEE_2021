{
 "cells": [
  {
   "cell_type": "markdown",
   "id": "b94e01f5",
   "metadata": {},
   "source": [
    "**Authenticate**\n",
    "\n",
    "You need to have `GEE` account regristered to work with GEE images. If you don't, please go to the GEE website and create an account.\n",
    "\n",
    "Also, for better working with the GEE, we need to install two packages `ee` and `geemap`."
   ]
  },
  {
   "cell_type": "code",
   "execution_count": null,
   "id": "7dd59989",
   "metadata": {},
   "outputs": [],
   "source": [
    "import ee\n",
    "import geemap as emap\n",
    "\n",
    "ee.Authenticate()\n",
    "ee.Initialize()"
   ]
  },
  {
   "cell_type": "markdown",
   "id": "d715adce",
   "metadata": {},
   "source": [
    "# Basics of Image "
   ]
  },
  {
   "cell_type": "code",
   "execution_count": 25,
   "id": "391195cd",
   "metadata": {},
   "outputs": [
    {
     "data": {
      "text/plain": [
       "{'type': 'Image',\n",
       " 'bands': [{'id': 'constant',\n",
       "   'data_type': {'type': 'PixelType', 'precision': 'int', 'min': 2, 'max': 2},\n",
       "   'crs': 'EPSG:4326',\n",
       "   'crs_transform': [1, 0, 0, 0, 1, 0]}]}"
      ]
     },
     "execution_count": 25,
     "metadata": {},
     "output_type": "execute_result"
    }
   ],
   "source": [
    "# Create image with a constant value \n",
    "img1=ee.Image(2)\n",
    "img1.getInfo()"
   ]
  },
  {
   "cell_type": "code",
   "execution_count": 26,
   "id": "96f80c61",
   "metadata": {},
   "outputs": [
    {
     "data": {
      "text/plain": [
       "{'type': 'Image',\n",
       " 'bands': [{'id': 'constant',\n",
       "   'data_type': {'type': 'PixelType',\n",
       "    'precision': 'int',\n",
       "    'min': 10,\n",
       "    'max': 10},\n",
       "   'crs': 'EPSG:4326',\n",
       "   'crs_transform': [1, 0, 0, 0, 1, 0]}]}"
      ]
     },
     "execution_count": 26,
     "metadata": {},
     "output_type": "execute_result"
    }
   ],
   "source": [
    "# Another example\n",
    "img2=ee.Image(10)\n",
    "img2.getInfo()"
   ]
  },
  {
   "cell_type": "code",
   "execution_count": 27,
   "id": "52e817cb",
   "metadata": {},
   "outputs": [
    {
     "name": "stdout",
     "output_type": "stream",
     "text": [
      "{'type': 'Image', 'bands': [{'id': 'constant', 'data_type': {'type': 'PixelType', 'precision': 'int', 'min': 2, 'max': 2}, 'crs': 'EPSG:4326', 'crs_transform': [1, 0, 0, 0, 1, 0]}, {'id': 'constant_1', 'data_type': {'type': 'PixelType', 'precision': 'int', 'min': 10, 'max': 10}, 'crs': 'EPSG:4326', 'crs_transform': [1, 0, 0, 0, 1, 0]}]}\n"
     ]
    }
   ],
   "source": [
    "# Concatenate two or more images into a multi-band image\n",
    "bands=ee.Image.cat([img1,img2]) # a two-band image\n",
    "\n",
    "print(bands.getInfo())"
   ]
  },
  {
   "cell_type": "code",
   "execution_count": 28,
   "id": "1216e61a",
   "metadata": {},
   "outputs": [
    {
     "name": "stdout",
     "output_type": "stream",
     "text": [
      "{'type': 'Image', 'bands': [{'id': 'constant', 'data_type': {'type': 'PixelType', 'precision': 'int', 'min': 1, 'max': 1}, 'crs': 'EPSG:4326', 'crs_transform': [1, 0, 0, 0, 1, 0]}, {'id': 'constant_1', 'data_type': {'type': 'PixelType', 'precision': 'int', 'min': 2, 'max': 2}, 'crs': 'EPSG:4326', 'crs_transform': [1, 0, 0, 0, 1, 0]}, {'id': 'constant_2', 'data_type': {'type': 'PixelType', 'precision': 'int', 'min': 3, 'max': 3}, 'crs': 'EPSG:4326', 'crs_transform': [1, 0, 0, 0, 1, 0]}]}\n"
     ]
    }
   ],
   "source": [
    "# Create a multi-band image from a list of constants\n",
    "multiband = ee.Image([1, 2, 3])  # a three-band image with values of 1, 2, 3 respective \n",
    "print(multiband.getInfo())"
   ]
  },
  {
   "cell_type": "code",
   "execution_count": 29,
   "id": "4dbdb631",
   "metadata": {},
   "outputs": [
    {
     "name": "stdout",
     "output_type": "stream",
     "text": [
      "{'type': 'Image', 'bands': [{'id': 'constant', 'data_type': {'type': 'PixelType', 'precision': 'int', 'min': 2, 'max': 2}, 'crs': 'EPSG:4326', 'crs_transform': [1, 0, 0, 0, 1, 0]}, {'id': 'constant_1', 'data_type': {'type': 'PixelType', 'precision': 'int', 'min': 10, 'max': 10}, 'crs': 'EPSG:4326', 'crs_transform': [1, 0, 0, 0, 1, 0]}, {'id': 'constant_2', 'data_type': {'type': 'PixelType', 'precision': 'int', 'min': 100, 'max': 100}, 'crs': 'EPSG:4326', 'crs_transform': [1, 0, 0, 0, 1, 0]}]}\n"
     ]
    }
   ],
   "source": [
    "# We can add a new band to an existing image\n",
    "newBand=bands.addBands(ee.Image(100))\n",
    "\n",
    "print(newBand.getInfo())"
   ]
  },
  {
   "cell_type": "code",
   "execution_count": 30,
   "id": "96707f44",
   "metadata": {},
   "outputs": [
    {
     "data": {
      "text/plain": [
       "['constant', 'constant_1', 'constant_2']"
      ]
     },
     "execution_count": 30,
     "metadata": {},
     "output_type": "execute_result"
    }
   ],
   "source": [
    "# Get all bands in an image\n",
    "newBand.bandNames().getInfo()"
   ]
  },
  {
   "cell_type": "markdown",
   "id": "c6fa20fc",
   "metadata": {},
   "source": [
    "# <font color='green'> First taste of RS imagery </font>"
   ]
  },
  {
   "cell_type": "code",
   "execution_count": 31,
   "id": "dbbb03c6",
   "metadata": {},
   "outputs": [
    {
     "data": {
      "application/vnd.jupyter.widget-view+json": {
       "model_id": "9698a66954884502b33817fe96f72538",
       "version_major": 2,
       "version_minor": 0
      },
      "text/plain": [
       "Map(center=[40, -100], controls=(WidgetControl(options=['position', 'transparent_bg'], widget=HBox(children=(T…"
      ]
     },
     "metadata": {},
     "output_type": "display_data"
    }
   ],
   "source": [
    "# Add a basemap for better visualization\n",
    "Map=emap.Map()\n",
    "# Map.add_basemap(\"Google Satellite\")\n",
    "Map"
   ]
  },
  {
   "cell_type": "code",
   "execution_count": 32,
   "id": "aeb2de99",
   "metadata": {},
   "outputs": [
    {
     "data": {
      "application/vnd.jupyter.widget-view+json": {
       "model_id": "9698a66954884502b33817fe96f72538",
       "version_major": 2,
       "version_minor": 0
      },
      "text/plain": [
       "Map(bottom=1851.0, center=[37.471602850590656, -122.14451407746262], controls=(WidgetControl(options=['positio…"
      ]
     },
     "metadata": {},
     "output_type": "display_data"
    }
   ],
   "source": [
    "# Load a Landsat image \n",
    "image = ee.Image('LANDSAT/LC08/C01/T1_TOA/LC08_044034_20140318') # this reads images directly from GEE server\n",
    "# Visualization\n",
    "Map.centerObject(image,10) ## Other way around to set the center Map.setCenter(-122.1899, 37.5010, 10)\n",
    "Map.addLayer(image, {\"bands\":[\"B4\",\"B3\",\"B2\"],\"min\":0, \"max\":0.4}, 'Natural Color Composite')\n",
    "# Display the map\n",
    "Map"
   ]
  },
  {
   "cell_type": "code",
   "execution_count": 33,
   "id": "42f0ca18",
   "metadata": {},
   "outputs": [
    {
     "data": {
      "application/vnd.jupyter.widget-view+json": {
       "model_id": "9698a66954884502b33817fe96f72538",
       "version_major": 2,
       "version_minor": 0
      },
      "text/plain": [
       "Map(bottom=1851.0, center=[37.471602850590656, -122.14451407746262], controls=(WidgetControl(options=['positio…"
      ]
     },
     "metadata": {},
     "output_type": "display_data"
    }
   ],
   "source": [
    "# False color composite\n",
    "Map.addLayer(image, {\"bands\":[\"B5\",\"B4\",\"B3\"],\"min\":0, \"max\":0.4}, 'False Color Composite')\n",
    "# Display the map\n",
    "Map"
   ]
  },
  {
   "cell_type": "code",
   "execution_count": 34,
   "id": "8d3bf237",
   "metadata": {},
   "outputs": [
    {
     "name": "stdout",
     "output_type": "stream",
     "text": [
      "['B1', 'B2', 'B3', 'B4', 'B5', 'B6', 'B7', 'B8', 'B9', 'B10', 'B11', 'BQA']\n"
     ]
    }
   ],
   "source": [
    "# Get all band available from the above image\n",
    "bandName=image.bandNames()\n",
    "\n",
    "print(bandName.getInfo())"
   ]
  },
  {
   "cell_type": "code",
   "execution_count": 35,
   "id": "60700e49",
   "metadata": {},
   "outputs": [
    {
     "name": "stdout",
     "output_type": "stream",
     "text": [
      "{'type': 'Projection', 'crs': 'EPSG:32610', 'transform': [30, 0, 460785, 0, -30, 4264215]}\n"
     ]
    }
   ],
   "source": [
    "# Get projection\n",
    "proj=image.select(\"B1\").projection().getInfo()\n",
    "\n",
    "print(proj) # Landsat ultilized UTM system "
   ]
  },
  {
   "cell_type": "code",
   "execution_count": 36,
   "id": "26d26849",
   "metadata": {},
   "outputs": [
    {
     "name": "stdout",
     "output_type": "stream",
     "text": [
      "Resolution B1: 30m\n"
     ]
    }
   ],
   "source": [
    "# Get spatial resolution \n",
    "resolution=image.select(\"B1\").projection().nominalScale().getInfo()\n",
    "\n",
    "print(f\"Resolution B1: {resolution}m\")"
   ]
  },
  {
   "cell_type": "code",
   "execution_count": 37,
   "id": "82067c0f",
   "metadata": {},
   "outputs": [
    {
     "name": "stdout",
     "output_type": "stream",
     "text": [
      "B1: 30m\n",
      "B2: 30m\n",
      "B3: 30m\n",
      "B4: 30m\n",
      "B5: 30m\n",
      "B6: 30m\n",
      "B7: 30m\n",
      "B8: 15m\n",
      "B9: 30m\n",
      "B10: 30m\n",
      "B11: 30m\n",
      "BQA: 30m\n"
     ]
    }
   ],
   "source": [
    "# Get all spatial resolutions of all bands\n",
    "for band in image.bandNames().getInfo():\n",
    "    res=image.select(band).projection().nominalScale().getInfo()\n",
    "    print(f\"{band}: {res}m\")"
   ]
  },
  {
   "cell_type": "code",
   "execution_count": 38,
   "id": "86fd70bf",
   "metadata": {},
   "outputs": [
    {
     "name": "stdout",
     "output_type": "stream",
     "text": [
      "Cloud percent:0.06%\n"
     ]
    }
   ],
   "source": [
    "# See cloudiness \n",
    "cloud=image.get('CLOUD_COVER').getInfo() # you don't need to remember CLOUD_COVER because this called property which is available to each image\n",
    "                                            # and it may be different terms for other dataset\n",
    "print(f\"Cloud percent:{round(cloud,3)}%\")"
   ]
  },
  {
   "cell_type": "code",
   "execution_count": 39,
   "id": "18adc448",
   "metadata": {},
   "outputs": [
    {
     "data": {
      "text/plain": [
       "'18-03-2014'"
      ]
     },
     "execution_count": 39,
     "metadata": {},
     "output_type": "execute_result"
    }
   ],
   "source": [
    "# See acquired date\n",
    "ee.Date(image.get('system:time_start')).format(\"dd-MM-YYYY\").getInfo()"
   ]
  },
  {
   "cell_type": "markdown",
   "id": "42d495e4",
   "metadata": {},
   "source": [
    "**Properties of Image**\n",
    "\n",
    "If you want to extract a specific property from an image, use `image.get('property')`."
   ]
  },
  {
   "cell_type": "code",
   "execution_count": 40,
   "id": "32ae2766",
   "metadata": {},
   "outputs": [
    {
     "name": "stdout",
     "output_type": "stream",
     "text": [
      "['system:version', 'system:id', 'RADIANCE_MULT_BAND_5', 'RADIANCE_MULT_BAND_6', 'RADIANCE_MULT_BAND_3', 'RADIANCE_MULT_BAND_4', 'RADIANCE_MULT_BAND_1', 'RADIANCE_MULT_BAND_2', 'K2_CONSTANT_BAND_11', 'K2_CONSTANT_BAND_10', 'system:footprint', 'REFLECTIVE_SAMPLES', 'SUN_AZIMUTH', 'CPF_NAME', 'DATE_ACQUIRED', 'ELLIPSOID', 'google:registration_offset_x', 'google:registration_offset_y', 'STATION_ID', 'RESAMPLING_OPTION', 'ORIENTATION', 'WRS_ROW', 'RADIANCE_MULT_BAND_9', 'TARGET_WRS_ROW', 'RADIANCE_MULT_BAND_7', 'RADIANCE_MULT_BAND_8', 'IMAGE_QUALITY_TIRS', 'TRUNCATION_OLI', 'CLOUD_COVER', 'GEOMETRIC_RMSE_VERIFY', 'COLLECTION_CATEGORY', 'GRID_CELL_SIZE_REFLECTIVE', 'CLOUD_COVER_LAND', 'GEOMETRIC_RMSE_MODEL', 'COLLECTION_NUMBER', 'IMAGE_QUALITY_OLI', 'LANDSAT_SCENE_ID', 'WRS_PATH', 'google:registration_count', 'PANCHROMATIC_SAMPLES', 'PANCHROMATIC_LINES', 'GEOMETRIC_RMSE_MODEL_Y', 'REFLECTIVE_LINES', 'TIRS_STRAY_LIGHT_CORRECTION_SOURCE', 'GEOMETRIC_RMSE_MODEL_X', 'system:asset_size', 'system:index', 'REFLECTANCE_ADD_BAND_1', 'REFLECTANCE_ADD_BAND_2', 'DATUM', 'REFLECTANCE_ADD_BAND_3', 'REFLECTANCE_ADD_BAND_4', 'RLUT_FILE_NAME', 'REFLECTANCE_ADD_BAND_5', 'REFLECTANCE_ADD_BAND_6', 'REFLECTANCE_ADD_BAND_7', 'REFLECTANCE_ADD_BAND_8', 'BPF_NAME_TIRS', 'GROUND_CONTROL_POINTS_VERSION', 'DATA_TYPE', 'UTM_ZONE', 'LANDSAT_PRODUCT_ID', 'REFLECTANCE_ADD_BAND_9', 'google:registration_ratio', 'GRID_CELL_SIZE_PANCHROMATIC', 'RADIANCE_ADD_BAND_4', 'REFLECTANCE_MULT_BAND_7', 'system:time_start', 'RADIANCE_ADD_BAND_5', 'REFLECTANCE_MULT_BAND_6', 'RADIANCE_ADD_BAND_6', 'REFLECTANCE_MULT_BAND_9', 'PROCESSING_SOFTWARE_VERSION', 'RADIANCE_ADD_BAND_7', 'REFLECTANCE_MULT_BAND_8', 'RADIANCE_ADD_BAND_1', 'RADIANCE_ADD_BAND_2', 'RADIANCE_ADD_BAND_3', 'REFLECTANCE_MULT_BAND_1', 'RADIANCE_ADD_BAND_8', 'REFLECTANCE_MULT_BAND_3', 'RADIANCE_ADD_BAND_9', 'REFLECTANCE_MULT_BAND_2', 'REFLECTANCE_MULT_BAND_5', 'REFLECTANCE_MULT_BAND_4', 'THERMAL_LINES', 'TIRS_SSM_POSITION_STATUS', 'GRID_CELL_SIZE_THERMAL', 'NADIR_OFFNADIR', 'RADIANCE_ADD_BAND_11', 'REQUEST_ID', 'EARTH_SUN_DISTANCE', 'TIRS_SSM_MODEL', 'FILE_DATE', 'SCENE_CENTER_TIME', 'SUN_ELEVATION', 'BPF_NAME_OLI', 'RADIANCE_ADD_BAND_10', 'ROLL_ANGLE', 'K1_CONSTANT_BAND_10', 'SATURATION_BAND_1', 'SATURATION_BAND_2', 'SATURATION_BAND_3', 'SATURATION_BAND_4', 'SATURATION_BAND_5', 'MAP_PROJECTION', 'SATURATION_BAND_6', 'SENSOR_ID', 'SATURATION_BAND_7', 'K1_CONSTANT_BAND_11', 'SATURATION_BAND_8', 'SATURATION_BAND_9', 'TARGET_WRS_PATH', 'RADIANCE_MULT_BAND_11', 'RADIANCE_MULT_BAND_10', 'GROUND_CONTROL_POINTS_MODEL', 'SPACECRAFT_ID', 'ELEVATION_SOURCE', 'THERMAL_SAMPLES', 'GROUND_CONTROL_POINTS_VERIFY', 'system:bands', 'system:band_names']\n"
     ]
    }
   ],
   "source": [
    "# The propertyNames() provide all property info of an image. This is basically information/parameters attributed to an image\n",
    "image_property=image.propertyNames()\n",
    "\n",
    "print(image_property.getInfo()) # A lot of info, but you may need some depending on your purpose."
   ]
  },
  {
   "cell_type": "code",
   "execution_count": 41,
   "id": "2f1ce74b",
   "metadata": {},
   "outputs": [
    {
     "data": {
      "text/plain": [
       "'LANDSAT/LC08/C01/T1_TOA/LC08_044034_20140318'"
      ]
     },
     "execution_count": 41,
     "metadata": {},
     "output_type": "execute_result"
    }
   ],
   "source": [
    "# here is system ID of the image\n",
    "image.get(\"system:id\").getInfo()"
   ]
  },
  {
   "cell_type": "markdown",
   "id": "e9069b69",
   "metadata": {},
   "source": [
    "**Band selection**"
   ]
  },
  {
   "cell_type": "code",
   "execution_count": 42,
   "id": "0cd34aac",
   "metadata": {},
   "outputs": [
    {
     "data": {
      "text/plain": [
       "['B4', 'B3', 'B2']"
      ]
     },
     "execution_count": 42,
     "metadata": {},
     "output_type": "execute_result"
    }
   ],
   "source": [
    "# Select 3 bands from all bands of the image\n",
    "threebands = ee.Image('LANDSAT/LC08/C01/T1_TOA/LC08_123032_20140515').select(['B4', 'B3', 'B2'])\n",
    "\n",
    "threebands.bandNames().getInfo()"
   ]
  },
  {
   "cell_type": "markdown",
   "id": "e3e4f74b",
   "metadata": {},
   "source": [
    "**Band rename**"
   ]
  },
  {
   "cell_type": "code",
   "execution_count": 43,
   "id": "4215701c",
   "metadata": {},
   "outputs": [],
   "source": [
    "# Change the name of bands\n",
    "test=threebands.select(\"B4\").rename(\"A\") # Band 4 changed to band A\n",
    "\n",
    "name=threebands.select(\"B3\").rename(\"B\") # Band 3 changed to band B\n",
    "\n",
    "test1=threebands.addBands(name) # Add name (band B) to test (combined with band A)"
   ]
  },
  {
   "cell_type": "code",
   "execution_count": 44,
   "id": "e31b2449",
   "metadata": {},
   "outputs": [
    {
     "data": {
      "text/plain": [
       "['Red', 'Green', 'Blue']"
      ]
     },
     "execution_count": 44,
     "metadata": {},
     "output_type": "execute_result"
    }
   ],
   "source": [
    "# Rename all bands to Red, green and blue\n",
    "test1=threebands.select(['B4', 'B3', 'B2'],[\"Red\",\"Green\",\"Blue\"])\n",
    "\n",
    "test1.bandNames().getInfo()"
   ]
  },
  {
   "cell_type": "code",
   "execution_count": 45,
   "id": "4af62d27",
   "metadata": {},
   "outputs": [
    {
     "data": {
      "application/vnd.jupyter.widget-view+json": {
       "model_id": "9698a66954884502b33817fe96f72538",
       "version_major": 2,
       "version_minor": 0
      },
      "text/plain": [
       "Map(bottom=101903.0, center=[37.471602850590656, -122.14451407746262], controls=(WidgetControl(options=['posit…"
      ]
     },
     "metadata": {},
     "output_type": "display_data"
    }
   ],
   "source": [
    "# Visualizing the night light of our planet earth\n",
    "nl2012 = ee.Image('NOAA/DMSP-OLS/NIGHTTIME_LIGHTS/F182012')\n",
    "lights = nl2012.select('stable_lights')\n",
    "palette= ['#000000', '#1a1a17', '#434343', '#ff3414',\"#ff1212\"]\n",
    "Map.addLayer(lights, {\"min\":-30.2,\"max\":38.5, \"palette\":palette}, 'Nighttime lights')\n",
    "Map"
   ]
  },
  {
   "cell_type": "markdown",
   "id": "ce8e684f",
   "metadata": {},
   "source": [
    "**Elevation data**"
   ]
  },
  {
   "cell_type": "code",
   "execution_count": 46,
   "id": "a63ff2c1",
   "metadata": {},
   "outputs": [
    {
     "data": {
      "application/vnd.jupyter.widget-view+json": {
       "model_id": "9698a66954884502b33817fe96f72538",
       "version_major": 2,
       "version_minor": 0
      },
      "text/plain": [
       "Map(bottom=101903.0, center=[37.471602850590656, -122.14451407746262], controls=(WidgetControl(options=['posit…"
      ]
     },
     "metadata": {},
     "output_type": "display_data"
    }
   ],
   "source": [
    "# Visualize the DEM (30m). Please check for more accurate.\n",
    "SRTM=ee.Image(\"CGIAR/SRTM90_V4\")\n",
    "vis_params = {\n",
    "  'min': 0,\n",
    "  'max': 4000,\n",
    "  'palette': ['006633', 'E5FFCC', '662A00', 'D8D8D8', 'F5F5F5']}\n",
    "Map.addLayer(SRTM,vis_params,\"DEM\")\n",
    "Map"
   ]
  },
  {
   "cell_type": "markdown",
   "id": "daa95b37",
   "metadata": {},
   "source": [
    "**Sentinel-2 data**"
   ]
  },
  {
   "cell_type": "code",
   "execution_count": 47,
   "id": "891260fb",
   "metadata": {},
   "outputs": [
    {
     "data": {
      "application/vnd.jupyter.widget-view+json": {
       "model_id": "9698a66954884502b33817fe96f72538",
       "version_major": 2,
       "version_minor": 0
      },
      "text/plain": [
       "Map(bottom=101903.0, center=[55.38351156485216, 167.83524736593878], controls=(WidgetControl(options=['positio…"
      ]
     },
     "metadata": {},
     "output_type": "display_data"
    }
   ],
   "source": [
    "# Select the first cloud-free Sentinel-2 image for 2020\n",
    "sentinel2=ee.ImageCollection(\"COPERNICUS/S2_SR\").filterDate(\"2020-01-01\",\"2020-12-31\").\\\n",
    "filterMetadata(\"CLOUDY_PIXEL_PERCENTAGE\", \"less_than\",30).first()\n",
    "\n",
    "Map.centerObject(sentinel2,10)\n",
    "\n",
    "Map.addLayer(sentinel2,{},\"Sentinel\") # We have not set any visualization yet. So it is black, but no worries. later we will make it better.\n",
    "\n",
    "Map"
   ]
  },
  {
   "cell_type": "code",
   "execution_count": null,
   "id": "0d857c92",
   "metadata": {},
   "outputs": [],
   "source": []
  }
 ],
 "metadata": {
  "kernelspec": {
   "display_name": "Python 3 (ipykernel)",
   "language": "python",
   "name": "python3"
  },
  "language_info": {
   "codemirror_mode": {
    "name": "ipython",
    "version": 3
   },
   "file_extension": ".py",
   "mimetype": "text/x-python",
   "name": "python",
   "nbconvert_exporter": "python",
   "pygments_lexer": "ipython3",
   "version": "3.8.10"
  }
 },
 "nbformat": 4,
 "nbformat_minor": 5
}
