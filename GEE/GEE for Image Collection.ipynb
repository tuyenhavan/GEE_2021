{
 "cells": [
  {
   "cell_type": "code",
   "execution_count": 62,
   "metadata": {},
   "outputs": [],
   "source": [
    "import ee\n",
    "import geemap as emap"
   ]
  },
  {
   "cell_type": "code",
   "execution_count": 63,
   "metadata": {},
   "outputs": [
    {
     "data": {
      "text/html": [
       "<p>To authorize access needed by Earth Engine, open the following\n",
       "        URL in a web browser and follow the instructions:</p>\n",
       "        <p><a href=https://accounts.google.com/o/oauth2/auth?client_id=517222506229-vsmmajv00ul0bs7p89v5m89qs8eb9359.apps.googleusercontent.com&scope=https%3A%2F%2Fwww.googleapis.com%2Fauth%2Fearthengine+https%3A%2F%2Fwww.googleapis.com%2Fauth%2Fdevstorage.full_control&redirect_uri=urn%3Aietf%3Awg%3Aoauth%3A2.0%3Aoob&response_type=code&code_challenge=g1WAq_MxYMx6v2rt1I5zRGSn3s6Zv563qCEDylxpYj0&code_challenge_method=S256>https://accounts.google.com/o/oauth2/auth?client_id=517222506229-vsmmajv00ul0bs7p89v5m89qs8eb9359.apps.googleusercontent.com&scope=https%3A%2F%2Fwww.googleapis.com%2Fauth%2Fearthengine+https%3A%2F%2Fwww.googleapis.com%2Fauth%2Fdevstorage.full_control&redirect_uri=urn%3Aietf%3Awg%3Aoauth%3A2.0%3Aoob&response_type=code&code_challenge=g1WAq_MxYMx6v2rt1I5zRGSn3s6Zv563qCEDylxpYj0&code_challenge_method=S256</a></p>\n",
       "        <p>The authorization workflow will generate a code, which you\n",
       "        should paste in the box below</p>\n",
       "        "
      ],
      "text/plain": [
       "<IPython.core.display.HTML object>"
      ]
     },
     "metadata": {},
     "output_type": "display_data"
    },
    {
     "name": "stdout",
     "output_type": "stream",
     "text": [
      "Enter verification code: 4/1AX4XfWiYZQbjwDR6lihM_UYPhRtJEHZnj_BKyYBLON60bXGku0MkG8TSw-U\n",
      "\n",
      "Successfully saved authorization token.\n"
     ]
    }
   ],
   "source": [
    "# Initialize ee\n",
    "ee.Initialize()\n",
    "ee.Authenticate()"
   ]
  },
  {
   "cell_type": "code",
   "execution_count": 65,
   "metadata": {
    "scrolled": true
   },
   "outputs": [
    {
     "data": {
      "application/vnd.jupyter.widget-view+json": {
       "model_id": "b5bc9a77bc8344a9b98a5f9abe2db189",
       "version_major": 2,
       "version_minor": 0
      },
      "text/plain": [
       "Map(center=[40, -100], controls=(WidgetControl(options=['position', 'transparent_bg'], widget=HBox(children=(T…"
      ]
     },
     "metadata": {},
     "output_type": "display_data"
    }
   ],
   "source": [
    "Map=emap.Map()\n",
    "\n",
    "Map"
   ]
  },
  {
   "cell_type": "markdown",
   "metadata": {},
   "source": [
    "# <font color=\"blue\"> 1. Create a image collection </font>"
   ]
  },
  {
   "cell_type": "code",
   "execution_count": 67,
   "metadata": {},
   "outputs": [
    {
     "data": {
      "text/plain": [
       "{'type': 'Image',\n",
       " 'bands': [{'id': 'B1',\n",
       "   'data_type': {'type': 'PixelType', 'precision': 'int', 'min': 1, 'max': 1},\n",
       "   'crs': 'EPSG:4326',\n",
       "   'crs_transform': [1, 0, 0, 0, 1, 0]}]}"
      ]
     },
     "execution_count": 67,
     "metadata": {},
     "output_type": "execute_result"
    }
   ],
   "source": [
    "# Create arbitrary constant images.\n",
    "constant1 = ee.Image(1).rename(\"B1\") # create a constant image and rename it as B1\n",
    "constant2 = ee.Image(2).rename(\"B2\")\n",
    "# Get info of image1\n",
    "constant1.getInfo()"
   ]
  },
  {
   "cell_type": "markdown",
   "metadata": {},
   "source": [
    "**Create a image collection from various single images/bands**"
   ]
  },
  {
   "cell_type": "code",
   "execution_count": 68,
   "metadata": {},
   "outputs": [
    {
     "name": "stdout",
     "output_type": "stream",
     "text": [
      "collectionFromConstructor:  {'type': 'ImageCollection', 'bands': [], 'features': [{'type': 'Image', 'bands': [{'id': 'B1', 'data_type': {'type': 'PixelType', 'precision': 'int', 'min': 1, 'max': 1}, 'crs': 'EPSG:4326', 'crs_transform': [1, 0, 0, 0, 1, 0]}], 'properties': {'system:index': '0'}}, {'type': 'Image', 'bands': [{'id': 'B2', 'data_type': {'type': 'PixelType', 'precision': 'int', 'min': 2, 'max': 2}, 'crs': 'EPSG:4326', 'crs_transform': [1, 0, 0, 0, 1, 0]}], 'properties': {'system:index': '1'}}]}\n"
     ]
    }
   ],
   "source": [
    "# Create a collection by giving a list to the constructor.\n",
    "collectionFromConstructor = ee.ImageCollection([constant1, constant2])\n",
    "print('collectionFromConstructor: ', collectionFromConstructor.getInfo())"
   ]
  },
  {
   "cell_type": "code",
   "execution_count": 69,
   "metadata": {},
   "outputs": [
    {
     "name": "stdout",
     "output_type": "stream",
     "text": [
      "collectionFromImages:  {'type': 'ImageCollection', 'bands': [], 'features': [{'type': 'Image', 'bands': [{'id': 'constant', 'data_type': {'type': 'PixelType', 'precision': 'double', 'min': 3.5, 'max': 3.5}, 'crs': 'EPSG:4326', 'crs_transform': [1, 0, 0, 0, 1, 0]}], 'properties': {'system:index': '0'}}, {'type': 'Image', 'bands': [{'id': 'constant', 'data_type': {'type': 'PixelType', 'precision': 'int', 'min': 4, 'max': 4}, 'crs': 'EPSG:4326', 'crs_transform': [1, 0, 0, 0, 1, 0]}], 'properties': {'system:index': '1'}}]}\n"
     ]
    }
   ],
   "source": [
    "# Alterantively, create a collection with fromImages().\n",
    "collectionFromImages = ee.ImageCollection.fromImages(\n",
    "  [ee.Image(3.5), ee.Image(4)])\n",
    "print('collectionFromImages: ', collectionFromImages.getInfo())"
   ]
  },
  {
   "cell_type": "markdown",
   "metadata": {},
   "source": [
    "**We can merge two or more collection**"
   ]
  },
  {
   "cell_type": "code",
   "execution_count": 70,
   "metadata": {},
   "outputs": [
    {
     "name": "stdout",
     "output_type": "stream",
     "text": [
      "mergedCollection:  {'type': 'ImageCollection', 'bands': [], 'features': [{'type': 'Image', 'bands': [{'id': 'B1', 'data_type': {'type': 'PixelType', 'precision': 'int', 'min': 1, 'max': 1}, 'crs': 'EPSG:4326', 'crs_transform': [1, 0, 0, 0, 1, 0]}], 'properties': {'system:index': '1_0'}}, {'type': 'Image', 'bands': [{'id': 'B2', 'data_type': {'type': 'PixelType', 'precision': 'int', 'min': 2, 'max': 2}, 'crs': 'EPSG:4326', 'crs_transform': [1, 0, 0, 0, 1, 0]}], 'properties': {'system:index': '1_1'}}, {'type': 'Image', 'bands': [{'id': 'constant', 'data_type': {'type': 'PixelType', 'precision': 'double', 'min': 3.5, 'max': 3.5}, 'crs': 'EPSG:4326', 'crs_transform': [1, 0, 0, 0, 1, 0]}], 'properties': {'system:index': '2_0'}}, {'type': 'Image', 'bands': [{'id': 'constant', 'data_type': {'type': 'PixelType', 'precision': 'int', 'min': 4, 'max': 4}, 'crs': 'EPSG:4326', 'crs_transform': [1, 0, 0, 0, 1, 0]}], 'properties': {'system:index': '2_1'}}]}\n"
     ]
    }
   ],
   "source": [
    "# Merge two collections.\n",
    "mergedCollection = collectionFromConstructor.merge(collectionFromImages)\n",
    "print('mergedCollection: ', mergedCollection.getInfo())"
   ]
  },
  {
   "cell_type": "markdown",
   "metadata": {},
   "source": [
    "# <font color=\"blue\"> Select image Collection </font>"
   ]
  },
  {
   "cell_type": "code",
   "execution_count": 71,
   "metadata": {},
   "outputs": [
    {
     "data": {
      "application/vnd.jupyter.widget-view+json": {
       "model_id": "b5bc9a77bc8344a9b98a5f9abe2db189",
       "version_major": 2,
       "version_minor": 0
      },
      "text/plain": [
       "Map(bottom=1851.0, center=[16.453064229938988, 106.45862984398038], controls=(WidgetControl(options=['position…"
      ]
     },
     "metadata": {},
     "output_type": "display_data"
    }
   ],
   "source": [
    "VN=ee.FeatureCollection(\"users/havantuyen/VN_Map\")\n",
    "Map.centerObject(VN,5)\n",
    "Map.addLayer(VN,{},\"Vietnam\")\n",
    "Map"
   ]
  },
  {
   "cell_type": "code",
   "execution_count": 72,
   "metadata": {},
   "outputs": [
    {
     "name": "stdout",
     "output_type": "stream",
     "text": [
      " A total of 308 images\n"
     ]
    }
   ],
   "source": [
    "# Load a Landsat 8 ImageCollection for VN for 2020\n",
    "landsat8 = ee.ImageCollection('LANDSAT/LC08/C01/T1_TOA').filterDate('2020-01-01', '2020-12-31').filterBounds(VN).\\\n",
    "filterMetadata(\"CLOUD_COVER\",\"less_than\",30) # Get only images with less than 30% of cloud\n",
    "\n",
    "# Get the number of images.\n",
    "count = landsat8.size()\n",
    "print(f\" A total of {count.getInfo()} images\")"
   ]
  },
  {
   "cell_type": "code",
   "execution_count": 73,
   "metadata": {},
   "outputs": [
    {
     "name": "stdout",
     "output_type": "stream",
     "text": [
      "365 images\n"
     ]
    }
   ],
   "source": [
    "# MODIS temperature for 2020\n",
    "modis=ee.ImageCollection(\"MODIS/006/MOD11A1\").filterDate('2020-01-01', '2020-12-31').filterBounds(VN).select(\"LST_Day_1km\")\n",
    "\n",
    "# Get the number of images.\n",
    "count = modis.size()\n",
    "print(f\"{count.getInfo()} images\")"
   ]
  },
  {
   "cell_type": "code",
   "execution_count": 74,
   "metadata": {},
   "outputs": [
    {
     "name": "stdout",
     "output_type": "stream",
     "text": [
      "Date range:  {'type': 'Date', 'value': 1577936135573} {'type': 'Date', 'value': 1609298419022}\n"
     ]
    }
   ],
   "source": [
    "# Get the date range of images in the collection.\n",
    "range = landsat8.reduceColumns(ee.Reducer.minMax(), [\"system:time_start\"])\n",
    "print('Date range: ', ee.Date(range.get('min')).getInfo(), ee.Date(range.get('max')).getInfo())"
   ]
  },
  {
   "cell_type": "code",
   "execution_count": 75,
   "metadata": {},
   "outputs": [
    {
     "data": {
      "text/plain": [
       "[1365638400000, 1633564800000]"
      ]
     },
     "execution_count": 75,
     "metadata": {},
     "output_type": "execute_result"
    }
   ],
   "source": [
    "# Better way of extracting start and end time\n",
    "landsat8.get(\"date_range\").getInfo()"
   ]
  },
  {
   "cell_type": "code",
   "execution_count": 76,
   "metadata": {},
   "outputs": [
    {
     "name": "stdout",
     "output_type": "stream",
     "text": [
      "Date range:  2020-01-02 2020-12-30\n"
     ]
    }
   ],
   "source": [
    "# get human readbale date format.\n",
    "range1 = landsat8.reduceColumns(ee.Reducer.minMax(), [\"system:time_start\"])\n",
    "start_date = ee.Date(range1.get('min')).format(\"YYYY-MM-dd\")\n",
    "end_date = ee.Date(range1.get('max')).format(\"YYYY-MM-dd\")\n",
    "print('Date range: ', start_date.getInfo(), end_date.getInfo())"
   ]
  },
  {
   "cell_type": "code",
   "execution_count": 77,
   "metadata": {},
   "outputs": [
    {
     "name": "stdout",
     "output_type": "stream",
     "text": [
      "Sun elevation statistics:  {'max': -57.31108856201172, 'mean': -59.41173877963772, 'min': -61.275508880615234, 'sample_sd': 1.4418822426544458, 'sample_var': 2.0790244016822137, 'sum': -18298.815544128418, 'sum_sq': 1087802.7095758482, 'total_count': 308, 'total_sd': 1.4395396217040963, 'total_var': 2.0722743224559728, 'valid_count': 308, 'weight_sum': 308, 'weighted_sum': -18298.815544128418}\n"
     ]
    }
   ],
   "source": [
    "# Get statistics for a property of the images in the collection.\n",
    "sunStats = landsat8.aggregate_stats('RADIANCE_ADD_BAND_3') # it aggregates all images and calculate statistics for a given property\n",
    "print('Sun elevation statistics: ', sunStats.getInfo())"
   ]
  },
  {
   "cell_type": "code",
   "execution_count": 78,
   "metadata": {},
   "outputs": [
    {
     "name": "stdout",
     "output_type": "stream",
     "text": [
      "Cloud covers:  [8.390000343322754, 11.920000076293945, 0.36000001430511475, 11, 3.8499999046325684, 5.809999942779541, 2.9700000286102295, 10.680000305175781, 9.170000076293945, 7.369999885559082, 26.770000457763672, 4.849999904632568, 5.099999904632568, 12.619999885559082, 7.440000057220459, 11.979999542236328, 22.559999465942383, 7.730000019073486, 9.40999984741211, 16.190000534057617, 11.520000457763672, 4.71999979019165, 12.229999542236328, 16.760000228881836, 5.889999866485596, 3.630000114440918, 5.619999885559082, 7.340000152587891, 7.300000190734863, 23.829999923706055, 15.130000114440918, 25.829999923706055, 13.850000381469727, 6.119999885559082, 6.389999866485596, 19.510000228881836, 3.25, 3.2699999809265137, 8.640000343322754, 5.96999979019165, 4.099999904632568, 21.219999313354492, 10.100000381469727, 6.96999979019165, 9.649999618530273, 2.609999895095825, 7.800000190734863, 6.760000228881836, 16.56999969482422, 23.84000015258789, 23.020000457763672, 29.59000015258789, 7.159999847412109, 10.4399995803833, 14.40999984741211, 15.380000114440918, 12.550000190734863, 15.789999961853027, 18.399999618530273, 11.170000076293945, 21.329999923706055, 26.81999969482422, 4.840000152587891, 3.009999990463257, 8.710000038146973, 13.279999732971191, 5.960000038146973, 11.579999923706055, 16.829999923706055, 6.190000057220459, 18.56999969482422, 12.350000381469727, 12.399999618530273, 0.6700000166893005, 11.850000381469727, 1.0199999809265137, 1.5399999618530273, 9.229999542236328, 3.4200000762939453, 5.980000019073486, 13.449999809265137, 6.789999961853027, 2.4100000858306885, 8, 17.75, 22.030000686645508, 24.6200008392334, 15.819999694824219, 20.049999237060547, 13.899999618530273, 7.039999961853027, 15.579999923706055, 4.590000152587891, 17.3700008392334, 9.890000343322754, 10.859999656677246, 23.5, 27.719999313354492, 21.510000228881836, 24.1200008392334, 21.989999771118164, 0.20000000298023224, 3.559999942779541, 4.400000095367432, 9.9399995803833, 13, 17.719999313354492, 9.970000267028809, 20.229999542236328, 21.239999771118164, 26.239999771118164, 24.43000030517578, 0.38999998569488525, 25.09000015258789, 11.5, 7.599999904632568, 7.429999828338623, 14.220000267028809, 22.93000030517578, 12.050000190734863, 8.989999771118164, 5.230000019073486, 11.460000038146973, 15.079999923706055, 9.220000267028809, 14.75, 21.1200008392334, 18.399999618530273, 22.260000228881836, 9.739999771118164, 26.790000915527344, 21.979999542236328, 26.219999313354492, 23.549999237060547, 21.899999618530273, 16.360000610351562, 15.600000381469727, 2.0799999237060547, 13.3100004196167, 2.5199999809265137, 8.319999694824219, 6.730000019073486, 7.460000038146973, 24.84000015258789, 20.309999465942383, 9.260000228881836, 13.770000457763672, 22.030000686645508, 25.510000228881836, 0.10000000149011612, 0, 0.6100000143051147, 0.30000001192092896, 7.099999904632568, 23.549999237060547, 6.380000114440918, 8.949999809265137, 14.270000457763672, 0.1599999964237213, 0.10999999940395355, 8.760000228881836, 1.1399999856948853, 8.800000190734863, 7.170000076293945, 18.700000762939453, 7.550000190734863, 0.6399999856948853, 0.9700000286102295, 1.9500000476837158, 0.2199999988079071, 21.010000228881836, 5.730000019073486, 26.540000915527344, 2.259999990463257, 18.010000228881836, 7.579999923706055, 0.25, 9.960000038146973, 26.06999969482422, 19.459999084472656, 25.149999618530273, 22.81999969482422, 5.78000020980835, 3.509999990463257, 12.59000015258789, 14.34000015258789, 29.729999542236328, 27.1299991607666, 22.09000015258789, 0.019999999552965164, 26.479999542236328, 7, 5.579999923706055, 18.68000030517578, 25.639999389648438, 12.0600004196167, 14.40999984741211, 26.920000076293945, 2.0799999237060547, 11.880000114440918, 5.110000133514404, 12.130000114440918, 17.899999618530273, 27.940000534057617, 27.270000457763672, 11.649999618530273, 0.7200000286102295, 0.07000000029802322, 22.68000030517578, 10.220000267028809, 18.59000015258789, 14.420000076293945, 28.010000228881836, 24.43000030517578, 22.079999923706055, 29.969999313354492, 19.760000228881836, 23.040000915527344, 7.429999828338623, 20.979999542236328, 18.170000076293945, 22.360000610351562, 15.229999542236328, 20.93000030517578, 13.40999984741211, 23.219999313354492, 2.809999942779541, 7.010000228881836, 8.109999656677246, 5.070000171661377, 19.06999969482422, 6.360000133514404, 20.6299991607666, 8.140000343322754, 3.690000057220459, 14.630000114440918, 24.959999084472656, 9.0600004196167, 20.170000076293945, 23.979999542236328, 12.850000381469727, 25.09000015258789, 26.18000030517578, 6.690000057220459, 6.320000171661377, 15.300000190734863, 15.729999542236328, 15.850000381469727, 5.190000057220459, 27.889999389648438, 27.110000610351562, 26.18000030517578, 17.920000076293945, 24.510000228881836, 2.190000057220459, 14.039999961853027, 10.729999542236328, 1.0099999904632568, 14.989999771118164, 23.81999969482422, 8.420000076293945, 29.920000076293945, 0.6600000262260437, 17.989999771118164, 6.369999885559082, 8.949999809265137, 11.979999542236328, 14.050000190734863, 24.799999237060547, 13.369999885559082, 12.300000190734863, 2.4000000953674316, 17.540000915527344, 14.899999618530273, 14.050000190734863, 15.1899995803833, 0.4300000071525574, 0.44999998807907104, 23.65999984741211, 10.119999885559082, 13.239999771118164, 13.149999618530273, 13.130000114440918, 15.65999984741211, 22.739999771118164, 27.649999618530273, 27.56999969482422, 2.359999895095825, 26.079999923706055, 0.3700000047683716, 19.1200008392334, 13.09000015258789, 7.489999771118164, 5.679999828338623, 10.9399995803833, 27.989999771118164, 6.889999866485596, 18.290000915527344, 15.5, 3.3299999237060547, 8.979999542236328, 7.940000057220459, 14.979999542236328, 1.940000057220459, 2.2899999618530273, 16.559999465942383, 8.220000267028809, 14.880000114440918]\n"
     ]
    }
   ],
   "source": [
    "# List a value of a property for all images in the collection.\n",
    "clouds = landsat8.aggregate_array('CLOUD_COVER') # List cloud cover percentages of all images in the collection\n",
    "print('Cloud covers: ', clouds.getInfo())"
   ]
  },
  {
   "cell_type": "code",
   "execution_count": 79,
   "metadata": {},
   "outputs": [
    {
     "name": "stdout",
     "output_type": "stream",
     "text": [
      "\n",
      "Cloud cover:  0\n"
     ]
    }
   ],
   "source": [
    "# Sort by a cloud cover property, get the least cloudy image.\n",
    "image = ee.Image(landsat8.sort('CLOUD_COVER').first())\n",
    "print('\\nCloud cover: ', image.get(\"CLOUD_COVER\").getInfo())"
   ]
  },
  {
   "cell_type": "code",
   "execution_count": 80,
   "metadata": {},
   "outputs": [
    {
     "name": "stdout",
     "output_type": "stream",
     "text": [
      " 10 recent images:\n",
      "LC08_126052_20201230\n",
      "LC08_128047_20201228\n",
      "LC08_128046_20201228\n",
      "LC08_127053_20201221\n",
      "LC08_128047_20201212\n",
      "LC08_128046_20201212\n",
      "LC08_125050_20201207\n",
      "LC08_125045_20201207\n",
      "LC08_118054_20201206\n",
      "LC08_127054_20201205\n"
     ]
    }
   ],
   "source": [
    "# Limit the collection to the 10 images.\n",
    "recent = landsat8.sort('system:time_start', False).limit(10)\n",
    "images = recent.aggregate_array('system:index').getInfo()\n",
    "print(\" 10 recent images:\")\n",
    "for image in images:\n",
    "    print(image)"
   ]
  },
  {
   "cell_type": "markdown",
   "metadata": {},
   "source": [
    "# 1. Select Multiple Images\n",
    "\n",
    "##### Filter or get `best` image from a ImageCollection"
   ]
  },
  {
   "cell_type": "code",
   "execution_count": 33,
   "metadata": {},
   "outputs": [],
   "source": [
    "# Filter date, bounds and sort by cloud cover\n",
    "## Define the region of interest\n",
    "point=ee.Geometry.Point(105.46,21.41) # Hanoi, Vietnam\n",
    "## Filter by collection\n",
    "LS8=ee.ImageCollection(\"LANDSAT/LC08/C01/T1_TOA\").filterDate(\"2014-01-01\",\"2015-01-01\").\\\n",
    "filterBounds(point).sort(\"CLOUD_COVER\") # 2014"
   ]
  },
  {
   "cell_type": "code",
   "execution_count": 37,
   "metadata": {},
   "outputs": [
    {
     "name": "stdout",
     "output_type": "stream",
     "text": [
      "a total of 17 images\n"
     ]
    }
   ],
   "source": [
    "# Print out the number of images \n",
    "print(\"a total of\",LS8.size().getInfo(),\"images\")\n"
   ]
  },
  {
   "cell_type": "code",
   "execution_count": 46,
   "metadata": {},
   "outputs": [
    {
     "data": {
      "application/vnd.jupyter.widget-view+json": {
       "model_id": "bd7cc85ec7284f059166fe8497658d96",
       "version_major": 2,
       "version_minor": 0
      },
      "text/plain": [
       "Map(bottom=115406.0, center=[21.41, 105.46000000000001], controls=(WidgetControl(options=['position', 'transpa…"
      ]
     },
     "metadata": {},
     "output_type": "display_data"
    }
   ],
   "source": [
    "# Visualizing the above image\n",
    "vis={\"bands\":[\"B4\",\"B3\",\"B2\"],\"min\":0.046, \"max\":0.389}\n",
    "# Center the map\n",
    "Map.centerObject(point,10)\n",
    "# Plot the image\n",
    "Map.addLayer(image, vis, \"Image 2014\")\n",
    "Map"
   ]
  },
  {
   "cell_type": "code",
   "execution_count": null,
   "metadata": {},
   "outputs": [],
   "source": [
    "# Investigate the image property\n",
    "image.getInfo()"
   ]
  },
  {
   "cell_type": "markdown",
   "metadata": {},
   "source": [
    "**We can add property to an existing image**"
   ]
  },
  {
   "cell_type": "code",
   "execution_count": 44,
   "metadata": {},
   "outputs": [
    {
     "name": "stdout",
     "output_type": "stream",
     "text": [
      "Ha Noi\n"
     ]
    }
   ],
   "source": [
    "# Set property for image\n",
    "date_code=ee.Date(image.get('system:time_start')).format(\"dd-MM-YYYY\")\n",
    "\n",
    "# date_code.getInfo()\n",
    "\n",
    "addedProperty=image.set({\"Date\": date_code,\"City\":\"Ha Noi\"})\n",
    "\n",
    "print(addedProperty.get(\"City\").getInfo())"
   ]
  },
  {
   "cell_type": "markdown",
   "metadata": {},
   "source": [
    "##### Write a function to select the best image by each year from 2015 to 2020"
   ]
  },
  {
   "cell_type": "code",
   "execution_count": 47,
   "metadata": {},
   "outputs": [
    {
     "data": {
      "text/plain": [
       "7"
      ]
     },
     "execution_count": 47,
     "metadata": {},
     "output_type": "execute_result"
    }
   ],
   "source": [
    "def bestImage(year):\n",
    "    start_year=ee.Date.fromYMD(year, 1,1)\n",
    "    end_year=start_year.advance(1,\"year\") # increase 1 year every iteration\n",
    "    image=ee.ImageCollection(\"LANDSAT/LC08/C01/T1_TOA\").filterDate(start_year,end_year).\\\n",
    "filterBounds(point).sort(\"CLOUD_COVER\").first()\n",
    "    return image\n",
    "years=ee.List.sequence(2014,2020)\n",
    "\n",
    "myImage=years.map(bestImage)\n",
    "# See the number of images\n",
    "myImage.size().getInfo()"
   ]
  },
  {
   "cell_type": "code",
   "execution_count": 48,
   "metadata": {},
   "outputs": [
    {
     "name": "stdout",
     "output_type": "stream",
     "text": [
      "Cloud Cover: 0.12 %\n",
      "Cloud Cover: 0.83 %\n",
      "Cloud Cover: 1.53 %\n",
      "Cloud Cover: 5.54 %\n",
      "Cloud Cover: 8.37 %\n",
      "Cloud Cover: 19.1 %\n",
      "Cloud Cover: 25.1 %\n"
     ]
    }
   ],
   "source": [
    "# Combine to make an image collection\n",
    "collection=ee.ImageCollection(myImage)\n",
    "# See cloud cover each image\n",
    "for i in sorted(collection.aggregate_array(\"CLOUD_COVER\").getInfo()):\n",
    "    print(\"Cloud Cover: {:.3} %\".format(i))"
   ]
  },
  {
   "cell_type": "code",
   "execution_count": 49,
   "metadata": {},
   "outputs": [
    {
     "data": {
      "application/vnd.jupyter.widget-view+json": {
       "model_id": "bd7cc85ec7284f059166fe8497658d96",
       "version_major": 2,
       "version_minor": 0
      },
      "text/plain": [
       "Map(bottom=115406.0, center=[21.41, 105.46000000000001], controls=(WidgetControl(options=['position', 'transpa…"
      ]
     },
     "metadata": {},
     "output_type": "display_data"
    }
   ],
   "source": [
    "# Visualize each image\n",
    "for index in [0,1,2,3,4,5,6]:\n",
    "    image=ee.Image(myImage.get(index))\n",
    "    layerName=\"Image \"+ str(years.getInfo()[index])\n",
    "    Map.addLayer(image, vis, layerName, False)\n",
    "Map"
   ]
  },
  {
   "cell_type": "markdown",
   "metadata": {},
   "source": [
    "##### Writing a function to select monthly images "
   ]
  },
  {
   "cell_type": "code",
   "execution_count": null,
   "metadata": {},
   "outputs": [],
   "source": [
    "years=range(2015,2021)\n",
    "months=range(1,13)\n",
    "import datetime as dt\n",
    "for year in years:\n",
    "    for month in months:\n",
    "        start=ee.Date.fromYMD(year,month,1)\n",
    "        end=start.advance(1, \"month\")\n",
    "#         print(\"Starting month:\",start.get(\"month\").getInfo(),\"-\", end.get(\"month\").getInfo())\n",
    "# It take some time"
   ]
  },
  {
   "cell_type": "markdown",
   "metadata": {},
   "source": [
    "## Display property as our desire"
   ]
  },
  {
   "cell_type": "code",
   "execution_count": 61,
   "metadata": {},
   "outputs": [
    {
     "name": "stdout",
     "output_type": "stream",
     "text": [
      "RADIANCE_MULT_BAND_5 : 0.005916700232774019\n",
      "RADIANCE_MULT_BAND_6 : 0.0014714000280946493\n",
      "RADIANCE_MULT_BAND_3 : 0.011466000229120255\n",
      "RADIANCE_MULT_BAND_4 : 0.00966859981417656\n",
      "RADIANCE_MULT_BAND_1 : 0.012151000089943409\n",
      "RADIANCE_MULT_BAND_2 : 0.012443000450730324\n",
      "K2_CONSTANT_BAND_11 : 1201.1441650390625\n",
      "K2_CONSTANT_BAND_10 : 1321.078857421875\n",
      "system:footprint : {'type': 'LinearRing', 'coordinates': [[106.19853233208539, 20.614781976648437], [106.1991383755885, 20.615902250262256], [106.22327794516717, 20.716529413691653], [106.25403100186922, 20.84461777695151], [106.31506237316437, 21.098238400091283], [106.35810525150184, 21.276752088691048], [106.42216046442657, 21.541764324387373], [106.58263092472738, 22.202740623662542], [106.61798347299015, 22.34859547370889], [105.22996972738969, 22.634444961613006], [104.81971550744727, 22.71642664247542], [104.81412529374815, 22.71745718806048], [104.81234222728955, 22.71163970233053], [104.73975009574556, 22.400542446447353], [104.44949971638219, 21.13421436029343], [104.41601454713461, 20.98565427173306], [104.41814948689237, 20.98499403796427], [105.18769491668671, 20.82745264602929], [106.15851601707237, 20.623309610982123], [106.19853233208539, 20.614781976648437]]}\n",
      "REFLECTIVE_SAMPLES : 7601\n",
      "SUN_AZIMUTH : 85.43524932861328\n",
      "CPF_NAME : LC08CPF_20200701_20200930_01.01\n",
      "DATE_ACQUIRED : 2020-07-14\n",
      "ELLIPSOID : WGS84\n",
      "google:registration_offset_x : -677.9989624023438\n",
      "google:registration_offset_y : 177.12249755859375\n",
      "STATION_ID : LGN\n",
      "RESAMPLING_OPTION : CUBIC_CONVOLUTION\n",
      "ORIENTATION : NORTH_UP\n",
      "WRS_ROW : 45\n",
      "RADIANCE_MULT_BAND_9 : 0.0023123999126255512\n",
      "TARGET_WRS_ROW : 45\n",
      "RADIANCE_MULT_BAND_7 : 0.0004959499929100275\n",
      "RADIANCE_MULT_BAND_8 : 0.010941999964416027\n",
      "IMAGE_QUALITY_TIRS : 9\n",
      "TRUNCATION_OLI : UPPER\n",
      "CLOUD_COVER : 25.09000015258789\n",
      "COLLECTION_CATEGORY : T1\n",
      "GRID_CELL_SIZE_REFLECTIVE : 30\n",
      "CLOUD_COVER_LAND : 25.09000015258789\n",
      "GEOMETRIC_RMSE_MODEL : 7.866000175476074\n",
      "COLLECTION_NUMBER : 1\n",
      "IMAGE_QUALITY_OLI : 9\n",
      "LANDSAT_SCENE_ID : LC81270452020196LGN00\n",
      "WRS_PATH : 127\n",
      "google:registration_count : 18\n",
      "PANCHROMATIC_SAMPLES : 15201\n",
      "PANCHROMATIC_LINES : 15521\n",
      "GEOMETRIC_RMSE_MODEL_Y : 5.4670000076293945\n",
      "REFLECTIVE_LINES : 7761\n",
      "TIRS_STRAY_LIGHT_CORRECTION_SOURCE : TIRS\n",
      "GEOMETRIC_RMSE_MODEL_X : 5.65500020980835\n",
      "system:asset_size : 1307603229\n",
      "system:index : LC08_127045_20200714\n",
      "REFLECTANCE_ADD_BAND_1 : -0.10000000149011612\n",
      "REFLECTANCE_ADD_BAND_2 : -0.10000000149011612\n",
      "DATUM : WGS84\n",
      "REFLECTANCE_ADD_BAND_3 : -0.10000000149011612\n",
      "REFLECTANCE_ADD_BAND_4 : -0.10000000149011612\n",
      "RLUT_FILE_NAME : LC08RLUT_20150303_20431231_01_12.h5\n",
      "REFLECTANCE_ADD_BAND_5 : -0.10000000149011612\n",
      "REFLECTANCE_ADD_BAND_6 : -0.10000000149011612\n",
      "REFLECTANCE_ADD_BAND_7 : -0.10000000149011612\n",
      "REFLECTANCE_ADD_BAND_8 : -0.10000000149011612\n",
      "BPF_NAME_TIRS : LT8BPF20200705192819_20200719110031.01\n",
      "GROUND_CONTROL_POINTS_VERSION : 4\n",
      "DATA_TYPE : L1TP\n",
      "UTM_ZONE : 48\n",
      "system:time_end : 1594696996964\n",
      "LANDSAT_PRODUCT_ID : LC08_L1TP_127045_20200714_20200722_01_T1\n",
      "REFLECTANCE_ADD_BAND_9 : -0.10000000149011612\n",
      "google:registration_ratio : 0.3103448152542114\n",
      "GRID_CELL_SIZE_PANCHROMATIC : 15\n",
      "RADIANCE_ADD_BAND_4 : -48.34318161010742\n",
      "REFLECTANCE_MULT_BAND_7 : 1.9999999494757503e-05\n",
      "system:time_start : 1594696996964\n",
      "RADIANCE_ADD_BAND_5 : -29.583620071411133\n",
      "REFLECTANCE_MULT_BAND_6 : 1.9999999494757503e-05\n",
      "RADIANCE_ADD_BAND_6 : -7.357180118560791\n",
      "REFLECTANCE_MULT_BAND_9 : 1.9999999494757503e-05\n",
      "PROCESSING_SOFTWARE_VERSION : LPGS_13.1.0\n",
      "RADIANCE_ADD_BAND_7 : -2.479759931564331\n",
      "REFLECTANCE_MULT_BAND_8 : 1.9999999494757503e-05\n",
      "RADIANCE_ADD_BAND_1 : -60.754600524902344\n",
      "RADIANCE_ADD_BAND_2 : -62.21345138549805\n",
      "RADIANCE_ADD_BAND_3 : -57.329158782958984\n",
      "REFLECTANCE_MULT_BAND_1 : 1.9999999494757503e-05\n",
      "RADIANCE_ADD_BAND_8 : -54.7111701965332\n",
      "REFLECTANCE_MULT_BAND_3 : 1.9999999494757503e-05\n",
      "RADIANCE_ADD_BAND_9 : -11.561949729919434\n",
      "REFLECTANCE_MULT_BAND_2 : 1.9999999494757503e-05\n",
      "REFLECTANCE_MULT_BAND_5 : 1.9999999494757503e-05\n",
      "REFLECTANCE_MULT_BAND_4 : 1.9999999494757503e-05\n",
      "THERMAL_LINES : 7761\n",
      "TIRS_SSM_POSITION_STATUS : ESTIMATED\n",
      "GRID_CELL_SIZE_THERMAL : 30\n",
      "NADIR_OFFNADIR : NADIR\n",
      "RADIANCE_ADD_BAND_11 : 0.10000000149011612\n",
      "REQUEST_ID : 0702007215552_00029\n",
      "EARTH_SUN_DISTANCE : 1.0165220499038696\n",
      "TIRS_SSM_MODEL : FINAL\n",
      "FILE_DATE : 1595391441000\n",
      "SCENE_CENTER_TIME : 03:23:16.9646850Z\n",
      "SUN_ELEVATION : 66.65631103515625\n",
      "BPF_NAME_OLI : LO8BPF20200714025846_20200714033059.01\n",
      "RADIANCE_ADD_BAND_10 : 0.10000000149011612\n",
      "ROLL_ANGLE : -0.0010000000474974513\n",
      "K1_CONSTANT_BAND_10 : 774.8853149414062\n",
      "SATURATION_BAND_1 : Y\n",
      "SATURATION_BAND_2 : Y\n",
      "SATURATION_BAND_3 : Y\n",
      "SATURATION_BAND_4 : Y\n",
      "SATURATION_BAND_5 : Y\n",
      "MAP_PROJECTION : UTM\n",
      "SATURATION_BAND_6 : Y\n",
      "SENSOR_ID : OLI_TIRS\n",
      "SATURATION_BAND_7 : Y\n",
      "K1_CONSTANT_BAND_11 : 480.8883056640625\n",
      "SATURATION_BAND_8 : N\n",
      "SATURATION_BAND_9 : N\n",
      "TARGET_WRS_PATH : 127\n",
      "RADIANCE_MULT_BAND_11 : 0.00033420001273043454\n",
      "RADIANCE_MULT_BAND_10 : 0.00033420001273043454\n",
      "GROUND_CONTROL_POINTS_MODEL : 130\n",
      "SPACECRAFT_ID : LANDSAT_8\n",
      "ELEVATION_SOURCE : GLS2000\n",
      "THERMAL_SAMPLES : 7601\n"
     ]
    }
   ],
   "source": [
    "# get all properties information\n",
    "keys=image.getInfo()\n",
    "\n",
    "for key in keys:\n",
    "    if key==\"properties\":\n",
    "        for i in keys[key]:\n",
    "            print(i,\":\",keys[key][i])"
   ]
  }
 ],
 "metadata": {
  "kernelspec": {
   "display_name": "Python 3 (ipykernel)",
   "language": "python",
   "name": "python3"
  },
  "language_info": {
   "codemirror_mode": {
    "name": "ipython",
    "version": 3
   },
   "file_extension": ".py",
   "mimetype": "text/x-python",
   "name": "python",
   "nbconvert_exporter": "python",
   "pygments_lexer": "ipython3",
   "version": "3.8.10"
  }
 },
 "nbformat": 4,
 "nbformat_minor": 4
}
