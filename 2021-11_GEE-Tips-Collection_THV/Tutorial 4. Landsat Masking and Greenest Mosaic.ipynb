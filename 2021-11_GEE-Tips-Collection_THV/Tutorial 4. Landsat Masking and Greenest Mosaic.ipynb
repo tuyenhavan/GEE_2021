{
 "cells": [
  {
   "cell_type": "code",
   "execution_count": 64,
   "id": "5851bc12",
   "metadata": {},
   "outputs": [],
   "source": [
    "import ee\n",
    "import geemap as emap"
   ]
  },
  {
   "cell_type": "code",
   "execution_count": 2,
   "id": "8736092c",
   "metadata": {},
   "outputs": [
    {
     "data": {
      "text/html": [
       "<p>To authorize access needed by Earth Engine, open the following\n",
       "        URL in a web browser and follow the instructions:</p>\n",
       "        <p><a href=https://accounts.google.com/o/oauth2/auth?client_id=517222506229-vsmmajv00ul0bs7p89v5m89qs8eb9359.apps.googleusercontent.com&scope=https%3A%2F%2Fwww.googleapis.com%2Fauth%2Fearthengine+https%3A%2F%2Fwww.googleapis.com%2Fauth%2Fdevstorage.full_control&redirect_uri=urn%3Aietf%3Awg%3Aoauth%3A2.0%3Aoob&response_type=code&code_challenge=1rP0cFR0ZHh4TZjYXlsdzeuqNSN1lOinKkid0ZpYmYc&code_challenge_method=S256>https://accounts.google.com/o/oauth2/auth?client_id=517222506229-vsmmajv00ul0bs7p89v5m89qs8eb9359.apps.googleusercontent.com&scope=https%3A%2F%2Fwww.googleapis.com%2Fauth%2Fearthengine+https%3A%2F%2Fwww.googleapis.com%2Fauth%2Fdevstorage.full_control&redirect_uri=urn%3Aietf%3Awg%3Aoauth%3A2.0%3Aoob&response_type=code&code_challenge=1rP0cFR0ZHh4TZjYXlsdzeuqNSN1lOinKkid0ZpYmYc&code_challenge_method=S256</a></p>\n",
       "        <p>The authorization workflow will generate a code, which you\n",
       "        should paste in the box below</p>\n",
       "        "
      ],
      "text/plain": [
       "<IPython.core.display.HTML object>"
      ]
     },
     "metadata": {},
     "output_type": "display_data"
    },
    {
     "name": "stdout",
     "output_type": "stream",
     "text": [
      "Enter verification code: 4/1AX4XfWhYI3HNXK0WS4Xal4rzUG4wYzozkPWFVo-_uGobCziTUsW1bs6Gz_8\n",
      "\n",
      "Successfully saved authorization token.\n"
     ]
    }
   ],
   "source": [
    "ee.Authenticate()\n",
    "ee.Initialize()"
   ]
  },
  {
   "cell_type": "code",
   "execution_count": 65,
   "id": "e95a9d51",
   "metadata": {},
   "outputs": [
    {
     "data": {
      "application/vnd.jupyter.widget-view+json": {
       "model_id": "36ca357fd4b043818f09db8bd2751d2b",
       "version_major": 2,
       "version_minor": 0
      },
      "text/plain": [
       "Map(center=[11.94, 108.45], controls=(WidgetControl(options=['position', 'transparent_bg'], widget=HBox(childr…"
      ]
     },
     "metadata": {},
     "output_type": "display_data"
    }
   ],
   "source": [
    "Map=emap.Map(center=[11.94,108.45],zoom=7)\n",
    "Map"
   ]
  },
  {
   "cell_type": "markdown",
   "id": "55ff5c8b",
   "metadata": {},
   "source": [
    "# Masking Landsat 8 \n",
    "\n",
    "- **Using median reducer**"
   ]
  },
  {
   "cell_type": "code",
   "execution_count": 66,
   "id": "aec73ea8",
   "metadata": {
    "scrolled": true
   },
   "outputs": [
    {
     "data": {
      "application/vnd.jupyter.widget-view+json": {
       "model_id": "36ca357fd4b043818f09db8bd2751d2b",
       "version_major": 2,
       "version_minor": 0
      },
      "text/plain": [
       "Map(bottom=15589.0, center=[11.94, 108.45], controls=(WidgetControl(options=['position', 'transparent_bg'], wi…"
      ]
     },
     "metadata": {},
     "output_type": "display_data"
    }
   ],
   "source": [
    "# Select Landsat 8 level-1 TOA Collection\n",
    "LS8= ee.ImageCollection('LANDSAT/LC08/C01/T1_TOA')\n",
    "# Define the study boundary\n",
    "LD=ee.FeatureCollection(\"users/miketu72/2021_LD_test_area\")\n",
    "\n",
    "LS8_2020=LS8.filterDate(\"2020-01-01\",\"2021-01-10\").filterBounds(LD).filterMetadata(\"CLOUD_COVER\",\"less_than\",50).median()\n",
    "# Visualization pramaters \n",
    "vis={\"bands\":[\"B4\",\"B3\",\"B2\"],min:-0.2, max:0.9}\n",
    "\n",
    "Map.addLayer(LS8_2020,vis_params,\"LS Without Mask\")\n",
    "Map"
   ]
  },
  {
   "cell_type": "markdown",
   "id": "6d4347e3",
   "metadata": {},
   "source": [
    "- **Masked all water areas**"
   ]
  },
  {
   "cell_type": "code",
   "execution_count": 67,
   "id": "99310c3f",
   "metadata": {},
   "outputs": [
    {
     "data": {
      "application/vnd.jupyter.widget-view+json": {
       "model_id": "36ca357fd4b043818f09db8bd2751d2b",
       "version_major": 2,
       "version_minor": 0
      },
      "text/plain": [
       "Map(bottom=15589.0, center=[11.94, 108.45], controls=(WidgetControl(options=['position', 'transparent_bg'], wi…"
      ]
     },
     "metadata": {},
     "output_type": "display_data"
    }
   ],
   "source": [
    "# // Load or import the Hansen et al. forest change dataset.\n",
    "hansenImage = ee.Image('UMD/hansen/global_forest_change_2015')\n",
    "\n",
    "# // Select the land/water mask.\n",
    "datamask = hansenImage.select('datamask')\n",
    "\n",
    "# Map.addLayer(datamask,{},\"Mask\")\n",
    "\n",
    "# // Create a binary mask.\n",
    "mask = datamask.eq(1)\n",
    "\n",
    "# // Update the composite mask with the water mask.\n",
    "maskedComposite = LS8_2020.updateMask(mask)\n",
    "Map.addLayer(maskedComposite, vis_params, 'masked')\n",
    "Map"
   ]
  },
  {
   "cell_type": "markdown",
   "id": "63e5b8c7",
   "metadata": {},
   "source": [
    "- **Visualizing multiple layers**\n",
    "\n",
    "Visualize the natural color Landsat within the study area while all water will be blue"
   ]
  },
  {
   "cell_type": "code",
   "execution_count": 68,
   "id": "5594bff0",
   "metadata": {},
   "outputs": [
    {
     "data": {
      "application/vnd.jupyter.widget-view+json": {
       "model_id": "36ca357fd4b043818f09db8bd2751d2b",
       "version_major": 2,
       "version_minor": 0
      },
      "text/plain": [
       "Map(bottom=15589.0, center=[11.94, 108.45], controls=(WidgetControl(options=['position', 'transparent_bg'], wi…"
      ]
     },
     "metadata": {},
     "output_type": "display_data"
    }
   ],
   "source": [
    "# Define the visualization parameters\n",
    "vis={\"bands\":[\"B4\",\"B3\",\"B2\"],\"min\":-0.2, \"max\":0.9}\n",
    "# Convert water will be one and all other will be zeros\n",
    "water=mask.eq(0) \n",
    "# Mask out landmass\n",
    "water_mask=mask.mask(water) # This mask is similar to updateMask()\n",
    "# Build a ImageColleciton with visualized parameters\n",
    "LS8_vis=LS8_2020.visualize(**vis)\n",
    "\n",
    "water_vis=water_mask.visualize(**{\"palette\": \"000044\"})\n",
    "\n",
    "# Mosaic two images together by putting them in a collection\n",
    "img_mosaic=ee.ImageCollection([LS8_vis,water_vis]).mosaic()\n",
    "\n",
    "Map.addLayer(img_mosaic,{},\"Mosaic\")\n",
    "Map"
   ]
  },
  {
   "cell_type": "markdown",
   "id": "12867b7d",
   "metadata": {},
   "source": [
    "# Quality Mosaic with NDVI"
   ]
  },
  {
   "cell_type": "code",
   "execution_count": 83,
   "id": "2d46d666",
   "metadata": {},
   "outputs": [
    {
     "data": {
      "application/vnd.jupyter.widget-view+json": {
       "model_id": "36ca357fd4b043818f09db8bd2751d2b",
       "version_major": 2,
       "version_minor": 0
      },
      "text/plain": [
       "Map(bottom=61078.0, center=[12.956382587313202, 108.43780517578126], controls=(WidgetControl(options=['positio…"
      ]
     },
     "metadata": {},
     "output_type": "display_data"
    }
   ],
   "source": [
    "LS8_2020=LS8.filterDate(\"2020-01-01\",\"2021-01-10\").filterBounds(LD).filterMetadata(\"CLOUD_COVER\",\"less_than\",50)\n",
    "# Write a function to calculate NDVI\n",
    "\n",
    "def ndvi(image):\n",
    "    NDVI=image.expression(\"(NIR-RED)/(NIR+RED)\", \n",
    "                          {\"NIR\":image.select(\"B5\"), \n",
    "                           \"RED\":image.select(\"B4\")}).rename(\"NDVI\")\n",
    "    return image.addBands(NDVI)\n",
    "# Apply map function to the defined function\n",
    "\n",
    "LS8_2020NDVI=LS8_2020.map(ndvi)\n",
    "# Select the greenest pixels by qualityMosaic()\n",
    "\n",
    "greenest=LS8_2020NDVI.qualityMosaic(\"NDVI\")\n",
    "# Display it\n",
    "vis={\"bands\":[\"B4\",\"B3\",\"B2\"],\"min\":-0.2, \"max\":0.5}\n",
    "\n",
    "Map.addLayer(greenest,vis,\"Greenest\") # We see that water becomes white because of quality mosaic effects.\n",
    "Map"
   ]
  },
  {
   "cell_type": "code",
   "execution_count": null,
   "id": "24388e51",
   "metadata": {},
   "outputs": [],
   "source": []
  },
  {
   "cell_type": "code",
   "execution_count": null,
   "id": "c6a62f28",
   "metadata": {},
   "outputs": [],
   "source": []
  }
 ],
 "metadata": {
  "kernelspec": {
   "display_name": "Python 3 (ipykernel)",
   "language": "python",
   "name": "python3"
  },
  "language_info": {
   "codemirror_mode": {
    "name": "ipython",
    "version": 3
   },
   "file_extension": ".py",
   "mimetype": "text/x-python",
   "name": "python",
   "nbconvert_exporter": "python",
   "pygments_lexer": "ipython3",
   "version": "3.8.10"
  }
 },
 "nbformat": 4,
 "nbformat_minor": 5
}
