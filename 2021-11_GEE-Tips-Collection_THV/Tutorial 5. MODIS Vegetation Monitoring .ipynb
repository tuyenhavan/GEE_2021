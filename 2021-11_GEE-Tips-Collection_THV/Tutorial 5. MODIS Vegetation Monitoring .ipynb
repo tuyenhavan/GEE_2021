{
 "cells": [
  {
   "cell_type": "code",
   "execution_count": 3,
   "id": "c81197e2",
   "metadata": {},
   "outputs": [],
   "source": [
    "import ee\n",
    "import geemap as emap"
   ]
  },
  {
   "cell_type": "code",
   "execution_count": 2,
   "id": "3ca129dd",
   "metadata": {},
   "outputs": [
    {
     "data": {
      "text/html": [
       "<p>To authorize access needed by Earth Engine, open the following\n",
       "        URL in a web browser and follow the instructions:</p>\n",
       "        <p><a href=https://accounts.google.com/o/oauth2/auth?client_id=517222506229-vsmmajv00ul0bs7p89v5m89qs8eb9359.apps.googleusercontent.com&scope=https%3A%2F%2Fwww.googleapis.com%2Fauth%2Fearthengine+https%3A%2F%2Fwww.googleapis.com%2Fauth%2Fdevstorage.full_control&redirect_uri=urn%3Aietf%3Awg%3Aoauth%3A2.0%3Aoob&response_type=code&code_challenge=Mee69Hjz5DoZ1hwCpx-4nGEjTYE4AXL8evv6BfmAwYA&code_challenge_method=S256>https://accounts.google.com/o/oauth2/auth?client_id=517222506229-vsmmajv00ul0bs7p89v5m89qs8eb9359.apps.googleusercontent.com&scope=https%3A%2F%2Fwww.googleapis.com%2Fauth%2Fearthengine+https%3A%2F%2Fwww.googleapis.com%2Fauth%2Fdevstorage.full_control&redirect_uri=urn%3Aietf%3Awg%3Aoauth%3A2.0%3Aoob&response_type=code&code_challenge=Mee69Hjz5DoZ1hwCpx-4nGEjTYE4AXL8evv6BfmAwYA&code_challenge_method=S256</a></p>\n",
       "        <p>The authorization workflow will generate a code, which you\n",
       "        should paste in the box below</p>\n",
       "        "
      ],
      "text/plain": [
       "<IPython.core.display.HTML object>"
      ]
     },
     "metadata": {},
     "output_type": "display_data"
    },
    {
     "name": "stdout",
     "output_type": "stream",
     "text": [
      "Enter verification code: 4/1AX4XfWhssDFpxKjVDdRLMItK_YJ06RqLkEPcPnXMCmO8AiYp3oXbFeNOGSA\n",
      "\n",
      "Successfully saved authorization token.\n"
     ]
    }
   ],
   "source": [
    "ee.Authenticate()\n",
    "ee.Initialize()"
   ]
  },
  {
   "cell_type": "markdown",
   "id": "fac213f5",
   "metadata": {},
   "source": [
    "- **Please see this technical guide of [eas website](https://sentinel.esa.int/web/sentinel/technical-guides/sentinel-2-msi/level-1c/cloud-masks) for the parameters of all Sentinel-2 images in GEE**"
   ]
  },
  {
   "cell_type": "code",
   "execution_count": 83,
   "id": "bb1366d7",
   "metadata": {},
   "outputs": [
    {
     "data": {
      "application/vnd.jupyter.widget-view+json": {
       "model_id": "5391e5ab4a3147d8846e0809f646153f",
       "version_major": 2,
       "version_minor": 0
      },
      "text/plain": [
       "Map(center=[12, 109], controls=(WidgetControl(options=['position', 'transparent_bg'], widget=HBox(children=(To…"
      ]
     },
     "metadata": {},
     "output_type": "display_data"
    }
   ],
   "source": [
    "Map=emap.Map(center=[12,109],zoom=8)\n",
    "Map.add_basemap(\"SATELLITE\")\n",
    "Map"
   ]
  },
  {
   "cell_type": "markdown",
   "id": "d33ac6af",
   "metadata": {},
   "source": [
    "## Task 1: Monitoring abnomal vegetation using MODIS \n",
    "\n",
    "- **EVI Baseline 2000-2010**"
   ]
  },
  {
   "cell_type": "code",
   "execution_count": 84,
   "id": "360b46dd",
   "metadata": {},
   "outputs": [],
   "source": [
    "# Select EVI MODIS from 2000 to 2010 and called reference data\n",
    "collection = ee.ImageCollection('MODIS/006/MOD13A1').select('EVI')\n",
    "\n",
    "reference = collection.filterDate('2001-01-01', '2010-12-31')\\\n",
    "  .sort('system:time_start')"
   ]
  },
  {
   "cell_type": "markdown",
   "id": "b902c051",
   "metadata": {},
   "source": [
    "- **EVI Recent Time 2011-2020**"
   ]
  },
  {
   "cell_type": "code",
   "execution_count": 85,
   "id": "60a59b9c",
   "metadata": {},
   "outputs": [],
   "source": [
    "# Get all MODIS EVI from 2011 to 2020 called recent\n",
    "recent = collection.filterDate('2011-01-01', '2018-12-31')"
   ]
  },
  {
   "cell_type": "markdown",
   "id": "8d7b952e",
   "metadata": {},
   "source": [
    "Calculate the abnomal vegetation by subtracting median baseline from more recent images."
   ]
  },
  {
   "cell_type": "code",
   "execution_count": 86,
   "id": "f585e243",
   "metadata": {},
   "outputs": [],
   "source": [
    "# Write a function to subtract the median baseline\n",
    "def subtract(image):\n",
    "    abnomal=image.multiply(0.0001).subtract(median_baseline)\n",
    "    return abnomal.copyProperties(image,[\"stystem:time_start\"])"
   ]
  },
  {
   "cell_type": "code",
   "execution_count": 90,
   "id": "631ab9e6",
   "metadata": {},
   "outputs": [],
   "source": [
    "# Map the function over the collection\n",
    "abnomal_image=recent.map(subtract)"
   ]
  },
  {
   "cell_type": "code",
   "execution_count": 91,
   "id": "2e6dd5e3",
   "metadata": {
    "scrolled": true
   },
   "outputs": [
    {
     "data": {
      "application/vnd.jupyter.widget-view+json": {
       "model_id": "5391e5ab4a3147d8846e0809f646153f",
       "version_major": 2,
       "version_minor": 0
      },
      "text/plain": [
       "Map(bottom=14538.0, center=[22.938159639316396, 104.65576171875], controls=(WidgetControl(options=['position',…"
      ]
     },
     "metadata": {},
     "output_type": "display_data"
    }
   ],
   "source": [
    "# Display the map\n",
    "Map.addLayer(abnomal_image.sum(), {\n",
    "  min: -10,\n",
    "  max: 10,\n",
    "  \"palette\": ['darkred','red','yellow','green','darkgreen']}, 'Cumulative anomaly');\n",
    "\n",
    "Map"
   ]
  },
  {
   "cell_type": "markdown",
   "id": "a8cd82e0",
   "metadata": {},
   "source": [
    "### Calculate accumulative EVI through time-series "
   ]
  },
  {
   "cell_type": "code",
   "execution_count": 223,
   "id": "5363ebff",
   "metadata": {},
   "outputs": [],
   "source": [
    "time0=reference.first().get('system:time_start')"
   ]
  },
  {
   "cell_type": "code",
   "execution_count": 224,
   "id": "c7b19fa0",
   "metadata": {},
   "outputs": [],
   "source": [
    "first = ee.List([ee.Image(0).set('system:time_start', time0).rename('EVI')])"
   ]
  },
  {
   "cell_type": "code",
   "execution_count": 225,
   "id": "e7b0a808",
   "metadata": {},
   "outputs": [],
   "source": [
    "def accumulate(image,mlist):\n",
    "    previous=ee.Image(ee.List(mlist).get(-1))\n",
    "    added=image.add(previous).set('system:time_start', image.get('system:time_start'))\n",
    "    newList=ee.List(mlist).add(added)\n",
    "    return newList"
   ]
  },
  {
   "cell_type": "code",
   "execution_count": 226,
   "id": "6f1033c2",
   "metadata": {},
   "outputs": [],
   "source": [
    "cumulative = ee.ImageCollection(ee.List(abnomal_image.iterate(accumulate, first)))"
   ]
  },
  {
   "cell_type": "code",
   "execution_count": null,
   "id": "e12dc070",
   "metadata": {},
   "outputs": [],
   "source": []
  }
 ],
 "metadata": {
  "kernelspec": {
   "display_name": "Python 3 (ipykernel)",
   "language": "python",
   "name": "python3"
  },
  "language_info": {
   "codemirror_mode": {
    "name": "ipython",
    "version": 3
   },
   "file_extension": ".py",
   "mimetype": "text/x-python",
   "name": "python",
   "nbconvert_exporter": "python",
   "pygments_lexer": "ipython3",
   "version": "3.8.10"
  }
 },
 "nbformat": 4,
 "nbformat_minor": 5
}
