{
 "cells": [
  {
   "cell_type": "code",
   "execution_count": 2,
   "id": "0f409966",
   "metadata": {},
   "outputs": [],
   "source": [
    "import ee\n",
    "ee.Initialize()"
   ]
  },
  {
   "cell_type": "code",
   "execution_count": 2,
   "id": "45edf09d",
   "metadata": {},
   "outputs": [
    {
     "data": {
      "text/html": [
       "<p>To authorize access needed by Earth Engine, open the following\n",
       "        URL in a web browser and follow the instructions:</p>\n",
       "        <p><a href=https://accounts.google.com/o/oauth2/auth?client_id=517222506229-vsmmajv00ul0bs7p89v5m89qs8eb9359.apps.googleusercontent.com&scope=https%3A%2F%2Fwww.googleapis.com%2Fauth%2Fearthengine+https%3A%2F%2Fwww.googleapis.com%2Fauth%2Fdevstorage.full_control&redirect_uri=urn%3Aietf%3Awg%3Aoauth%3A2.0%3Aoob&response_type=code&code_challenge=rzRh3TbP4wGqvAG557zyoPTdUizPa4d_52QIEDC8kNg&code_challenge_method=S256>https://accounts.google.com/o/oauth2/auth?client_id=517222506229-vsmmajv00ul0bs7p89v5m89qs8eb9359.apps.googleusercontent.com&scope=https%3A%2F%2Fwww.googleapis.com%2Fauth%2Fearthengine+https%3A%2F%2Fwww.googleapis.com%2Fauth%2Fdevstorage.full_control&redirect_uri=urn%3Aietf%3Awg%3Aoauth%3A2.0%3Aoob&response_type=code&code_challenge=rzRh3TbP4wGqvAG557zyoPTdUizPa4d_52QIEDC8kNg&code_challenge_method=S256</a></p>\n",
       "        <p>The authorization workflow will generate a code, which you\n",
       "        should paste in the box below</p>\n",
       "        "
      ],
      "text/plain": [
       "<IPython.core.display.HTML object>"
      ]
     },
     "metadata": {},
     "output_type": "display_data"
    },
    {
     "name": "stdout",
     "output_type": "stream",
     "text": [
      "Enter verification code: 4/1AX4XfWjgKxRgcZM0SzVU7gq7YZvcQYBgZ6KSHv394DtupP8QW4j_cz-d6Mc\n",
      "\n",
      "Successfully saved authorization token.\n"
     ]
    }
   ],
   "source": [
    "ee.Authenticate()"
   ]
  },
  {
   "cell_type": "markdown",
   "id": "8b9b8f67",
   "metadata": {},
   "source": [
    "## 1. Define the date range - ee.ImageCollection().filterDate(dateRange)"
   ]
  },
  {
   "cell_type": "code",
   "execution_count": 3,
   "id": "0029a09e",
   "metadata": {},
   "outputs": [],
   "source": [
    "# Set start date\n",
    "start = ee.Date('2015-01-01');\n",
    "dateRange = ee.DateRange(start, start.advance(1, 'year'));"
   ]
  },
  {
   "cell_type": "code",
   "execution_count": 4,
   "id": "500b411a",
   "metadata": {},
   "outputs": [],
   "source": [
    " modis = ee.ImageCollection('MODIS/006/MOD11A2')"
   ]
  },
  {
   "cell_type": "code",
   "execution_count": 5,
   "id": "e3a6a964",
   "metadata": {},
   "outputs": [],
   "source": [
    "modLSTday = modis.filterDate(dateRange).select('LST_Day_1km').first()"
   ]
  },
  {
   "cell_type": "markdown",
   "id": "0c29dd15",
   "metadata": {},
   "source": [
    "# 2. copyProperties from an existing image to a new image"
   ]
  },
  {
   "cell_type": "code",
   "execution_count": 7,
   "id": "501b7170",
   "metadata": {},
   "outputs": [
    {
     "data": {
      "text/plain": [
       "['system:bands', 'system:band_names']"
      ]
     },
     "execution_count": 7,
     "metadata": {},
     "output_type": "execute_result"
    }
   ],
   "source": [
    "# Create a new image with 0\n",
    "img1=ee.Image(0)\n",
    "# Check property of new image\n",
    "img1.propertyNames().getInfo()"
   ]
  },
  {
   "cell_type": "markdown",
   "id": "158b4fff",
   "metadata": {},
   "source": [
    "- **copy property from MODIS image to new image**"
   ]
  },
  {
   "cell_type": "code",
   "execution_count": 8,
   "id": "f1554bee",
   "metadata": {},
   "outputs": [
    {
     "data": {
      "text/plain": [
       "['system:time_start',\n",
       " 'system:footprint',\n",
       " 'system:time_end',\n",
       " 'system:version',\n",
       " 'system:id',\n",
       " 'system:asset_size',\n",
       " 'system:index',\n",
       " 'system:bands',\n",
       " 'system:band_names']"
      ]
     },
     "execution_count": 8,
     "metadata": {},
     "output_type": "execute_result"
    }
   ],
   "source": [
    "# Check property from modLSTday image\n",
    "modLSTday.propertyNames().getInfo()"
   ]
  },
  {
   "cell_type": "code",
   "execution_count": 10,
   "id": "0450ec0b",
   "metadata": {},
   "outputs": [],
   "source": [
    "property_list=modLSTday.propertyNames().getInfo()"
   ]
  },
  {
   "cell_type": "code",
   "execution_count": 11,
   "id": "bd0219fc",
   "metadata": {},
   "outputs": [
    {
     "data": {
      "text/plain": [
       "['system:asset_size',\n",
       " 'system:index',\n",
       " 'system:time_start',\n",
       " 'system:footprint',\n",
       " 'system:time_end',\n",
       " 'system:version',\n",
       " 'system:id',\n",
       " 'system:bands',\n",
       " 'system:band_names']"
      ]
     },
     "execution_count": 11,
     "metadata": {},
     "output_type": "execute_result"
    }
   ],
   "source": [
    "img2=img1.copyProperties(modLSTday,property_list)\n",
    "\n",
    "img2.propertyNames().getInfo()"
   ]
  },
  {
   "cell_type": "markdown",
   "id": "037581d7",
   "metadata": {},
   "source": [
    "- **Set new properties**"
   ]
  },
  {
   "cell_type": "code",
   "execution_count": 24,
   "id": "1863515a",
   "metadata": {},
   "outputs": [],
   "source": [
    "# First way using dictionary\n",
    "img2=img2.set({\"image_name\":\"Random\"})"
   ]
  },
  {
   "cell_type": "code",
   "execution_count": 25,
   "id": "e533bd2a",
   "metadata": {},
   "outputs": [],
   "source": [
    "# Second way using like below\n",
    "img2=img2.set(\"student\",\"Good\")"
   ]
  },
  {
   "cell_type": "code",
   "execution_count": 26,
   "id": "afb2669c",
   "metadata": {},
   "outputs": [
    {
     "data": {
      "text/plain": [
       "'Good'"
      ]
     },
     "execution_count": 26,
     "metadata": {},
     "output_type": "execute_result"
    }
   ],
   "source": [
    "img2.get(\"student\").getInfo()"
   ]
  },
  {
   "cell_type": "markdown",
   "id": "9ae06003",
   "metadata": {},
   "source": [
    "# Create a new image or imagecollection"
   ]
  },
  {
   "cell_type": "markdown",
   "id": "17c09a93",
   "metadata": {},
   "source": [
    "- **Create a new image**"
   ]
  },
  {
   "cell_type": "code",
   "execution_count": 67,
   "id": "5d475cc7",
   "metadata": {},
   "outputs": [],
   "source": [
    "# Create a constant image\n",
    "new_img=ee.Image(10)\n",
    "# Create a new image from a list of images. Create a ee list of two images\n",
    "list_img=ee.List([ee.Image(0),ee.Image(1)])\n",
    "# Create the second image from the list\n",
    "new_img=ee.Image(list_img.get(1)) # index starting from 0"
   ]
  },
  {
   "cell_type": "markdown",
   "id": "80de4f25",
   "metadata": {},
   "source": [
    "- **Create a ImageCollection from a list of images**"
   ]
  },
  {
   "cell_type": "code",
   "execution_count": 65,
   "id": "2fbe87ef",
   "metadata": {},
   "outputs": [],
   "source": [
    "# USe the image list above and construct a collection\n",
    "col=ee.ImageCollection(list_img)\n",
    "# Or we can do the following\n",
    "col2=ee.ImageCollection.fromImages(list_img)\n",
    "# Or from a normal list of images\n",
    "col3=ee.ImageCollection([ee.Image(0),ee.Image(10)])"
   ]
  },
  {
   "cell_type": "markdown",
   "id": "90928bf7",
   "metadata": {},
   "source": [
    "## List Append in GEE Python `add` "
   ]
  },
  {
   "cell_type": "code",
   "execution_count": 97,
   "id": "4499bf10",
   "metadata": {},
   "outputs": [
    {
     "data": {
      "text/plain": [
       "[0, 1, 2, 3, 4, 5, 6, 7, 8, 9]"
      ]
     },
     "execution_count": 97,
     "metadata": {},
     "output_type": "execute_result"
    }
   ],
   "source": [
    "# Append normal ee numbers\n",
    "mlist=ee.List([])\n",
    "\n",
    "for i in range(10):\n",
    "    mlist=mlist.add(ee.Number(i))\n",
    "mlist.getInfo()"
   ]
  },
  {
   "cell_type": "markdown",
   "id": "011a7d33",
   "metadata": {},
   "source": [
    "- **Append images**"
   ]
  },
  {
   "cell_type": "code",
   "execution_count": 106,
   "id": "a750447e",
   "metadata": {},
   "outputs": [],
   "source": [
    "# Create an empty list to contain images\n",
    "imgList=ee.List([])\n",
    "# Create a image\n",
    "img1=ee.Image(2)\n",
    "img2=ee.Image(10)\n",
    "# add the image to the imgList\n",
    "imgList=imgList.add(img1) # need to the same name\n",
    "imgList=imgList.add(img2) # need to the same name"
   ]
  },
  {
   "cell_type": "code",
   "execution_count": null,
   "id": "55866433",
   "metadata": {},
   "outputs": [],
   "source": []
  },
  {
   "cell_type": "code",
   "execution_count": null,
   "id": "f29ef174",
   "metadata": {},
   "outputs": [],
   "source": []
  },
  {
   "cell_type": "code",
   "execution_count": null,
   "id": "1ceac8f8",
   "metadata": {},
   "outputs": [],
   "source": []
  }
 ],
 "metadata": {
  "kernelspec": {
   "display_name": "Python 3 (ipykernel)",
   "language": "python",
   "name": "python3"
  },
  "language_info": {
   "codemirror_mode": {
    "name": "ipython",
    "version": 3
   },
   "file_extension": ".py",
   "mimetype": "text/x-python",
   "name": "python",
   "nbconvert_exporter": "python",
   "pygments_lexer": "ipython3",
   "version": "3.8.10"
  }
 },
 "nbformat": 4,
 "nbformat_minor": 5
}
