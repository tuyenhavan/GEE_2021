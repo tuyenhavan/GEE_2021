{
 "cells": [
  {
   "cell_type": "code",
   "execution_count": 1,
   "id": "956812c7",
   "metadata": {},
   "outputs": [],
   "source": [
    "import ee\n",
    "import geemap as emap"
   ]
  },
  {
   "cell_type": "code",
   "execution_count": 2,
   "id": "385fd772",
   "metadata": {},
   "outputs": [
    {
     "data": {
      "text/html": [
       "<p>To authorize access needed by Earth Engine, open the following\n",
       "        URL in a web browser and follow the instructions:</p>\n",
       "        <p><a href=https://accounts.google.com/o/oauth2/auth?client_id=517222506229-vsmmajv00ul0bs7p89v5m89qs8eb9359.apps.googleusercontent.com&scope=https%3A%2F%2Fwww.googleapis.com%2Fauth%2Fearthengine+https%3A%2F%2Fwww.googleapis.com%2Fauth%2Fdevstorage.full_control&redirect_uri=urn%3Aietf%3Awg%3Aoauth%3A2.0%3Aoob&response_type=code&code_challenge=p9GQ0VQnk_SPX69NFHHTkgMl_WExQhUd0d9a1CgFlXw&code_challenge_method=S256>https://accounts.google.com/o/oauth2/auth?client_id=517222506229-vsmmajv00ul0bs7p89v5m89qs8eb9359.apps.googleusercontent.com&scope=https%3A%2F%2Fwww.googleapis.com%2Fauth%2Fearthengine+https%3A%2F%2Fwww.googleapis.com%2Fauth%2Fdevstorage.full_control&redirect_uri=urn%3Aietf%3Awg%3Aoauth%3A2.0%3Aoob&response_type=code&code_challenge=p9GQ0VQnk_SPX69NFHHTkgMl_WExQhUd0d9a1CgFlXw&code_challenge_method=S256</a></p>\n",
       "        <p>The authorization workflow will generate a code, which you\n",
       "        should paste in the box below</p>\n",
       "        "
      ],
      "text/plain": [
       "<IPython.core.display.HTML object>"
      ]
     },
     "metadata": {},
     "output_type": "display_data"
    },
    {
     "name": "stdout",
     "output_type": "stream",
     "text": [
      "Enter verification code: 4/1AX4XfWhMwZMHu_riBk2fNzD4E0ajm-TFpnXF9HWX7zOgCbQIzMU8sDgRqUM\n",
      "\n",
      "Successfully saved authorization token.\n"
     ]
    }
   ],
   "source": [
    "ee.Initialize()\n",
    "ee.Authenticate()"
   ]
  },
  {
   "cell_type": "code",
   "execution_count": 3,
   "id": "f3fc649d",
   "metadata": {},
   "outputs": [
    {
     "data": {
      "application/vnd.jupyter.widget-view+json": {
       "model_id": "16ef41878ffe461a8e39e8155e703a48",
       "version_major": 2,
       "version_minor": 0
      },
      "text/plain": [
       "Map(center=[40, -100], controls=(WidgetControl(options=['position', 'transparent_bg'], widget=HBox(children=(T…"
      ]
     },
     "metadata": {},
     "output_type": "display_data"
    }
   ],
   "source": [
    "Map=emap.Map()\n",
    "Map"
   ]
  },
  {
   "cell_type": "markdown",
   "id": "bcccfdcf",
   "metadata": {},
   "source": [
    "# Sentinel data"
   ]
  },
  {
   "cell_type": "code",
   "execution_count": 35,
   "id": "73882d8d",
   "metadata": {},
   "outputs": [],
   "source": [
    "# Convert point to ee feature\n",
    "HN=ee.FeatureCollection(Map.draw_features)\n",
    "roi=HN.geometry()"
   ]
  },
  {
   "cell_type": "code",
   "execution_count": 36,
   "id": "1fac5773",
   "metadata": {},
   "outputs": [
    {
     "data": {
      "application/vnd.jupyter.widget-view+json": {
       "model_id": "16ef41878ffe461a8e39e8155e703a48",
       "version_major": 2,
       "version_minor": 0
      },
      "text/plain": [
       "Map(bottom=58081.0, center=[20.825442642791977, 105.29571533203125], controls=(WidgetControl(options=['positio…"
      ]
     },
     "metadata": {},
     "output_type": "display_data"
    }
   ],
   "source": [
    "Sentinel2=ee.ImageCollection(\"COPERNICUS/S2_SR\")\n",
    "\n",
    "S2=Sentinel2.filterDate(\"2020-01-01\",\"2021-01-01\").filterBounds(HN).\\\n",
    "filterMetadata(\"CLOUDY_PIXEL_PERCENTAGE\",\"less_than\",10).first().clip(HN)\n",
    "\n",
    "Map.addLayer(S2,{},\"Sentinel\")\n",
    "Map"
   ]
  },
  {
   "cell_type": "markdown",
   "id": "2dd51106",
   "metadata": {},
   "source": [
    "# Download "
   ]
  },
  {
   "cell_type": "code",
   "execution_count": 37,
   "id": "d68c760c",
   "metadata": {},
   "outputs": [],
   "source": [
    "import os\n",
    "out_dir=os.path.join(os.path.expanduser(\"~\"),\"Downloads\")\n",
    "filename=os.path.join(out_dir,\"LS.tif\")"
   ]
  },
  {
   "cell_type": "code",
   "execution_count": 39,
   "id": "1253d2d5",
   "metadata": {},
   "outputs": [
    {
     "name": "stdout",
     "output_type": "stream",
     "text": [
      "Generating URL ...\n",
      "An error occurred while downloading.\n",
      "Total request size (184799580 bytes) must be less than or equal to 33554432 bytes.\n"
     ]
    }
   ],
   "source": [
    "emap.ee_export_image(S2,filename=filename,scale=10,region=roi,file_per_band=True)"
   ]
  },
  {
   "cell_type": "code",
   "execution_count": null,
   "id": "2b3aee9c",
   "metadata": {},
   "outputs": [],
   "source": []
  }
 ],
 "metadata": {
  "kernelspec": {
   "display_name": "Python 3 (ipykernel)",
   "language": "python",
   "name": "python3"
  },
  "language_info": {
   "codemirror_mode": {
    "name": "ipython",
    "version": 3
   },
   "file_extension": ".py",
   "mimetype": "text/x-python",
   "name": "python",
   "nbconvert_exporter": "python",
   "pygments_lexer": "ipython3",
   "version": "3.8.10"
  }
 },
 "nbformat": 4,
 "nbformat_minor": 5
}
