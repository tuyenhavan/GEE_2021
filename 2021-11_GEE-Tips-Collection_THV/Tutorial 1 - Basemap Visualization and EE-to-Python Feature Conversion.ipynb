{
 "cells": [
  {
   "cell_type": "code",
   "execution_count": 1,
   "id": "78885c64",
   "metadata": {},
   "outputs": [],
   "source": [
    "import ee\n",
    "import geemap as emap"
   ]
  },
  {
   "cell_type": "code",
   "execution_count": 19,
   "id": "c70ddd19",
   "metadata": {},
   "outputs": [
    {
     "data": {
      "text/html": [
       "<p>To authorize access needed by Earth Engine, open the following\n",
       "        URL in a web browser and follow the instructions:</p>\n",
       "        <p><a href=https://accounts.google.com/o/oauth2/auth?client_id=517222506229-vsmmajv00ul0bs7p89v5m89qs8eb9359.apps.googleusercontent.com&scope=https%3A%2F%2Fwww.googleapis.com%2Fauth%2Fearthengine+https%3A%2F%2Fwww.googleapis.com%2Fauth%2Fdevstorage.full_control&redirect_uri=urn%3Aietf%3Awg%3Aoauth%3A2.0%3Aoob&response_type=code&code_challenge=q2GfslEkdHqhZyM87zr_gELk2r0nvIq-yWPFDmHlegs&code_challenge_method=S256>https://accounts.google.com/o/oauth2/auth?client_id=517222506229-vsmmajv00ul0bs7p89v5m89qs8eb9359.apps.googleusercontent.com&scope=https%3A%2F%2Fwww.googleapis.com%2Fauth%2Fearthengine+https%3A%2F%2Fwww.googleapis.com%2Fauth%2Fdevstorage.full_control&redirect_uri=urn%3Aietf%3Awg%3Aoauth%3A2.0%3Aoob&response_type=code&code_challenge=q2GfslEkdHqhZyM87zr_gELk2r0nvIq-yWPFDmHlegs&code_challenge_method=S256</a></p>\n",
       "        <p>The authorization workflow will generate a code, which you\n",
       "        should paste in the box below</p>\n",
       "        "
      ],
      "text/plain": [
       "<IPython.core.display.HTML object>"
      ]
     },
     "metadata": {},
     "output_type": "display_data"
    },
    {
     "name": "stdout",
     "output_type": "stream",
     "text": [
      "Enter verification code: 4/1AX4XfWh6cCsoLx9mZDQiuG69zEtrNEPNJ_N1Z2TyBsIvknDgBA-yhPLtX_Q\n",
      "\n",
      "Successfully saved authorization token.\n"
     ]
    }
   ],
   "source": [
    "ee.Initialize()\n",
    "ee.Authenticate()"
   ]
  },
  {
   "cell_type": "markdown",
   "id": "5ea95356",
   "metadata": {},
   "source": [
    "# Basemap "
   ]
  },
  {
   "cell_type": "code",
   "execution_count": 2,
   "id": "94e56369",
   "metadata": {},
   "outputs": [
    {
     "data": {
      "application/vnd.jupyter.widget-view+json": {
       "model_id": "531c8e700c6141fc9f4f9491dd2d23ca",
       "version_major": 2,
       "version_minor": 0
      },
      "text/plain": [
       "Map(center=[21, 105], controls=(WidgetControl(options=['position', 'transparent_bg'], widget=HBox(children=(To…"
      ]
     },
     "metadata": {},
     "output_type": "display_data"
    }
   ],
   "source": [
    "Map=emap.Map(center=[21,105], zoom=7)\n",
    "Map"
   ]
  },
  {
   "cell_type": "code",
   "execution_count": 3,
   "id": "2fce0596",
   "metadata": {},
   "outputs": [
    {
     "data": {
      "application/vnd.jupyter.widget-view+json": {
       "model_id": "531c8e700c6141fc9f4f9491dd2d23ca",
       "version_major": 2,
       "version_minor": 0
      },
      "text/plain": [
       "Map(center=[21, 105], controls=(WidgetControl(options=['position', 'transparent_bg'], widget=HBox(children=(To…"
      ]
     },
     "metadata": {},
     "output_type": "display_data"
    }
   ],
   "source": [
    "# Show all basemap availables\n",
    "Map.basemap_demo()\n",
    "Map"
   ]
  },
  {
   "cell_type": "markdown",
   "id": "2cfb1939",
   "metadata": {},
   "source": [
    "# Split Map"
   ]
  },
  {
   "cell_type": "code",
   "execution_count": 44,
   "id": "5df0be30",
   "metadata": {},
   "outputs": [
    {
     "data": {
      "text/plain": [
       "14"
      ]
     },
     "execution_count": 44,
     "metadata": {},
     "output_type": "execute_result"
    }
   ],
   "source": [
    "# Understand the US land cover map\n",
    "lcmap=ee.ImageCollection(\"USGS/NLCD\")\n",
    "\n",
    "lcmap.size().getInfo() # There are 14 land cover maps in the collection"
   ]
  },
  {
   "cell_type": "code",
   "execution_count": 45,
   "id": "27cfea03",
   "metadata": {},
   "outputs": [
    {
     "data": {
      "text/plain": [
       "['USGS/NLCD/NLCD1992',\n",
       " 'USGS/NLCD/NLCD2001',\n",
       " 'USGS/NLCD/NLCD2001_AK',\n",
       " 'USGS/NLCD/NLCD2001_HI',\n",
       " 'USGS/NLCD/NLCD2001_PR',\n",
       " 'USGS/NLCD/NLCD2004',\n",
       " 'USGS/NLCD/NLCD2006',\n",
       " 'USGS/NLCD/NLCD2008',\n",
       " 'USGS/NLCD/NLCD2011',\n",
       " 'USGS/NLCD/NLCD2011_AK',\n",
       " 'USGS/NLCD/NLCD2011_HI',\n",
       " 'USGS/NLCD/NLCD2011_PR',\n",
       " 'USGS/NLCD/NLCD2013',\n",
       " 'USGS/NLCD/NLCD2016']"
      ]
     },
     "execution_count": 45,
     "metadata": {},
     "output_type": "execute_result"
    }
   ],
   "source": [
    "# See specific land covermaps \n",
    "lcmap.aggregate_array(\"system:id\").getInfo()"
   ]
  },
  {
   "cell_type": "code",
   "execution_count": 55,
   "id": "c41adc51",
   "metadata": {},
   "outputs": [
    {
     "data": {
      "application/vnd.jupyter.widget-view+json": {
       "model_id": "28599b32a5ec4bb5b2d89f730627fe3f",
       "version_major": 2,
       "version_minor": 0
      },
      "text/plain": [
       "Map(center=[40, -100], controls=(ZoomControl(options=['position', 'zoom_in_text', 'zoom_in_title', 'zoom_out_t…"
      ]
     },
     "metadata": {},
     "output_type": "display_data"
    }
   ],
   "source": [
    "nlcd_2001 = ee.Image('USGS/NLCD/NLCD2001').select('landcover') # US land cover map 2001\n",
    "nlcd_2016 = ee.Image('USGS/NLCD/NLCD2016').select('landcover') # US land cover map 2016\n",
    "# Define the zoom map\n",
    "Map=emap.Map()\n",
    "\n",
    "left_layer = emap.ee_tile_layer(nlcd_2001, {}, 'NLCD 2001') # Create left_layer map \n",
    "right_layer = emap.ee_tile_layer(nlcd_2016, {}, 'NLCD 2016') # Create right_layer map\n",
    "\n",
    "Map.split_map(left_layer, right_layer)\n",
    "Map"
   ]
  },
  {
   "cell_type": "markdown",
   "id": "cc812cc4",
   "metadata": {},
   "source": [
    "# Drawing and Feature Collection"
   ]
  },
  {
   "cell_type": "code",
   "execution_count": 80,
   "id": "f1661c36",
   "metadata": {},
   "outputs": [
    {
     "data": {
      "application/vnd.jupyter.widget-view+json": {
       "model_id": "28599b32a5ec4bb5b2d89f730627fe3f",
       "version_major": 2,
       "version_minor": 0
      },
      "text/plain": [
       "Map(bottom=1994.0, center=[29.6880527498568, -94.74609375000001], controls=(WidgetControl(options=['position',…"
      ]
     },
     "metadata": {},
     "output_type": "display_data"
    }
   ],
   "source": [
    "# Get US Map\n",
    "usmap=ee.FeatureCollection(\"TIGER/2018/States\")\n",
    "Map.addLayer(usmap,{},\"USMAP\")\n",
    "Map"
   ]
  },
  {
   "cell_type": "code",
   "execution_count": 81,
   "id": "9484e5c4",
   "metadata": {},
   "outputs": [
    {
     "data": {
      "text/plain": [
       "[<ee.feature.Feature at 0x1da1b37ea60>,\n",
       " <ee.feature.Feature at 0x1da1b435460>,\n",
       " <ee.feature.Feature at 0x1da1c5669a0>]"
      ]
     },
     "execution_count": 81,
     "metadata": {},
     "output_type": "execute_result"
    }
   ],
   "source": [
    "# See drawing feature objects\n",
    "Map.draw_features # See how many drawing done or Map.draw_last_features => print the last drawing"
   ]
  },
  {
   "cell_type": "code",
   "execution_count": 82,
   "id": "ecccb074",
   "metadata": {},
   "outputs": [],
   "source": [
    "# Convert the drawing to featurecollection or Feature\n",
    "drawing=ee.FeatureCollection(Map.draw_features)"
   ]
  },
  {
   "cell_type": "code",
   "execution_count": 83,
   "id": "f336f513",
   "metadata": {},
   "outputs": [],
   "source": [
    "# Convert one feature\n",
    "poly=ee.Feature(Map.draw_features[2]) # point feature"
   ]
  },
  {
   "cell_type": "code",
   "execution_count": 84,
   "id": "db114918",
   "metadata": {},
   "outputs": [
    {
     "data": {
      "application/vnd.jupyter.widget-view+json": {
       "model_id": "28599b32a5ec4bb5b2d89f730627fe3f",
       "version_major": 2,
       "version_minor": 0
      },
      "text/plain": [
       "Map(bottom=1994.0, center=[29.6880527498568, -94.74609375000001], controls=(WidgetControl(options=['position',…"
      ]
     },
     "metadata": {},
     "output_type": "display_data"
    }
   ],
   "source": [
    "Map.addLayer(poly,{},\"Poly\")\n",
    "Map"
   ]
  },
  {
   "cell_type": "markdown",
   "id": "43475fc6",
   "metadata": {},
   "source": [
    "# Interactive Map"
   ]
  },
  {
   "cell_type": "code",
   "execution_count": 104,
   "id": "f3285850",
   "metadata": {},
   "outputs": [],
   "source": [
    "import json\n",
    "import requests\n",
    "import os\n",
    "from geemap import geojson_to_ee, ee_to_geojson \n",
    "from ipyleaflet import GeoJSON, Marker, MarkerCluster"
   ]
  },
  {
   "cell_type": "code",
   "execution_count": 106,
   "id": "25aeb025",
   "metadata": {},
   "outputs": [],
   "source": [
    "file_path = r\"F:\\DLR_PhD\\GEE\\Youtube_Tutorial\\us-cities.json\"\n",
    "if not os.path.exists(file_path):\n",
    "    url = 'https://github.com/giswqs/geemap/raw/master/examples/data/us-cities.json'\n",
    "    r = requests.get(url)\n",
    "    with open(file_path, 'w') as f:\n",
    "        f.write(r.content.decode(\"utf-8\"))        \n",
    "\n",
    "with open(file_path) as f:\n",
    "    json_data = json.load(f)"
   ]
  },
  {
   "cell_type": "code",
   "execution_count": 115,
   "id": "cf4739ef",
   "metadata": {},
   "outputs": [],
   "source": [
    "marker_cluster=MarkerCluster(markers=[Marker(location=feature[\"geometry\"][\"coordinates\"][::-1]) for feature in json_data[\"features\"]])"
   ]
  },
  {
   "cell_type": "code",
   "execution_count": 116,
   "id": "c644d515",
   "metadata": {},
   "outputs": [
    {
     "data": {
      "application/vnd.jupyter.widget-view+json": {
       "model_id": "28599b32a5ec4bb5b2d89f730627fe3f",
       "version_major": 2,
       "version_minor": 0
      },
      "text/plain": [
       "Map(bottom=1994.0, center=[29.6880527498568, -94.74609375000001], controls=(WidgetControl(options=['position',…"
      ]
     },
     "metadata": {},
     "output_type": "display_data"
    }
   ],
   "source": [
    "Map.add_layer(marker_cluster)\n",
    "Map"
   ]
  },
  {
   "cell_type": "markdown",
   "id": "4adfb3e6",
   "metadata": {},
   "source": [
    "# Shapefile to GEE object and vice versa"
   ]
  },
  {
   "cell_type": "code",
   "execution_count": 122,
   "id": "54bf1f07",
   "metadata": {},
   "outputs": [],
   "source": [
    "VN_ee=emap.shp_to_ee(r\"F:\\Research\\Maps\\Maps\\VN_Map\\vnm_admbnda_adm1_gov_20200103.shp\")"
   ]
  },
  {
   "cell_type": "code",
   "execution_count": 125,
   "id": "4344d98d",
   "metadata": {},
   "outputs": [
    {
     "name": "stdout",
     "output_type": "stream",
     "text": [
      "Request payload size exceeds the limit: 10485760 bytes.\n"
     ]
    }
   ],
   "source": [
    "emap.ee_to_shp(VN_ee,filename=r\"F:\\DLR_PhD\\GEE\\Youtube_Tutorial\\VN.shp\")"
   ]
  },
  {
   "cell_type": "code",
   "execution_count": null,
   "id": "afba2ab7",
   "metadata": {},
   "outputs": [],
   "source": [
    "# We can export ee to csv\n",
    "emap.ee_export_vector(VN_ee,filename=r\"F:\\DLR_PhD\\GEE\\Youtube_Tutorial\\VN.csv\") # we can also convert it to \"VN.kml\", \"VN.json\""
   ]
  }
 ],
 "metadata": {
  "kernelspec": {
   "display_name": "Python 3 (ipykernel)",
   "language": "python",
   "name": "python3"
  },
  "language_info": {
   "codemirror_mode": {
    "name": "ipython",
    "version": 3
   },
   "file_extension": ".py",
   "mimetype": "text/x-python",
   "name": "python",
   "nbconvert_exporter": "python",
   "pygments_lexer": "ipython3",
   "version": "3.8.10"
  }
 },
 "nbformat": 4,
 "nbformat_minor": 5
}
