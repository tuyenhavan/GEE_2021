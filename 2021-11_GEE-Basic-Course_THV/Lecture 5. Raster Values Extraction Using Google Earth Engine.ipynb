{
 "cells": [
  {
   "cell_type": "code",
   "execution_count": 1,
   "metadata": {},
   "outputs": [],
   "source": [
    "import ee\n",
    "import geemap as emap"
   ]
  },
  {
   "cell_type": "code",
   "execution_count": 2,
   "metadata": {},
   "outputs": [
    {
     "data": {
      "text/html": [
       "<p>To authorize access needed by Earth Engine, open the following\n",
       "        URL in a web browser and follow the instructions:</p>\n",
       "        <p><a href=https://accounts.google.com/o/oauth2/auth?client_id=517222506229-vsmmajv00ul0bs7p89v5m89qs8eb9359.apps.googleusercontent.com&scope=https%3A%2F%2Fwww.googleapis.com%2Fauth%2Fearthengine+https%3A%2F%2Fwww.googleapis.com%2Fauth%2Fdevstorage.full_control&redirect_uri=urn%3Aietf%3Awg%3Aoauth%3A2.0%3Aoob&response_type=code&code_challenge=88h2FbVw4WCEnXaBecFD3ZQjaCwI9ZnxKq88ztAF12I&code_challenge_method=S256>https://accounts.google.com/o/oauth2/auth?client_id=517222506229-vsmmajv00ul0bs7p89v5m89qs8eb9359.apps.googleusercontent.com&scope=https%3A%2F%2Fwww.googleapis.com%2Fauth%2Fearthengine+https%3A%2F%2Fwww.googleapis.com%2Fauth%2Fdevstorage.full_control&redirect_uri=urn%3Aietf%3Awg%3Aoauth%3A2.0%3Aoob&response_type=code&code_challenge=88h2FbVw4WCEnXaBecFD3ZQjaCwI9ZnxKq88ztAF12I&code_challenge_method=S256</a></p>\n",
       "        <p>The authorization workflow will generate a code, which you\n",
       "        should paste in the box below</p>\n",
       "        "
      ],
      "text/plain": [
       "<IPython.core.display.HTML object>"
      ]
     },
     "metadata": {},
     "output_type": "display_data"
    },
    {
     "name": "stdout",
     "output_type": "stream",
     "text": [
      "Enter verification code: 4/1AX4XfWhnf0TLIYDSXbURPocUbbPFYOq2-ZNNVICb2wY3re8n6NMFYccvRiY\n",
      "\n",
      "Successfully saved authorization token.\n"
     ]
    }
   ],
   "source": [
    "# Initialize and authenticate\n",
    "ee.Authenticate()\n",
    "ee.Initialize()"
   ]
  },
  {
   "cell_type": "code",
   "execution_count": null,
   "metadata": {},
   "outputs": [],
   "source": [
    "Map=emap.Map()\n",
    "Map"
   ]
  },
  {
   "cell_type": "markdown",
   "metadata": {},
   "source": [
    "# <font color=\"blue\"> 1. Extract raster values from a single image (single time) <end>\n",
    "    \n",
    "The following code demonstrated how to extract raster values at a `given point` shapefile using various functions.\n",
    "\n",
    "- **Extract rainfall using `.sampleRegions`**"
   ]
  },
  {
   "cell_type": "code",
   "execution_count": null,
   "metadata": {},
   "outputs": [],
   "source": [
    "# Extract total rainfall data for the period from 1/1/2018 to 30/1/2018\n",
    "thang1=ee.ImageCollection(\"UCSB-CHG/CHIRPS/DAILY\").filterDate(\"2018-01-01\",\"2018-01-30\").sum()"
   ]
  },
  {
   "cell_type": "code",
   "execution_count": null,
   "metadata": {},
   "outputs": [],
   "source": [
    "# locations needed to get rainfall data\n",
    "point=ee.FeatureCollection(\"users/miketu72/Test_point\")\n",
    "# Center the point shafile \n",
    "Map.centerObject(point,12)\n",
    "# Visualizing the point data\n",
    "Map.addLayer(point,{},\"Location\")\n",
    "\n",
    "Map"
   ]
  },
  {
   "cell_type": "code",
   "execution_count": null,
   "metadata": {
    "scrolled": true
   },
   "outputs": [],
   "source": [
    "# Extract total January rainfall using sample.Regions method\n",
    "extractedData=thang1.sampleRegions(collection=point, scale=1000,geometries =True).getInfo()"
   ]
  },
  {
   "cell_type": "code",
   "execution_count": null,
   "metadata": {},
   "outputs": [],
   "source": [
    "# Write a function to format extracted Data into a clean and tidy format dataframe\n",
    "import pandas as pd\n",
    "def dataFormat(inputDate):\n",
    "    mlist=[]\n",
    "    coord=[]\n",
    "    for item in inputDate[\"features\"]:\n",
    "        mlist.append(item[\"properties\"])\n",
    "        coord.append(item[\"geometry\"][\"coordinates\"])\n",
    "    test=pd.DataFrame(mlist)\n",
    "    test[\"coordiates\"]=coord\n",
    "    return test"
   ]
  },
  {
   "cell_type": "code",
   "execution_count": null,
   "metadata": {},
   "outputs": [],
   "source": [
    "df=dataFormat(extractedData)\n",
    "df.head() # There are some repeated same values in precipitation, this is due to a coarse resolution and two or more points fall in the same pixel"
   ]
  },
  {
   "cell_type": "markdown",
   "metadata": {},
   "source": [
    "- **Extract mean temperature for a single image using `.sampleRegions`**\n",
    "\n",
    "The below dataset provides hourly global temperature as well as dozens of other variables. If you are more interested in this dataset, please see this [link](https://cds.climate.copernicus.eu/cdsapp#!/dataset/10.24381/cds.e2161bac?tab=overview).\n",
    "\n",
    "The task below aims to extract mean of temperature in January 2017 from hourly temperature dataset."
   ]
  },
  {
   "cell_type": "code",
   "execution_count": null,
   "metadata": {},
   "outputs": [],
   "source": [
    "# Extract mean temperature for the month of January 2017\n",
    "tem=ee.ImageCollection(\"ECMWF/ERA5_LAND/HOURLY\").filterDate(\"2017-01-01\",\"2017-01-30\").select(\"temperature_2m\").mean()"
   ]
  },
  {
   "cell_type": "code",
   "execution_count": null,
   "metadata": {},
   "outputs": [],
   "source": [
    "extractedData=tem.sampleRegions(collection=point, scale=1000,geometries =True).getInfo()"
   ]
  },
  {
   "cell_type": "code",
   "execution_count": null,
   "metadata": {},
   "outputs": [],
   "source": [
    "import pandas as pd\n",
    "def dataFormat(inputDate):\n",
    "    mlist=[]\n",
    "    coord=[]\n",
    "    for item in inputDate[\"features\"]:\n",
    "        mlist.append(item[\"properties\"])\n",
    "        coord.append(item[\"geometry\"][\"coordinates\"])\n",
    "    test=pd.DataFrame(mlist)\n",
    "    test[\"coordiates\"]=coord\n",
    "    test[\"temperature_2m\"]=test.temperature_2m-273.15\n",
    "    return test"
   ]
  },
  {
   "cell_type": "code",
   "execution_count": null,
   "metadata": {
    "scrolled": true
   },
   "outputs": [],
   "source": [
    "# This dataset contains all variables in the dataset such as temperature at 2m. Some values had the same because those points fall \n",
    "# in the same pixel\n",
    "df=dataFormat(extractedData)\n",
    "df.head()"
   ]
  },
  {
   "cell_type": "markdown",
   "metadata": {},
   "source": [
    "- **Extract Landsat surface reflectance `sampleRegions`**"
   ]
  },
  {
   "cell_type": "code",
   "execution_count": null,
   "metadata": {},
   "outputs": [],
   "source": [
    "# Select Landsat 8 SR \n",
    "ls=ee.Image(\"LANDSAT/LC08/C01/T2_SR/LC08_127045_20170417\")"
   ]
  },
  {
   "cell_type": "code",
   "execution_count": null,
   "metadata": {},
   "outputs": [],
   "source": [
    "extractedLS=ls.sampleRegions(collection=point, scale=30,geometries =True).getInfo()"
   ]
  },
  {
   "cell_type": "code",
   "execution_count": null,
   "metadata": {},
   "outputs": [],
   "source": [
    "import pandas as pd\n",
    "def dataFormat(inputDate):\n",
    "    mlist=[]\n",
    "    coord=[]\n",
    "    for item in inputDate[\"features\"]:\n",
    "        mlist.append(item[\"properties\"])\n",
    "        coord.append(tuple(item[\"geometry\"][\"coordinates\"]))\n",
    "    test=pd.DataFrame(mlist)\n",
    "    test[\"coordiates\"]=coord\n",
    "    return test"
   ]
  },
  {
   "cell_type": "code",
   "execution_count": null,
   "metadata": {},
   "outputs": [],
   "source": [
    "df=dataFormat(extractedLS)\n",
    "\n",
    "df.head()"
   ]
  },
  {
   "cell_type": "markdown",
   "metadata": {},
   "source": [
    "# <font color=\"blue\"> Extract time series raster values <end>\n",
    "\n",
    "- **Extract daily rainfal data using `.getRegion` function**"
   ]
  },
  {
   "cell_type": "code",
   "execution_count": null,
   "metadata": {},
   "outputs": [],
   "source": [
    "# Define time period from 1/1/2018 - 30/1/2018\n",
    "daily=ee.ImageCollection(\"ECMWF/ERA5/MONTHLY\").filterDate(\"2018-01-01\",\"2020-12-31\")"
   ]
  },
  {
   "cell_type": "code",
   "execution_count": null,
   "metadata": {},
   "outputs": [],
   "source": [
    "data=daily.getRegion(geometry=point, scale=1000).getInfo()"
   ]
  },
  {
   "cell_type": "code",
   "execution_count": null,
   "metadata": {},
   "outputs": [],
   "source": [
    "df=pd.DataFrame(data[1:], columns=data[0])\n",
    "df"
   ]
  },
  {
   "cell_type": "code",
   "execution_count": null,
   "metadata": {
    "scrolled": true
   },
   "outputs": [],
   "source": [
    "import datetime as dt\n",
    "# This function aims to convert date code into human readable datetime. \n",
    "def timeConverter(date_code):\n",
    "    start_date=dt.datetime(1970,1,1,0,0,0)\n",
    "    hour_number=date_code/(60000*60)\n",
    "    delta=dt.timedelta(hours=hour_number)\n",
    "    end_date=start_date+delta\n",
    "    return end_date\n",
    "# This function to create a formated dataframe\n",
    "import pandas as pd\n",
    "def dataFormat(data):\n",
    "    df=pd.DataFrame(data[1:], columns=data[0])\n",
    "    df[\"time\"]=[timeConverter(i) for i in df.time]\n",
    "    return df\n",
    "test=dataFormat(data)\n",
    "test.head()"
   ]
  },
  {
   "cell_type": "markdown",
   "metadata": {},
   "source": [
    "# <font color=\"blue\"> Alternative method of extracting raster values for a single image </font>\n",
    "\n",
    "The following demonstration focused on using `polygon` shapefile to extract raster values. The extracted value is a mean, median, min, max or other defined numbers of a given polygon."
   ]
  },
  {
   "cell_type": "code",
   "execution_count": 3,
   "metadata": {},
   "outputs": [],
   "source": [
    "# Load Vietnam map that consists of 63 provinces\n",
    "VN=ee.FeatureCollection(\"users/miketu72/VN_Map\")"
   ]
  },
  {
   "cell_type": "markdown",
   "metadata": {},
   "source": [
    "**Daily rainfall and temperature data **"
   ]
  },
  {
   "cell_type": "code",
   "execution_count": 10,
   "metadata": {},
   "outputs": [],
   "source": [
    "rainfall=ee.ImageCollection(\"UCSB-CHG/CHIRPS/DAILY\").filterDate(\"2018-01-01\",\"2019-01-01\").select(\"precipitation\").sum()"
   ]
  },
  {
   "cell_type": "code",
   "execution_count": 11,
   "metadata": {},
   "outputs": [],
   "source": [
    "# MODIS temperature and convert it to degree\n",
    "tem=ee.ImageCollection(\"MODIS/006/MOD11A2\").filterDate(\"2018-01-01\",\"2019-01-01\").select(\"LST_Day_1km\").mean().multiply(0.02).subtract(273.15)"
   ]
  },
  {
   "cell_type": "code",
   "execution_count": 12,
   "metadata": {},
   "outputs": [],
   "source": [
    "# Combine two images into a 2-band image\n",
    "stack=ee.Image([rainfall,tem]) # or ee.Image.cat([list of images]) "
   ]
  },
  {
   "cell_type": "markdown",
   "metadata": {},
   "source": [
    "- **Extract raster values for a given image using `.reduceRegions`**"
   ]
  },
  {
   "cell_type": "code",
   "execution_count": 14,
   "metadata": {},
   "outputs": [],
   "source": [
    "value=stack.reduceRegions(collection=VN,reducer=\"mean\",scale=1000) # Extract temperature and rainfall value for each province at a scale of 1km"
   ]
  },
  {
   "cell_type": "code",
   "execution_count": 16,
   "metadata": {},
   "outputs": [],
   "source": [
    "# Select properties and remove geometry\n",
    "mdict=value.select([\"VARNAME_1\",\"precipitation\",\"LST_Day_1km\"], retainGeometry=False).getInfo()"
   ]
  },
  {
   "cell_type": "code",
   "execution_count": 17,
   "metadata": {},
   "outputs": [
    {
     "data": {
      "text/html": [
       "<div>\n",
       "<style scoped>\n",
       "    .dataframe tbody tr th:only-of-type {\n",
       "        vertical-align: middle;\n",
       "    }\n",
       "\n",
       "    .dataframe tbody tr th {\n",
       "        vertical-align: top;\n",
       "    }\n",
       "\n",
       "    .dataframe thead th {\n",
       "        text-align: right;\n",
       "    }\n",
       "</style>\n",
       "<table border=\"1\" class=\"dataframe\">\n",
       "  <thead>\n",
       "    <tr style=\"text-align: right;\">\n",
       "      <th></th>\n",
       "      <th>LST_Day_1km</th>\n",
       "      <th>VARNAME_1</th>\n",
       "      <th>precipitation</th>\n",
       "    </tr>\n",
       "  </thead>\n",
       "  <tbody>\n",
       "    <tr>\n",
       "      <th>0</th>\n",
       "      <td>28.595952</td>\n",
       "      <td>An Giang</td>\n",
       "      <td>1266.575121</td>\n",
       "    </tr>\n",
       "    <tr>\n",
       "      <th>1</th>\n",
       "      <td>28.562227</td>\n",
       "      <td>Bac Lieu</td>\n",
       "      <td>1921.627244</td>\n",
       "    </tr>\n",
       "    <tr>\n",
       "      <th>2</th>\n",
       "      <td>27.434645</td>\n",
       "      <td>Bac Giang</td>\n",
       "      <td>1900.901591</td>\n",
       "    </tr>\n",
       "    <tr>\n",
       "      <th>3</th>\n",
       "      <td>24.869136</td>\n",
       "      <td>Bac Kan</td>\n",
       "      <td>1961.718338</td>\n",
       "    </tr>\n",
       "    <tr>\n",
       "      <th>4</th>\n",
       "      <td>28.490077</td>\n",
       "      <td>Bac Ninh</td>\n",
       "      <td>1828.250281</td>\n",
       "    </tr>\n",
       "    <tr>\n",
       "      <th>...</th>\n",
       "      <td>...</td>\n",
       "      <td>...</td>\n",
       "      <td>...</td>\n",
       "    </tr>\n",
       "    <tr>\n",
       "      <th>58</th>\n",
       "      <td>29.204907</td>\n",
       "      <td>Can Tho</td>\n",
       "      <td>1337.133902</td>\n",
       "    </tr>\n",
       "    <tr>\n",
       "      <th>59</th>\n",
       "      <td>28.398911</td>\n",
       "      <td>Da Nang</td>\n",
       "      <td>2061.819433</td>\n",
       "    </tr>\n",
       "    <tr>\n",
       "      <th>60</th>\n",
       "      <td>27.902961</td>\n",
       "      <td>Hai Phong</td>\n",
       "      <td>2129.469908</td>\n",
       "    </tr>\n",
       "    <tr>\n",
       "      <th>61</th>\n",
       "      <td>31.815883</td>\n",
       "      <td>Ho Chi Minh</td>\n",
       "      <td>1808.097697</td>\n",
       "    </tr>\n",
       "    <tr>\n",
       "      <th>62</th>\n",
       "      <td>29.183981</td>\n",
       "      <td>Ha Noi</td>\n",
       "      <td>2035.479224</td>\n",
       "    </tr>\n",
       "  </tbody>\n",
       "</table>\n",
       "<p>63 rows × 3 columns</p>\n",
       "</div>"
      ],
      "text/plain": [
       "    LST_Day_1km    VARNAME_1  precipitation\n",
       "0     28.595952     An Giang    1266.575121\n",
       "1     28.562227     Bac Lieu    1921.627244\n",
       "2     27.434645    Bac Giang    1900.901591\n",
       "3     24.869136      Bac Kan    1961.718338\n",
       "4     28.490077     Bac Ninh    1828.250281\n",
       "..          ...          ...            ...\n",
       "58    29.204907      Can Tho    1337.133902\n",
       "59    28.398911      Da Nang    2061.819433\n",
       "60    27.902961    Hai Phong    2129.469908\n",
       "61    31.815883  Ho Chi Minh    1808.097697\n",
       "62    29.183981       Ha Noi    2035.479224\n",
       "\n",
       "[63 rows x 3 columns]"
      ]
     },
     "execution_count": 17,
     "metadata": {},
     "output_type": "execute_result"
    }
   ],
   "source": [
    "# Write a function to form a tidy dataframe\n",
    "import pandas as pd\n",
    "def dataFormat(input_data):\n",
    "    data=mdict[\"features\"]\n",
    "    slist=[]\n",
    "    for i in data:\n",
    "        thuoctinh=i[\"properties\"]\n",
    "        slist.append(thuoctinh)\n",
    "    df=pd.DataFrame(slist)\n",
    "    return df\n",
    "df=dataFormat(mdict)\n",
    "df"
   ]
  },
  {
   "cell_type": "markdown",
   "metadata": {},
   "source": [
    "- **Map over the collection using `reduceRegions()` for a given period of time**"
   ]
  },
  {
   "cell_type": "code",
   "execution_count": 20,
   "metadata": {},
   "outputs": [],
   "source": [
    "def years(year):\n",
    "    start=ee.Date.fromYMD(year,1,1)\n",
    "    end=start.advance(1, \"year\")\n",
    "    rainfall=ee.ImageCollection(\"UCSB-CHG/CHIRPS/DAILY\").filterDate(start,end).select(\"precipitation\").sum()\n",
    "    value=rainfall.reduceRegions(collection=VN,reducer=\"mean\",scale=1000) \n",
    "    mdict=value.select([\"VARNAME_1\",\"mean\"], [\"Province\",\"Precipitation\"],retainGeometry=False).getInfo()\n",
    "    nlist=[]\n",
    "    for key in mdict[\"features\"]:\n",
    "        ketqua=key[\"properties\"]\n",
    "        ketqua[\"Year\"]=year\n",
    "        nlist.append(ketqua)\n",
    "    return nlist    "
   ]
  },
  {
   "cell_type": "code",
   "execution_count": null,
   "metadata": {},
   "outputs": [],
   "source": [
    "# Write a function to format the data\n",
    "\n",
    "def outdf(start_year,end_year):\n",
    "    mlist=list(map(years,range(start_year,end_year)))\n",
    "    flist=[]\n",
    "    for i in mlist:\n",
    "        flist.extend(i)\n",
    "    df=pd.DataFrame(flist)\n",
    "    return df"
   ]
  },
  {
   "cell_type": "code",
   "execution_count": null,
   "metadata": {},
   "outputs": [],
   "source": [
    "# Test the function and get data from 2000 to 2010\n",
    "test=outdf(2000,2011)"
   ]
  },
  {
   "cell_type": "code",
   "execution_count": null,
   "metadata": {},
   "outputs": [],
   "source": [
    "test.head()"
   ]
  }
 ],
 "metadata": {
  "kernelspec": {
   "display_name": "Python 3 (ipykernel)",
   "language": "python",
   "name": "python3"
  },
  "language_info": {
   "codemirror_mode": {
    "name": "ipython",
    "version": 3
   },
   "file_extension": ".py",
   "mimetype": "text/x-python",
   "name": "python",
   "nbconvert_exporter": "python",
   "pygments_lexer": "ipython3",
   "version": "3.8.10"
  }
 },
 "nbformat": 4,
 "nbformat_minor": 4
}
