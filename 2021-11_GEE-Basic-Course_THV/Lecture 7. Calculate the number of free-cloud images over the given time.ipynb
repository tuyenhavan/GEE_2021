{
 "cells": [
  {
   "cell_type": "code",
   "execution_count": 1,
   "id": "6d590270",
   "metadata": {},
   "outputs": [
    {
     "data": {
      "text/html": [
       "<p>To authorize access needed by Earth Engine, open the following\n",
       "        URL in a web browser and follow the instructions:</p>\n",
       "        <p><a href=https://accounts.google.com/o/oauth2/auth?client_id=517222506229-vsmmajv00ul0bs7p89v5m89qs8eb9359.apps.googleusercontent.com&scope=https%3A%2F%2Fwww.googleapis.com%2Fauth%2Fearthengine+https%3A%2F%2Fwww.googleapis.com%2Fauth%2Fdevstorage.full_control&redirect_uri=urn%3Aietf%3Awg%3Aoauth%3A2.0%3Aoob&response_type=code&code_challenge=UHs_qvk2FBH9AKeqJC4UGpjGuTxe7OGF9rpd8LhzglU&code_challenge_method=S256>https://accounts.google.com/o/oauth2/auth?client_id=517222506229-vsmmajv00ul0bs7p89v5m89qs8eb9359.apps.googleusercontent.com&scope=https%3A%2F%2Fwww.googleapis.com%2Fauth%2Fearthengine+https%3A%2F%2Fwww.googleapis.com%2Fauth%2Fdevstorage.full_control&redirect_uri=urn%3Aietf%3Awg%3Aoauth%3A2.0%3Aoob&response_type=code&code_challenge=UHs_qvk2FBH9AKeqJC4UGpjGuTxe7OGF9rpd8LhzglU&code_challenge_method=S256</a></p>\n",
       "        <p>The authorization workflow will generate a code, which you\n",
       "        should paste in the box below</p>\n",
       "        "
      ],
      "text/plain": [
       "<IPython.core.display.HTML object>"
      ]
     },
     "metadata": {},
     "output_type": "display_data"
    },
    {
     "name": "stdout",
     "output_type": "stream",
     "text": [
      "Enter verification code: 4/1AX4XfWiqy_Ci08Lu_mi5DmF-McTAAerlqn_4oer2l3fCw0ALzkBzUnbIJyI\n",
      "\n",
      "Successfully saved authorization token.\n"
     ]
    }
   ],
   "source": [
    "import ee \n",
    "import geemap as emap\n",
    "\n",
    "ee.Authenticate()\n",
    "ee.Initialize()"
   ]
  },
  {
   "cell_type": "code",
   "execution_count": 38,
   "id": "2cef9726",
   "metadata": {},
   "outputs": [],
   "source": [
    "Map=emap.Map()"
   ]
  },
  {
   "cell_type": "markdown",
   "id": "8248ac42",
   "metadata": {},
   "source": [
    "# <font color=\"blue\"> 1. Count the number of free-cloud images <end>"
   ]
  },
  {
   "cell_type": "code",
   "execution_count": 39,
   "id": "636a1927",
   "metadata": {},
   "outputs": [],
   "source": [
    "# Landsat8 and Vietnam map\n",
    "VN=ee.FeatureCollection(\"users/miketu72/VN_Map\")\n",
    "# Filter bounds and date and cloud cover\n",
    "ls8=ee.ImageCollection(\"LANDSAT/LC08/C01/T2_TOA\").filter(ee.Filter.date(\"2013-01-01\",\"2020-12-31\")).\\\n",
    "filter(ee.Filter.bounds(VN)).filter(ee.Filter.lt(\"CLOUD_COVER\",10))"
   ]
  },
  {
   "cell_type": "markdown",
   "id": "b9861b8b",
   "metadata": {},
   "source": [
    "- **User-defined function**\n",
    "\n",
    "This function is to count the number of images with less than 10 percent of cloud"
   ]
  },
  {
   "cell_type": "code",
   "execution_count": 40,
   "id": "2e7571d5",
   "metadata": {},
   "outputs": [],
   "source": [
    "def imageCount(img):\n",
    "    band=img.select(\"B2\").multiply(0).add(1).rename(\"Cloud\").toInt()\n",
    "    return img.addBands(band)\n",
    "\n",
    "cloudCount=ls8.map(imageCount)"
   ]
  },
  {
   "cell_type": "code",
   "execution_count": 41,
   "id": "ee592708",
   "metadata": {},
   "outputs": [],
   "source": [
    "cloud=cloudCount.select(\"Cloud\").sum()"
   ]
  },
  {
   "cell_type": "code",
   "execution_count": 42,
   "id": "dfb12422",
   "metadata": {},
   "outputs": [
    {
     "data": {
      "application/vnd.jupyter.widget-view+json": {
       "model_id": "2df4778c15394468a42c93cdcd45625f",
       "version_major": 2,
       "version_minor": 0
      },
      "text/plain": [
       "Map(center=[40, -100], controls=(WidgetControl(options=['position', 'transparent_bg'], widget=HBox(children=(T…"
      ]
     },
     "metadata": {},
     "output_type": "display_data"
    }
   ],
   "source": [
    "vis_params = {'palette': ['440154', ' 482173', ' 433e85', ' 38588c', ' 2d708e', ' 25858e', ' 1e9b8a', ' 2ab07f', ' 52c569', ' 86d549', ' c2df23', ' fde725'], 'min': 0.0, 'max': 100.0}\n",
    "Map.addLayer(cloud.clip(VN),vis_params,\"Cloud-free Numbers\")\n",
    "\n",
    "Map"
   ]
  },
  {
   "cell_type": "markdown",
   "id": "cdf25d8a",
   "metadata": {},
   "source": [
    "- **Mean Number of images**"
   ]
  },
  {
   "cell_type": "code",
   "execution_count": 47,
   "id": "f4325cb4",
   "metadata": {},
   "outputs": [
    {
     "data": {
      "application/vnd.jupyter.widget-view+json": {
       "model_id": "2df4778c15394468a42c93cdcd45625f",
       "version_major": 2,
       "version_minor": 0
      },
      "text/plain": [
       "Map(bottom=4049.0, center=[15.072123545811683, 104.63378906250001], controls=(WidgetControl(options=['position…"
      ]
     },
     "metadata": {},
     "output_type": "display_data"
    }
   ],
   "source": [
    "cloud1=cloudCount.select(\"Cloud\").sum()\n",
    "\n",
    "img=ee.Image(cloud1).divide(8)\n",
    "\n",
    "Map.addLayer(img,{\"palette\":[\"green\",\"yellow\",\"red\"],\"min\":0.5,\"max\":3},\"Cloud-free\")\n",
    "\n",
    "Map"
   ]
  }
 ],
 "metadata": {
  "kernelspec": {
   "display_name": "Python 3 (ipykernel)",
   "language": "python",
   "name": "python3"
  },
  "language_info": {
   "codemirror_mode": {
    "name": "ipython",
    "version": 3
   },
   "file_extension": ".py",
   "mimetype": "text/x-python",
   "name": "python",
   "nbconvert_exporter": "python",
   "pygments_lexer": "ipython3",
   "version": "3.8.10"
  }
 },
 "nbformat": 4,
 "nbformat_minor": 5
}
