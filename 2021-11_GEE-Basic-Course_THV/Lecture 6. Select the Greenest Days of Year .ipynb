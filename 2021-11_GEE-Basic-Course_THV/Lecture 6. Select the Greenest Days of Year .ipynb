{
 "cells": [
  {
   "cell_type": "code",
   "execution_count": 101,
   "id": "894248a8",
   "metadata": {},
   "outputs": [],
   "source": [
    "import ee\n",
    "import geemap as emap"
   ]
  },
  {
   "cell_type": "code",
   "execution_count": 110,
   "id": "849328d3",
   "metadata": {
    "scrolled": true
   },
   "outputs": [
    {
     "data": {
      "text/html": [
       "<p>To authorize access needed by Earth Engine, open the following\n",
       "        URL in a web browser and follow the instructions:</p>\n",
       "        <p><a href=https://accounts.google.com/o/oauth2/auth?client_id=517222506229-vsmmajv00ul0bs7p89v5m89qs8eb9359.apps.googleusercontent.com&scope=https%3A%2F%2Fwww.googleapis.com%2Fauth%2Fearthengine+https%3A%2F%2Fwww.googleapis.com%2Fauth%2Fdevstorage.full_control&redirect_uri=urn%3Aietf%3Awg%3Aoauth%3A2.0%3Aoob&response_type=code&code_challenge=Xvwuwf3xdWbDqrMJ6LLAdZOh3ZOX5vBqBIxjto4bPJk&code_challenge_method=S256>https://accounts.google.com/o/oauth2/auth?client_id=517222506229-vsmmajv00ul0bs7p89v5m89qs8eb9359.apps.googleusercontent.com&scope=https%3A%2F%2Fwww.googleapis.com%2Fauth%2Fearthengine+https%3A%2F%2Fwww.googleapis.com%2Fauth%2Fdevstorage.full_control&redirect_uri=urn%3Aietf%3Awg%3Aoauth%3A2.0%3Aoob&response_type=code&code_challenge=Xvwuwf3xdWbDqrMJ6LLAdZOh3ZOX5vBqBIxjto4bPJk&code_challenge_method=S256</a></p>\n",
       "        <p>The authorization workflow will generate a code, which you\n",
       "        should paste in the box below</p>\n",
       "        "
      ],
      "text/plain": [
       "<IPython.core.display.HTML object>"
      ]
     },
     "metadata": {},
     "output_type": "display_data"
    },
    {
     "name": "stdout",
     "output_type": "stream",
     "text": [
      "Enter verification code: 4/1AX4XfWgZhcx17WTX0yUzvFYeJDyl4RbSoAl8z6Sn3GvA5NwH_QxpsV4_EoQ\n",
      "\n",
      "Successfully saved authorization token.\n"
     ]
    }
   ],
   "source": [
    "ee.Initialize()\n",
    "ee.Authenticate()"
   ]
  },
  {
   "cell_type": "code",
   "execution_count": 111,
   "id": "4628f5bb",
   "metadata": {},
   "outputs": [],
   "source": [
    "Map=emap.Map()"
   ]
  },
  {
   "cell_type": "markdown",
   "id": "f95758c0",
   "metadata": {},
   "source": [
    "**Append new element to EE List**\n",
    "\n",
    "Please use `mlist`=mlist.add() because without mlist=, it does not work."
   ]
  },
  {
   "cell_type": "code",
   "execution_count": 112,
   "id": "541d8a53",
   "metadata": {},
   "outputs": [
    {
     "data": {
      "text/plain": [
       "[1, 2, 3, 4, 5, 6, 7, 8, 9]"
      ]
     },
     "execution_count": 112,
     "metadata": {},
     "output_type": "execute_result"
    }
   ],
   "source": [
    "mlist=ee.List([])\n",
    "\n",
    "for i in range(1,10):\n",
    "    mlist=mlist.add(i)\n",
    "mlist.getInfo()"
   ]
  },
  {
   "cell_type": "markdown",
   "id": "e35e527b",
   "metadata": {},
   "source": [
    "# <font color=\"blue\"> 1. Preprocess Landsat 7 with error <end>"
   ]
  },
  {
   "cell_type": "markdown",
   "id": "a2a887a2",
   "metadata": {},
   "source": [
    "- **Landsat 7**"
   ]
  },
  {
   "cell_type": "code",
   "execution_count": 113,
   "id": "79aa365f",
   "metadata": {},
   "outputs": [],
   "source": [
    "# Study area\n",
    "site=ee.FeatureCollection(\"users/miketu72/Test_Area\")\n",
    "# Filter Landsat 7\n",
    "ls7=ee.ImageCollection('LANDSAT/LE07/C01/T1_SR').filter(ee.Filter.date(\"2019-01-01\",\"2020-12-31\")).\\\n",
    "filter(ee.Filter.bounds(site)).filter(ee.Filter.lt(\"CLOUD_COVER\",30))"
   ]
  },
  {
   "cell_type": "code",
   "execution_count": 114,
   "id": "f22acdf4",
   "metadata": {},
   "outputs": [
    {
     "data": {
      "text/plain": [
       "6"
      ]
     },
     "execution_count": 114,
     "metadata": {},
     "output_type": "execute_result"
    }
   ],
   "source": [
    "# See the number of images over the period\n",
    "ls7.size().getInfo()"
   ]
  },
  {
   "cell_type": "code",
   "execution_count": 115,
   "id": "f6b38750",
   "metadata": {
    "scrolled": true
   },
   "outputs": [
    {
     "data": {
      "application/vnd.jupyter.widget-view+json": {
       "model_id": "c09718ea7e5b4b19bca4c8a233d7f0f9",
       "version_major": 2,
       "version_minor": 0
      },
      "text/plain": [
       "Map(center=[40, -100], controls=(WidgetControl(options=['position', 'transparent_bg'], widget=HBox(children=(T…"
      ]
     },
     "metadata": {},
     "output_type": "display_data"
    }
   ],
   "source": [
    "# Visualize the first image\n",
    "vis={\"bands\":[\"B3\",\"B2\",\"B1\"],\"min\":-126.21, \"max\":1631.78}\n",
    "Map.centerObject(site)\n",
    "Map.addLayer(ls7.first(),vis,\"LS7\")\n",
    "Map"
   ]
  },
  {
   "cell_type": "markdown",
   "id": "c6fdc58d",
   "metadata": {},
   "source": [
    "- **Using focal_mean to fill empty values**\n",
    "\n",
    "This function is based on `http://www.acgeospatial.co.uk/` website."
   ]
  },
  {
   "cell_type": "code",
   "execution_count": 108,
   "id": "4d965293",
   "metadata": {},
   "outputs": [],
   "source": [
    "# Write the function using focal_mean\n",
    "def focalMean(img):\n",
    "    fillValue=img.focal_mean(2,\"square\",\"pixels\",1)\n",
    "    image=fillValue.blend(img)\n",
    "    return image\n",
    "# Map over the collection\n",
    "\n",
    "ls7Coll=ls7.map(focalMean)"
   ]
  },
  {
   "cell_type": "code",
   "execution_count": 109,
   "id": "2669152a",
   "metadata": {},
   "outputs": [
    {
     "data": {
      "application/vnd.jupyter.widget-view+json": {
       "model_id": "c8bbf3cee4664c17b054fc5c9bbe099f",
       "version_major": 2,
       "version_minor": 0
      },
      "text/plain": [
       "Map(center=[21.24769080667753, 105.49588904011833], controls=(WidgetControl(options=['position', 'transparent_…"
      ]
     },
     "metadata": {},
     "output_type": "display_data"
    }
   ],
   "source": [
    "Map.addLayer(ls7Coll.first(),vis,\"LS7 With Focal Mean\")\n",
    "Map # Not completely resolve the problem"
   ]
  },
  {
   "cell_type": "markdown",
   "id": "204471c2",
   "metadata": {},
   "source": [
    "# <font color=\"blue\"> 2. Select the greenest days of year in Landsat 8 <end>"
   ]
  },
  {
   "cell_type": "markdown",
   "id": "6a53683c",
   "metadata": {},
   "source": [
    "- **Landsat 8**"
   ]
  },
  {
   "cell_type": "code",
   "execution_count": 88,
   "id": "31452fc0",
   "metadata": {},
   "outputs": [],
   "source": [
    "# VN Area\n",
    "VN=ee.FeatureCollection(\"users/miketu72/VN_Map\")\n",
    "ls8 = ee.ImageCollection('LANDSAT/LC08/C01/T1_SR').filter(ee.Filter.date(\"2019-01-01\",\"2020-12-31\")).\\\n",
    "filter(ee.Filter.bounds(VN)).filter(ee.Filter.lt(\"CLOUD_COVER\",60))"
   ]
  },
  {
   "cell_type": "code",
   "execution_count": 89,
   "id": "88c77548",
   "metadata": {},
   "outputs": [
    {
     "data": {
      "application/vnd.jupyter.widget-view+json": {
       "model_id": "f0188cc6c67b46a7859bee4336e23c0f",
       "version_major": 2,
       "version_minor": 0
      },
      "text/plain": [
       "Map(center=[21.24769080667753, 105.49588904011833], controls=(WidgetControl(options=['position', 'transparent_…"
      ]
     },
     "metadata": {},
     "output_type": "display_data"
    }
   ],
   "source": [
    "vis={\"bands\":[\"B4\",\"B3\",\"B2\"],\"min\":-1415.85, \"max\":5000.87}\n",
    "Map.addLayer(ls8.first(),vis,\"LS8\")\n",
    "Map # Not completely resolve the problem"
   ]
  },
  {
   "cell_type": "markdown",
   "id": "2fc35ef0",
   "metadata": {},
   "source": [
    "- **Write a function to create a band of DOY, MOY and NDVI for each image**"
   ]
  },
  {
   "cell_type": "code",
   "execution_count": 90,
   "id": "333c01ed",
   "metadata": {},
   "outputs": [],
   "source": [
    "def addImage(img):\n",
    "    dayString=img.date().format(\"D\")\n",
    "    monthString=img.date().format(\"M\")\n",
    "    dayNum=ee.Number.parse(dayString)\n",
    "    monthNum=ee.Number.parse(monthString)\n",
    "    dayBand=img.select(\"B2\").multiply(0).add(dayNum).rename(\"DOY\").toInt() # the day of the year and needs to add .toInt()\n",
    "    monthBand=img.select(\"B2\").multiply(0).add(monthNum).rename(\"MOY\").toInt() # Month of the year\n",
    "    ndvi=img.expression(\"(NIR-RED)/(NIR+RED)\",{\n",
    "        'NIR':img.select(\"B5\"),\n",
    "        'RED':img.select(\"B4\")}).rename(\"NDVI\")\n",
    "    image=img.addBands(dayBand).addBands(monthBand).addBands(ndvi)\n",
    "    return image\n",
    "collection=ls8.map(addImage)"
   ]
  },
  {
   "cell_type": "code",
   "execution_count": 91,
   "id": "1428bf21",
   "metadata": {},
   "outputs": [],
   "source": [
    "# get the greenest pixel \n",
    "green=collection.qualityMosaic(\"NDVI\")"
   ]
  },
  {
   "cell_type": "code",
   "execution_count": 92,
   "id": "f98f5282",
   "metadata": {},
   "outputs": [
    {
     "data": {
      "application/vnd.jupyter.widget-view+json": {
       "model_id": "f0188cc6c67b46a7859bee4336e23c0f",
       "version_major": 2,
       "version_minor": 0
      },
      "text/plain": [
       "Map(center=[21.24769080667753, 105.49588904011833], controls=(WidgetControl(options=['position', 'transparent_…"
      ]
     },
     "metadata": {},
     "output_type": "display_data"
    }
   ],
   "source": [
    "vis_params = {'palette': ['fde725', ' c2df23', ' 86d549', ' 52c569', ' 2ab07f', ' 1e9b8a', ' 25858e', ' 2d708e', ' 38588c', ' 433e85', ' 482173', ' 440154'], 'min': 1.0, 'max': 365.0}\n",
    "Map.addLayer(green.select(\"DOY\").clip(VN),vis_params,\"DOY\")\n",
    "Map"
   ]
  },
  {
   "cell_type": "code",
   "execution_count": null,
   "id": "bcc22429",
   "metadata": {},
   "outputs": [],
   "source": []
  }
 ],
 "metadata": {
  "kernelspec": {
   "display_name": "Python 3 (ipykernel)",
   "language": "python",
   "name": "python3"
  },
  "language_info": {
   "codemirror_mode": {
    "name": "ipython",
    "version": 3
   },
   "file_extension": ".py",
   "mimetype": "text/x-python",
   "name": "python",
   "nbconvert_exporter": "python",
   "pygments_lexer": "ipython3",
   "version": "3.8.10"
  }
 },
 "nbformat": 4,
 "nbformat_minor": 5
}
